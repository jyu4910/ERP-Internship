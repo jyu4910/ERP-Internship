{
 "cells": [
  {
   "cell_type": "markdown",
   "metadata": {},
   "source": [
    "Import all the necessary libraries."
   ]
  },
  {
   "cell_type": "code",
   "execution_count": 1,
   "metadata": {},
   "outputs": [],
   "source": [
    "from datascience import *\n",
    "import pandas as pd \n",
    "import numpy as np\n",
    "import matplotlib.pyplot as plt\n",
    "%matplotlib inline\n",
    "\n",
    "import seaborn as sns"
   ]
  },
  {
   "cell_type": "markdown",
   "metadata": {},
   "source": [
    "Read in the excel file with the names of the columns."
   ]
  },
  {
   "cell_type": "code",
   "execution_count": 2,
   "metadata": {},
   "outputs": [
    {
     "data": {
      "text/html": [
       "<div>\n",
       "<style scoped>\n",
       "    .dataframe tbody tr th:only-of-type {\n",
       "        vertical-align: middle;\n",
       "    }\n",
       "\n",
       "    .dataframe tbody tr th {\n",
       "        vertical-align: top;\n",
       "    }\n",
       "\n",
       "    .dataframe thead th {\n",
       "        text-align: right;\n",
       "    }\n",
       "</style>\n",
       "<table border=\"1\" class=\"dataframe\">\n",
       "  <thead>\n",
       "    <tr style=\"text-align: right;\">\n",
       "      <th></th>\n",
       "      <th>Dept</th>\n",
       "      <th>Course</th>\n",
       "      <th>Overall Rating</th>\n",
       "      <th>Useful</th>\n",
       "      <th>Clearly</th>\n",
       "      <th>Speed</th>\n",
       "      <th>Well</th>\n",
       "      <th>Comfortable</th>\n",
       "      <th>Helpful</th>\n",
       "      <th>Comments</th>\n",
       "    </tr>\n",
       "  </thead>\n",
       "  <tbody>\n",
       "    <tr>\n",
       "      <th>0</th>\n",
       "      <td>NaN</td>\n",
       "      <td>NaN</td>\n",
       "      <td>NaN</td>\n",
       "      <td>NaN</td>\n",
       "      <td>NaN</td>\n",
       "      <td>NaN</td>\n",
       "      <td>NaN</td>\n",
       "      <td>NaN</td>\n",
       "      <td>NaN</td>\n",
       "      <td>NaN</td>\n",
       "    </tr>\n",
       "    <tr>\n",
       "      <th>1</th>\n",
       "      <td>Dept</td>\n",
       "      <td>Course</td>\n",
       "      <td>Overall Rating</td>\n",
       "      <td>How useful were the course materials?</td>\n",
       "      <td>How clearly did the instructor explain the mat...</td>\n",
       "      <td>Speed?</td>\n",
       "      <td>How well did instructor answer questions?</td>\n",
       "      <td>How comfortable did you feel voicing your opin...</td>\n",
       "      <td>How helpful was Tyler U in preparing for the c...</td>\n",
       "      <td>Comments</td>\n",
       "    </tr>\n",
       "    <tr>\n",
       "      <th>2</th>\n",
       "      <td>ASD</td>\n",
       "      <td>AP Invoice - End Users</td>\n",
       "      <td>Very Good</td>\n",
       "      <td>Extremely Useful</td>\n",
       "      <td>Extremely Clearly</td>\n",
       "      <td>Right Amount</td>\n",
       "      <td>Extremely Well</td>\n",
       "      <td>Extremely Comfortable</td>\n",
       "      <td>Very Helpful</td>\n",
       "      <td>NaN</td>\n",
       "    </tr>\n",
       "    <tr>\n",
       "      <th>3</th>\n",
       "      <td>CSD</td>\n",
       "      <td>AP Invoice - End Users</td>\n",
       "      <td>Very Good</td>\n",
       "      <td>Very Useful</td>\n",
       "      <td>Extremely Clearly</td>\n",
       "      <td>Right Amount</td>\n",
       "      <td>Extremely Well</td>\n",
       "      <td>Very Comfortable</td>\n",
       "      <td>Very Helpful</td>\n",
       "      <td>NaN</td>\n",
       "    </tr>\n",
       "    <tr>\n",
       "      <th>4</th>\n",
       "      <td>ASD</td>\n",
       "      <td>AP Invoice - End Users</td>\n",
       "      <td>Very Good</td>\n",
       "      <td>Very Useful</td>\n",
       "      <td>Somewhat Clearly</td>\n",
       "      <td>Right Amount</td>\n",
       "      <td>Very Well</td>\n",
       "      <td>Very Comfortable</td>\n",
       "      <td>Somewhat Helpful</td>\n",
       "      <td>This was the first training ever attended. Ver...</td>\n",
       "    </tr>\n",
       "  </tbody>\n",
       "</table>\n",
       "</div>"
      ],
      "text/plain": [
       "   Dept                  Course  Overall Rating  \\\n",
       "0   NaN                     NaN             NaN   \n",
       "1  Dept                  Course  Overall Rating   \n",
       "2   ASD  AP Invoice - End Users       Very Good   \n",
       "3   CSD  AP Invoice - End Users       Very Good   \n",
       "4   ASD  AP Invoice - End Users       Very Good   \n",
       "\n",
       "                                  Useful  \\\n",
       "0                                    NaN   \n",
       "1  How useful were the course materials?   \n",
       "2                       Extremely Useful   \n",
       "3                            Very Useful   \n",
       "4                            Very Useful   \n",
       "\n",
       "                                             Clearly         Speed  \\\n",
       "0                                                NaN           NaN   \n",
       "1  How clearly did the instructor explain the mat...        Speed?   \n",
       "2                                  Extremely Clearly  Right Amount   \n",
       "3                                  Extremely Clearly  Right Amount   \n",
       "4                                   Somewhat Clearly  Right Amount   \n",
       "\n",
       "                                        Well  \\\n",
       "0                                        NaN   \n",
       "1  How well did instructor answer questions?   \n",
       "2                             Extremely Well   \n",
       "3                             Extremely Well   \n",
       "4                                  Very Well   \n",
       "\n",
       "                                         Comfortable  \\\n",
       "0                                                NaN   \n",
       "1  How comfortable did you feel voicing your opin...   \n",
       "2                              Extremely Comfortable   \n",
       "3                                   Very Comfortable   \n",
       "4                                   Very Comfortable   \n",
       "\n",
       "                                             Helpful  \\\n",
       "0                                                NaN   \n",
       "1  How helpful was Tyler U in preparing for the c...   \n",
       "2                                       Very Helpful   \n",
       "3                                       Very Helpful   \n",
       "4                                   Somewhat Helpful   \n",
       "\n",
       "                                            Comments  \n",
       "0                                                NaN  \n",
       "1                                           Comments  \n",
       "2                                                NaN  \n",
       "3                                                NaN  \n",
       "4  This was the first training ever attended. Ver...  "
      ]
     },
     "execution_count": 2,
     "metadata": {},
     "output_type": "execute_result"
    }
   ],
   "source": [
    "survey_data = pd.read_excel('Survey.xlsx', header = None, names = ['Dept', 'Course', 'Overall Rating', 'Useful', 'Clearly',\n",
    "                                                                   'Speed', 'Well', 'Comfortable', 'Helpful', 'Comments']) \n",
    "survey_data.head()"
   ]
  },
  {
   "cell_type": "markdown",
   "metadata": {},
   "source": [
    "Remove the first two rows, reset the index, drop the index column that was created from resetting, drop all NaN rows, and replace 'Extremely Well ' with 'Extremely Well'."
   ]
  },
  {
   "cell_type": "code",
   "execution_count": 3,
   "metadata": {},
   "outputs": [
    {
     "data": {
      "text/html": [
       "<div>\n",
       "<style scoped>\n",
       "    .dataframe tbody tr th:only-of-type {\n",
       "        vertical-align: middle;\n",
       "    }\n",
       "\n",
       "    .dataframe tbody tr th {\n",
       "        vertical-align: top;\n",
       "    }\n",
       "\n",
       "    .dataframe thead th {\n",
       "        text-align: right;\n",
       "    }\n",
       "</style>\n",
       "<table border=\"1\" class=\"dataframe\">\n",
       "  <thead>\n",
       "    <tr style=\"text-align: right;\">\n",
       "      <th></th>\n",
       "      <th>Dept</th>\n",
       "      <th>Course</th>\n",
       "      <th>Overall Rating</th>\n",
       "      <th>Useful</th>\n",
       "      <th>Clearly</th>\n",
       "      <th>Speed</th>\n",
       "      <th>Well</th>\n",
       "      <th>Comfortable</th>\n",
       "      <th>Helpful</th>\n",
       "      <th>Comments</th>\n",
       "    </tr>\n",
       "  </thead>\n",
       "  <tbody>\n",
       "    <tr>\n",
       "      <th>0</th>\n",
       "      <td>ASD</td>\n",
       "      <td>AP Invoice - End Users</td>\n",
       "      <td>Very Good</td>\n",
       "      <td>Extremely Useful</td>\n",
       "      <td>Extremely Clearly</td>\n",
       "      <td>Right Amount</td>\n",
       "      <td>Extremely Well</td>\n",
       "      <td>Extremely Comfortable</td>\n",
       "      <td>Very Helpful</td>\n",
       "      <td>NaN</td>\n",
       "    </tr>\n",
       "    <tr>\n",
       "      <th>1</th>\n",
       "      <td>CSD</td>\n",
       "      <td>AP Invoice - End Users</td>\n",
       "      <td>Very Good</td>\n",
       "      <td>Very Useful</td>\n",
       "      <td>Extremely Clearly</td>\n",
       "      <td>Right Amount</td>\n",
       "      <td>Extremely Well</td>\n",
       "      <td>Very Comfortable</td>\n",
       "      <td>Very Helpful</td>\n",
       "      <td>NaN</td>\n",
       "    </tr>\n",
       "    <tr>\n",
       "      <th>2</th>\n",
       "      <td>ASD</td>\n",
       "      <td>AP Invoice - End Users</td>\n",
       "      <td>Very Good</td>\n",
       "      <td>Very Useful</td>\n",
       "      <td>Somewhat Clearly</td>\n",
       "      <td>Right Amount</td>\n",
       "      <td>Very Well</td>\n",
       "      <td>Very Comfortable</td>\n",
       "      <td>Somewhat Helpful</td>\n",
       "      <td>This was the first training ever attended. Ver...</td>\n",
       "    </tr>\n",
       "    <tr>\n",
       "      <th>3</th>\n",
       "      <td>PD</td>\n",
       "      <td>AP Invoice - End Users</td>\n",
       "      <td>Good</td>\n",
       "      <td>Somewhat Useful</td>\n",
       "      <td>Very Clearly</td>\n",
       "      <td>Too Fast</td>\n",
       "      <td>Very Well</td>\n",
       "      <td>Not so Comfortable</td>\n",
       "      <td>Not so Helpful</td>\n",
       "      <td>NaN</td>\n",
       "    </tr>\n",
       "    <tr>\n",
       "      <th>4</th>\n",
       "      <td>PD</td>\n",
       "      <td>AP Invoice - End Users</td>\n",
       "      <td>Very Good</td>\n",
       "      <td>Very Useful</td>\n",
       "      <td>Very Clearly</td>\n",
       "      <td>Right Amount</td>\n",
       "      <td>Very Well</td>\n",
       "      <td>Very Comfortable</td>\n",
       "      <td>Very Helpful</td>\n",
       "      <td>More practice runs for real live data!</td>\n",
       "    </tr>\n",
       "  </tbody>\n",
       "</table>\n",
       "</div>"
      ],
      "text/plain": [
       "  Dept                  Course Overall Rating            Useful  \\\n",
       "0  ASD  AP Invoice - End Users      Very Good  Extremely Useful   \n",
       "1  CSD  AP Invoice - End Users      Very Good       Very Useful   \n",
       "2  ASD  AP Invoice - End Users      Very Good       Very Useful   \n",
       "3   PD  AP Invoice - End Users           Good   Somewhat Useful   \n",
       "4   PD  AP Invoice - End Users      Very Good       Very Useful   \n",
       "\n",
       "             Clearly         Speed            Well            Comfortable  \\\n",
       "0  Extremely Clearly  Right Amount  Extremely Well  Extremely Comfortable   \n",
       "1  Extremely Clearly  Right Amount  Extremely Well       Very Comfortable   \n",
       "2   Somewhat Clearly  Right Amount       Very Well       Very Comfortable   \n",
       "3       Very Clearly      Too Fast       Very Well     Not so Comfortable   \n",
       "4       Very Clearly  Right Amount       Very Well       Very Comfortable   \n",
       "\n",
       "            Helpful                                           Comments  \n",
       "0      Very Helpful                                                NaN  \n",
       "1      Very Helpful                                                NaN  \n",
       "2  Somewhat Helpful  This was the first training ever attended. Ver...  \n",
       "3    Not so Helpful                                                NaN  \n",
       "4      Very Helpful             More practice runs for real live data!  "
      ]
     },
     "execution_count": 3,
     "metadata": {},
     "output_type": "execute_result"
    }
   ],
   "source": [
    "survey_data.drop(0, inplace = True)\n",
    "survey_data.drop(1, inplace = True)\n",
    "survey_data.reset_index(inplace = True)\n",
    "survey_data.drop(['index'], axis = 1, inplace = True)\n",
    "survey_data.drop([186, 187, 188, 189, 190, 191, 192, 193, 194, 195, 196, 197], inplace = True)\n",
    "survey_data['Well'].replace('Extremely Well ', 'Extremely Well', inplace = True)\n",
    "survey_data.head()"
   ]
  },
  {
   "cell_type": "markdown",
   "metadata": {},
   "source": [
    "Create a bar chart that shows how many people in each department are in the dataset. "
   ]
  },
  {
   "cell_type": "code",
   "execution_count": 4,
   "metadata": {},
   "outputs": [
    {
     "data": {
      "image/png": "[encoded data removed]",
      "text/plain": [
       "<Figure size 576x576 with 1 Axes>"
      ]
     },
     "metadata": {
      "needs_background": "light"
     },
     "output_type": "display_data"
    }
   ],
   "source": [
    "survey_data['Dept'] = pd.Categorical(survey_data['Dept'], categories = ['ASD', 'CDD', 'City Att', 'City Clk', 'City Mgr', \n",
    "                                                                        'CSD', 'EDD', 'FD', 'HR', 'IT', 'MUD', 'PD', 'PW'], \n",
    "                                                ordered = True)\n",
    "value = survey_data['Dept'].value_counts().sort_index()\n",
    "\n",
    "value.plot(kind = 'barh', figsize = (8,8));\n",
    "plt.title('All Dept Count');\n",
    "plt.xlabel('Count');\n",
    "plt.ylabel('Rating');"
   ]
  },
  {
   "cell_type": "markdown",
   "metadata": {},
   "source": [
    "Create a bar graph for all departments for all the questions that were in the survey."
   ]
  },
  {
   "cell_type": "code",
   "execution_count": 5,
   "metadata": {},
   "outputs": [
    {
     "data": {
      "image/png": "[encoded data removed]",
      "text/plain": [
       "<Figure size 576x576 with 1 Axes>"
      ]
     },
     "metadata": {
      "needs_background": "light"
     },
     "output_type": "display_data"
    }
   ],
   "source": [
    "survey_data['Overall Rating'] = pd.Categorical(survey_data['Overall Rating'], categories = ['Poor', 'Fair', 'Good', \n",
    "                                                                                              'Very Good', 'Excellent'], \n",
    "                                                ordered = True)\n",
    "value = survey_data['Overall Rating'].value_counts().sort_index()\n",
    "value.plot(kind = 'barh', figsize = (8,8));\n",
    "plt.title('Overall Rating');\n",
    "plt.xlabel('Count');\n",
    "plt.ylabel('Rating');"
   ]
  },
  {
   "cell_type": "code",
   "execution_count": 6,
   "metadata": {},
   "outputs": [
    {
     "data": {
      "image/png": "[encoded data removed]",
      "text/plain": [
       "<Figure size 576x576 with 1 Axes>"
      ]
     },
     "metadata": {
      "needs_background": "light"
     },
     "output_type": "display_data"
    }
   ],
   "source": [
    "survey_data['Useful'] = pd.Categorical(survey_data['Useful'], categories = ['Not at all Useful', 'Not so Useful', \n",
    "                                                                              'Somewhat Useful', 'Very Useful', \n",
    "                                                                              'Extremely Useful'], ordered = True)\n",
    "value = survey_data['Useful'].value_counts().sort_index()\n",
    "value.plot(kind = 'barh', figsize = (8,8));\n",
    "plt.title('How Useful Were The Course Materials?');\n",
    "plt.xlabel('Count');\n",
    "plt.ylabel('Rating');"
   ]
  },
  {
   "cell_type": "code",
   "execution_count": 7,
   "metadata": {},
   "outputs": [
    {
     "data": {
      "image/png": "[encoded data removed]",
      "text/plain": [
       "<Figure size 576x576 with 1 Axes>"
      ]
     },
     "metadata": {
      "needs_background": "light"
     },
     "output_type": "display_data"
    }
   ],
   "source": [
    "survey_data['Clearly'] = pd.Categorical(survey_data['Clearly'], categories = ['Not at all Clearly', 'Not so Clearly', \n",
    "                                                                              'Somewhat Clearly', 'Very Clearly', \n",
    "                                                                              'Extremely Clearly'], ordered = True)\n",
    "value = survey_data['Clearly'].value_counts().sort_index()\n",
    "value.plot(kind = 'barh', figsize = (8,8));\n",
    "plt.title('How Clearly Did The Instructor Explain?');\n",
    "plt.xlabel('Count');\n",
    "plt.ylabel('Rating');"
   ]
  },
  {
   "cell_type": "code",
   "execution_count": 8,
   "metadata": {},
   "outputs": [
    {
     "data": {
      "image/png": "[encoded data removed]",
      "text/plain": [
       "<Figure size 576x576 with 1 Axes>"
      ]
     },
     "metadata": {
      "needs_background": "light"
     },
     "output_type": "display_data"
    }
   ],
   "source": [
    "survey_data['Speed'] = pd.Categorical(survey_data['Speed'], categories = ['Much too Slow', 'Too Slow', \n",
    "                                                                              'Right Amount', 'Too Fast', \n",
    "                                                                              'Much too Fast'], ordered = True)\n",
    "value = survey_data['Speed'].value_counts().sort_index()\n",
    "value.plot(kind = 'barh', figsize = (8,8));\n",
    "plt.title('How Was The Speed With Which The Instructor Presented The Material?');\n",
    "plt.xlabel('Count');\n",
    "plt.ylabel('Rating');"
   ]
  },
  {
   "cell_type": "code",
   "execution_count": 9,
   "metadata": {},
   "outputs": [
    {
     "data": {
      "image/png": "[encoded data removed]",
      "text/plain": [
       "<Figure size 576x576 with 1 Axes>"
      ]
     },
     "metadata": {
      "needs_background": "light"
     },
     "output_type": "display_data"
    }
   ],
   "source": [
    "survey_data['Well'] = pd.Categorical(survey_data['Well'], categories = ['Not at all Well', 'Not so Well', \n",
    "                                                                              'Somewhat Well', 'Very Well', \n",
    "                                                                              'Extremely Well'], ordered = True)\n",
    "value = survey_data['Well'].value_counts().sort_index()\n",
    "value.plot(kind = 'barh', figsize = (8,8));\n",
    "plt.title('How Well Did The Instructor Answer Questions?');\n",
    "plt.xlabel('Count');\n",
    "plt.ylabel('Rating');"
   ]
  },
  {
   "cell_type": "code",
   "execution_count": 10,
   "metadata": {},
   "outputs": [
    {
     "data": {
      "image/png": "[encoded data removed]",
      "text/plain": [
       "<Figure size 576x576 with 1 Axes>"
      ]
     },
     "metadata": {
      "needs_background": "light"
     },
     "output_type": "display_data"
    }
   ],
   "source": [
    "survey_data['Comfortable'] = pd.Categorical(survey_data['Comfortable'], categories = ['Not at all Comfortable', \n",
    "                                                                                      'Not so Comfortable', \n",
    "                                                                              'Somewhat Comfortable', 'Very Comfortable', \n",
    "                                                                              'Extremely Comfortable'], ordered = True)\n",
    "value = survey_data['Comfortable'].value_counts().sort_index()\n",
    "value.plot(kind = 'barh', figsize = (8,8));\n",
    "plt.title('How Comfortable Did You Feel Voicing Your Opinion?');\n",
    "plt.xlabel('Count');\n",
    "plt.ylabel('Rating');"
   ]
  },
  {
   "cell_type": "code",
   "execution_count": 11,
   "metadata": {},
   "outputs": [
    {
     "data": {
      "image/png": "[encoded data removed]",
      "text/plain": [
       "<Figure size 576x576 with 1 Axes>"
      ]
     },
     "metadata": {
      "needs_background": "light"
     },
     "output_type": "display_data"
    }
   ],
   "source": [
    "survey_data['Helpful'] = pd.Categorical(survey_data['Helpful'], categories = ['Not at all Helpful', 'Not so Helpful', \n",
    "                                                                              'Somewhat Helpful', 'Very Helpful', \n",
    "                                                                              'Extremely Helpful'], ordered = True)\n",
    "value = survey_data['Helpful'].value_counts().sort_index()\n",
    "value.plot(kind = 'barh', figsize = (8,8));\n",
    "plt.title('How Helpful Was Tyler University In Preparing You For The Course?');\n",
    "plt.xlabel('Count');\n",
    "plt.ylabel('Rating');"
   ]
  },
  {
   "cell_type": "markdown",
   "metadata": {},
   "source": [
    "Create a function that replaces all answer choices with either postive, negative, or neutral."
   ]
  },
  {
   "cell_type": "code",
   "execution_count": 12,
   "metadata": {},
   "outputs": [],
   "source": [
    "def pos_neg(df):\n",
    "    df = df.copy()\n",
    "    df['Overall Rating'] = df['Overall Rating'].map({'Poor' : 'Negative', 'Fair' : 'Negative', 'Good' : 'Neutral', \n",
    "                                                     'Very Good' : 'Positive', 'Excellent' : 'Positive'})\n",
    "    df['Useful'] = df['Useful'].map({'Not at all Useful' : 'Negative', 'Not so Useful' : 'Negative', \n",
    "                                     'Somewhat Useful' : 'Neutral', 'Very Useful' : 'Positive', \n",
    "                                     'Extremely Useful' : 'Positive'})\n",
    "    df['Clearly'] = df['Clearly'].map({'Not at all Clearly' : 'Negative', 'Not so Clearly' : 'Negative', \n",
    "                                     'Somewhat Clearly' : 'Neutral', 'Very Clearly' : 'Positive', \n",
    "                                     'Extremely Clearly' : 'Positive'})\n",
    "    df['Speed'] = df['Speed'].map({'Much too Slow' : 'Negative', 'Too Slow' : 'Negative', 'Right Amount' : 'Positive', \n",
    "                                   'Too Fast' : 'Negative', 'Much too Fast' : 'Negative'})\n",
    "    df['Well'] = df['Well'].map({'Not at all Well' : 'Negative', 'Not so Well' : 'Negative', \n",
    "                                     'Somewhat Well' : 'Neutral', 'Very Well' : 'Positive', \n",
    "                                     'Extremely Well' : 'Positive'})\n",
    "    df['Comfortable'] = df['Comfortable'].map({'Not at all Comfortable' : 'Negative', 'Not so Comfortable' : 'Negative', \n",
    "                                     'Somewhat Comfortable' : 'Neutral', 'Very Comfortable' : 'Positive', \n",
    "                                     'Extremely Comfortable' : 'Positive'})\n",
    "    df['Helpful'] = df['Helpful'].map({'Not at all Helpful' : 'Negative', 'Not so Helpful' : 'Negative', \n",
    "                                     'Somewhat Helpful' : 'Neutral', 'Very Helpful' : 'Positive', \n",
    "                                     'Extremely Helpful' : 'Positive'})\n",
    "    return df"
   ]
  },
  {
   "cell_type": "markdown",
   "metadata": {},
   "source": [
    "Call the function on our dataset and save it."
   ]
  },
  {
   "cell_type": "code",
   "execution_count": 13,
   "metadata": {},
   "outputs": [
    {
     "data": {
      "text/html": [
       "<div>\n",
       "<style scoped>\n",
       "    .dataframe tbody tr th:only-of-type {\n",
       "        vertical-align: middle;\n",
       "    }\n",
       "\n",
       "    .dataframe tbody tr th {\n",
       "        vertical-align: top;\n",
       "    }\n",
       "\n",
       "    .dataframe thead th {\n",
       "        text-align: right;\n",
       "    }\n",
       "</style>\n",
       "<table border=\"1\" class=\"dataframe\">\n",
       "  <thead>\n",
       "    <tr style=\"text-align: right;\">\n",
       "      <th></th>\n",
       "      <th>Dept</th>\n",
       "      <th>Course</th>\n",
       "      <th>Overall Rating</th>\n",
       "      <th>Useful</th>\n",
       "      <th>Clearly</th>\n",
       "      <th>Speed</th>\n",
       "      <th>Well</th>\n",
       "      <th>Comfortable</th>\n",
       "      <th>Helpful</th>\n",
       "      <th>Comments</th>\n",
       "    </tr>\n",
       "  </thead>\n",
       "  <tbody>\n",
       "    <tr>\n",
       "      <th>0</th>\n",
       "      <td>ASD</td>\n",
       "      <td>AP Invoice - End Users</td>\n",
       "      <td>Positive</td>\n",
       "      <td>Positive</td>\n",
       "      <td>Positive</td>\n",
       "      <td>Positive</td>\n",
       "      <td>Positive</td>\n",
       "      <td>Positive</td>\n",
       "      <td>Positive</td>\n",
       "      <td>NaN</td>\n",
       "    </tr>\n",
       "    <tr>\n",
       "      <th>1</th>\n",
       "      <td>CSD</td>\n",
       "      <td>AP Invoice - End Users</td>\n",
       "      <td>Positive</td>\n",
       "      <td>Positive</td>\n",
       "      <td>Positive</td>\n",
       "      <td>Positive</td>\n",
       "      <td>Positive</td>\n",
       "      <td>Positive</td>\n",
       "      <td>Positive</td>\n",
       "      <td>NaN</td>\n",
       "    </tr>\n",
       "    <tr>\n",
       "      <th>2</th>\n",
       "      <td>ASD</td>\n",
       "      <td>AP Invoice - End Users</td>\n",
       "      <td>Positive</td>\n",
       "      <td>Positive</td>\n",
       "      <td>Neutral</td>\n",
       "      <td>Positive</td>\n",
       "      <td>Positive</td>\n",
       "      <td>Positive</td>\n",
       "      <td>Neutral</td>\n",
       "      <td>This was the first training ever attended. Ver...</td>\n",
       "    </tr>\n",
       "    <tr>\n",
       "      <th>3</th>\n",
       "      <td>PD</td>\n",
       "      <td>AP Invoice - End Users</td>\n",
       "      <td>Neutral</td>\n",
       "      <td>Neutral</td>\n",
       "      <td>Positive</td>\n",
       "      <td>Negative</td>\n",
       "      <td>Positive</td>\n",
       "      <td>Negative</td>\n",
       "      <td>Negative</td>\n",
       "      <td>NaN</td>\n",
       "    </tr>\n",
       "    <tr>\n",
       "      <th>4</th>\n",
       "      <td>PD</td>\n",
       "      <td>AP Invoice - End Users</td>\n",
       "      <td>Positive</td>\n",
       "      <td>Positive</td>\n",
       "      <td>Positive</td>\n",
       "      <td>Positive</td>\n",
       "      <td>Positive</td>\n",
       "      <td>Positive</td>\n",
       "      <td>Positive</td>\n",
       "      <td>More practice runs for real live data!</td>\n",
       "    </tr>\n",
       "  </tbody>\n",
       "</table>\n",
       "</div>"
      ],
      "text/plain": [
       "  Dept                  Course Overall Rating    Useful   Clearly     Speed  \\\n",
       "0  ASD  AP Invoice - End Users       Positive  Positive  Positive  Positive   \n",
       "1  CSD  AP Invoice - End Users       Positive  Positive  Positive  Positive   \n",
       "2  ASD  AP Invoice - End Users       Positive  Positive   Neutral  Positive   \n",
       "3   PD  AP Invoice - End Users        Neutral   Neutral  Positive  Negative   \n",
       "4   PD  AP Invoice - End Users       Positive  Positive  Positive  Positive   \n",
       "\n",
       "       Well Comfortable   Helpful  \\\n",
       "0  Positive    Positive  Positive   \n",
       "1  Positive    Positive  Positive   \n",
       "2  Positive    Positive   Neutral   \n",
       "3  Positive    Negative  Negative   \n",
       "4  Positive    Positive  Positive   \n",
       "\n",
       "                                            Comments  \n",
       "0                                                NaN  \n",
       "1                                                NaN  \n",
       "2  This was the first training ever attended. Ver...  \n",
       "3                                                NaN  \n",
       "4             More practice runs for real live data!  "
      ]
     },
     "execution_count": 13,
     "metadata": {},
     "output_type": "execute_result"
    }
   ],
   "source": [
    "pos_neg_data = pos_neg(survey_data)\n",
    "pos_neg_data.head()"
   ]
  },
  {
   "cell_type": "markdown",
   "metadata": {},
   "source": [
    "Create a bar chart that shows the overall rating sentiment."
   ]
  },
  {
   "cell_type": "code",
   "execution_count": 14,
   "metadata": {},
   "outputs": [
    {
     "data": {
      "image/png": "[encoded data removed]",
      "text/plain": [
       "<Figure size 576x576 with 1 Axes>"
      ]
     },
     "metadata": {
      "needs_background": "light"
     },
     "output_type": "display_data"
    }
   ],
   "source": [
    "pos_neg_data['Overall Rating'] = pd.Categorical(pos_neg_data['Overall Rating'], categories = ['Negative', 'Neutral', \n",
    "                                                                                              'Positive'], ordered = True)\n",
    "pos_neg_data_rating = pos_neg_data['Overall Rating'].value_counts().sort_index()\n",
    "pos_neg_data_rating.plot(kind = \"barh\", figsize = (8,8));\n",
    "plt.title('All Dept Overall Rating Sentiment');\n",
    "plt.xlabel('Count');\n",
    "plt.ylabel('Rating');"
   ]
  },
  {
   "cell_type": "markdown",
   "metadata": {},
   "source": [
    "Create a stacked bar graph for the overall sentiment rating for each course."
   ]
  },
  {
   "cell_type": "code",
   "execution_count": 15,
   "metadata": {},
   "outputs": [
    {
     "data": {
      "image/png": "[encoded data removed]",
      "text/plain": [
       "<Figure size 576x576 with 1 Axes>"
      ]
     },
     "metadata": {
      "needs_background": "light"
     },
     "output_type": "display_data"
    }
   ],
   "source": [
    "pos_neg_data.groupby(['Course', 'Overall Rating']).size().unstack().plot(kind='barh', figsize = (8,8),stacked=True);\n",
    "plt.title('All Course Overall Rating Sentiment')\n",
    "plt.xlabel('Count')\n",
    "plt.ylabel('Course Names')\n",
    "plt.show()"
   ]
  },
  {
   "cell_type": "markdown",
   "metadata": {},
   "source": [
    "Create a bar graph for each department that shows the overall rating sentiment for each course."
   ]
  },
  {
   "cell_type": "code",
   "execution_count": 16,
   "metadata": {},
   "outputs": [
    {
     "data": {
      "image/png": "[encoded data removed]",
      "text/plain": [
       "<Figure size 576x576 with 1 Axes>"
      ]
     },
     "metadata": {
      "needs_background": "light"
     },
     "output_type": "display_data"
    }
   ],
   "source": [
    "ASD_sent = pos_neg_data[pos_neg_data['Dept'] == 'ASD']\n",
    "ASD_sent.groupby(['Course', 'Overall Rating']).size().unstack().plot(kind='barh', figsize = (8,8), stacked=True);\n",
    "plt.xlabel(\"Count\");\n",
    "plt.ylabel(\"Course\");\n",
    "plt.title('ASD: Overall Rating Sentiment');"
   ]
  },
  {
   "cell_type": "code",
   "execution_count": 17,
   "metadata": {},
   "outputs": [
    {
     "data": {
      "image/png": "[encoded data removed]",
      "text/plain": [
       "<Figure size 576x576 with 1 Axes>"
      ]
     },
     "metadata": {
      "needs_background": "light"
     },
     "output_type": "display_data"
    }
   ],
   "source": [
    "CDD_sent = pos_neg_data[pos_neg_data['Dept'] == 'CDD']\n",
    "CDD_sent.groupby(['Course', 'Overall Rating']).size().unstack().plot(kind='barh', figsize = (8,8), stacked=True);\n",
    "plt.xlabel(\"Count\");\n",
    "plt.ylabel(\"Course\");\n",
    "plt.title('CDD: Overall Rating Sentiment');"
   ]
  },
  {
   "cell_type": "code",
   "execution_count": 18,
   "metadata": {},
   "outputs": [
    {
     "data": {
      "image/png": "[encoded data removed]",
      "text/plain": [
       "<Figure size 576x576 with 1 Axes>"
      ]
     },
     "metadata": {
      "needs_background": "light"
     },
     "output_type": "display_data"
    }
   ],
   "source": [
    "City_Att_sent = pos_neg_data[pos_neg_data['Dept'] == 'City Att']\n",
    "City_Att_sent.groupby(['Course', 'Overall Rating']).size().unstack().plot(kind='barh', figsize = (8,8), stacked=True);\n",
    "plt.xlabel(\"Count\");\n",
    "plt.ylabel(\"Course\");\n",
    "plt.title('City Att: Overall Rating Sentiment');"
   ]
  },
  {
   "cell_type": "code",
   "execution_count": 19,
   "metadata": {},
   "outputs": [
    {
     "data": {
      "image/png": "[encoded data removed]",
      "text/plain": [
       "<Figure size 576x576 with 1 Axes>"
      ]
     },
     "metadata": {
      "needs_background": "light"
     },
     "output_type": "display_data"
    }
   ],
   "source": [
    "City_Clk_sent = pos_neg_data[pos_neg_data['Dept'] == 'City Clk']\n",
    "City_Clk_sent.groupby(['Course', 'Overall Rating']).size().unstack().plot(kind='barh', figsize = (8,8), stacked=True);\n",
    "plt.xlabel(\"Count\");\n",
    "plt.ylabel(\"Course\");\n",
    "plt.title('City Clerk: Overall Rating Sentiment');"
   ]
  },
  {
   "cell_type": "code",
   "execution_count": 20,
   "metadata": {},
   "outputs": [
    {
     "data": {
      "image/png": "[encoded data removed]",
      "text/plain": [
       "<Figure size 576x576 with 1 Axes>"
      ]
     },
     "metadata": {
      "needs_background": "light"
     },
     "output_type": "display_data"
    }
   ],
   "source": [
    "City_Mgr_sent = pos_neg_data[pos_neg_data['Dept'] == 'City Mgr']\n",
    "City_Mgr_sent.groupby(['Course', 'Overall Rating']).size().unstack().plot(kind='barh', figsize = (8,8), stacked=True);\n",
    "plt.xlabel(\"Count\");\n",
    "plt.ylabel(\"Course\");\n",
    "plt.title('City Manager: Overall Rating Sentiment');"
   ]
  },
  {
   "cell_type": "code",
   "execution_count": 21,
   "metadata": {},
   "outputs": [
    {
     "data": {
      "image/png": "[encoded data removed]",
      "text/plain": [
       "<Figure size 576x576 with 1 Axes>"
      ]
     },
     "metadata": {
      "needs_background": "light"
     },
     "output_type": "display_data"
    }
   ],
   "source": [
    "CSD_sent = pos_neg_data[pos_neg_data['Dept'] == 'CSD']\n",
    "CSD_sent.groupby(['Course', 'Overall Rating']).size().unstack().plot(kind='barh', figsize = (8,8), stacked=True);\n",
    "plt.xlabel(\"Count\");\n",
    "plt.ylabel(\"Course\");\n",
    "plt.title('CSD: Overall Rating Sentiment');"
   ]
  },
  {
   "cell_type": "code",
   "execution_count": 22,
   "metadata": {},
   "outputs": [
    {
     "data": {
      "image/png": "[encoded data removed]",
      "text/plain": [
       "<Figure size 576x576 with 1 Axes>"
      ]
     },
     "metadata": {
      "needs_background": "light"
     },
     "output_type": "display_data"
    }
   ],
   "source": [
    "EDD_sent = pos_neg_data[pos_neg_data['Dept'] == 'EDD']\n",
    "EDD_sent.groupby(['Course', 'Overall Rating']).size().unstack().plot(kind='barh', figsize = (8,8), stacked=True);\n",
    "plt.xlabel(\"Count\");\n",
    "plt.ylabel(\"Course\");\n",
    "plt.title('EDD: Overall Rating Sentiment');"
   ]
  },
  {
   "cell_type": "code",
   "execution_count": 23,
   "metadata": {},
   "outputs": [
    {
     "data": {
      "image/png": "[encoded data removed]",
      "text/plain": [
       "<Figure size 576x576 with 1 Axes>"
      ]
     },
     "metadata": {
      "needs_background": "light"
     },
     "output_type": "display_data"
    }
   ],
   "source": [
    "FD_sent = pos_neg_data[pos_neg_data['Dept'] == 'FD']\n",
    "FD_sent.groupby(['Course', 'Overall Rating']).size().unstack().plot(kind='barh', figsize = (8,8), stacked=True);\n",
    "plt.xlabel(\"Count\");\n",
    "plt.ylabel(\"Course\");\n",
    "plt.title('FD: Overall Rating Sentiment');"
   ]
  },
  {
   "cell_type": "code",
   "execution_count": 24,
   "metadata": {},
   "outputs": [
    {
     "data": {
      "image/png": "[encoded data removed]",
      "text/plain": [
       "<Figure size 576x576 with 1 Axes>"
      ]
     },
     "metadata": {
      "needs_background": "light"
     },
     "output_type": "display_data"
    }
   ],
   "source": [
    "HR_sent = pos_neg_data[pos_neg_data['Dept'] == 'HR']\n",
    "HR_sent.groupby(['Course', 'Overall Rating']).size().unstack().plot(kind='barh', figsize = (8,8), stacked=True);\n",
    "plt.xlabel(\"Count\");\n",
    "plt.ylabel(\"Course\");\n",
    "plt.title('HR: Overall Rating Sentiment');"
   ]
  },
  {
   "cell_type": "code",
   "execution_count": 25,
   "metadata": {},
   "outputs": [
    {
     "data": {
      "image/png": "[encoded data removed]",
      "text/plain": [
       "<Figure size 576x576 with 1 Axes>"
      ]
     },
     "metadata": {
      "needs_background": "light"
     },
     "output_type": "display_data"
    }
   ],
   "source": [
    "IT_sent = pos_neg_data[pos_neg_data['Dept'] == 'IT']\n",
    "IT_sent.groupby(['Course', 'Overall Rating']).size().unstack().plot(kind='barh', figsize = (8,8), stacked=True);\n",
    "plt.xlabel(\"Count\");\n",
    "plt.ylabel(\"Course\");\n",
    "plt.title('IT: Overall Rating Sentiment');"
   ]
  },
  {
   "cell_type": "code",
   "execution_count": 26,
   "metadata": {},
   "outputs": [
    {
     "data": {
      "image/png": "[encoded data removed]",
      "text/plain": [
       "<Figure size 576x576 with 1 Axes>"
      ]
     },
     "metadata": {
      "needs_background": "light"
     },
     "output_type": "display_data"
    }
   ],
   "source": [
    "MUD_sent = pos_neg_data[pos_neg_data['Dept'] == 'MUD']\n",
    "MUD_sent.groupby(['Course', 'Overall Rating']).size().unstack().plot(kind='barh', figsize = (8,8), stacked=True);\n",
    "plt.xlabel(\"Count\");\n",
    "plt.ylabel(\"Course\");\n",
    "plt.title('MUD: Overall Rating Sentiment');"
   ]
  },
  {
   "cell_type": "code",
   "execution_count": 27,
   "metadata": {},
   "outputs": [
    {
     "data": {
      "image/png": "[encoded data removed]",
      "text/plain": [
       "<Figure size 576x576 with 1 Axes>"
      ]
     },
     "metadata": {
      "needs_background": "light"
     },
     "output_type": "display_data"
    }
   ],
   "source": [
    "PD_sent = pos_neg_data[pos_neg_data['Dept'] == 'PD']\n",
    "PD_sent.groupby(['Course', 'Overall Rating']).size().unstack().plot(kind='barh', figsize = (8,8), stacked=True);\n",
    "plt.xlabel(\"Count\");\n",
    "plt.ylabel(\"Course\");\n",
    "plt.title('PD: Overall Rating Sentiment');"
   ]
  },
  {
   "cell_type": "code",
   "execution_count": 28,
   "metadata": {},
   "outputs": [
    {
     "data": {
      "image/png": "[encoded data removed]",
      "text/plain": [
       "<Figure size 576x576 with 1 Axes>"
      ]
     },
     "metadata": {
      "needs_background": "light"
     },
     "output_type": "display_data"
    }
   ],
   "source": [
    "PW_sent = pos_neg_data[pos_neg_data['Dept'] == 'PW']\n",
    "PW_sent.groupby(['Course', 'Overall Rating']).size().unstack().plot(kind='barh', figsize = (8,8), stacked=True);\n",
    "plt.xlabel(\"Count\");\n",
    "plt.ylabel(\"Course\");\n",
    "plt.title('PW: Overall Rating Sentiment');"
   ]
  },
  {
   "cell_type": "markdown",
   "metadata": {},
   "source": [
    "Calculate how many people commented/did not and calculate the percentages of those people who had a negative, neutral, and positive, experience."
   ]
  },
  {
   "cell_type": "code",
   "execution_count": 29,
   "metadata": {},
   "outputs": [
    {
     "name": "stdout",
     "output_type": "stream",
     "text": [
      "How many people in survey commented: 81\n",
      "Positive Overall Rating 41.9753086419753\n",
      "Neutral Overall Rating 33.33333333333333\n",
      "Negative Overall Rating 24.691358024691358\n"
     ]
    }
   ],
   "source": [
    "comments = pos_neg_data[pos_neg_data['Comments'].notnull()]\n",
    "print('How many people in survey commented:', comments.shape[0])\n",
    "positive = comments.value_counts('Overall Rating')[0]\n",
    "neutral = comments.value_counts('Overall Rating')[1]\n",
    "negative = comments.value_counts('Overall Rating')[2]\n",
    "print('Positive Overall Rating', positive / comments.shape[0] * 100)\n",
    "print('Neutral Overall Rating', neutral / comments.shape[0] * 100)\n",
    "print('Negative Overall Rating', negative / comments.shape[0] * 100)"
   ]
  },
  {
   "cell_type": "code",
   "execution_count": 30,
   "metadata": {},
   "outputs": [
    {
     "name": "stdout",
     "output_type": "stream",
     "text": [
      "How many people in survey did not comment 105\n",
      "Positive Overall Rating 56.19047619047619\n",
      "Neutral Overall Rating 33.33333333333333\n",
      "Negative Overall Rating 9.523809523809524\n"
     ]
    }
   ],
   "source": [
    "no_comments = pos_neg_data[~pos_neg_data['Comments'].notnull()]\n",
    "print('How many people in survey did not comment', no_comments.shape[0])\n",
    "positive = no_comments.value_counts('Overall Rating')[0]\n",
    "neutral = no_comments.value_counts('Overall Rating')[1]\n",
    "negative = no_comments.value_counts('Overall Rating')[2]\n",
    "print('Positive Overall Rating', positive / no_comments.shape[0] * 100)\n",
    "print('Neutral Overall Rating', neutral / no_comments.shape[0] * 100)\n",
    "print('Negative Overall Rating', negative / no_comments.shape[0] * 100)"
   ]
  },
  {
   "cell_type": "markdown",
   "metadata": {},
   "source": [
    "Repeat previous step for each department."
   ]
  },
  {
   "cell_type": "code",
   "execution_count": 31,
   "metadata": {},
   "outputs": [
    {
     "data": {
      "text/plain": [
       "Overall Rating\n",
       "Positive    15\n",
       "Neutral      9\n",
       "Negative     1\n",
       "dtype: int64"
      ]
     },
     "execution_count": 31,
     "metadata": {},
     "output_type": "execute_result"
    }
   ],
   "source": [
    "ASD_sent[~ASD_sent['Comments'].notnull()].value_counts('Overall Rating')"
   ]
  },
  {
   "cell_type": "code",
   "execution_count": 32,
   "metadata": {},
   "outputs": [
    {
     "name": "stdout",
     "output_type": "stream",
     "text": [
      "How many people in ASD commented: 11\n",
      "Positive Overall Rating 63.63636363636363\n",
      "Neutral Overall Rating 27.27272727272727\n",
      "Negative Overall Rating 9.090909090909092\n",
      "How many people in ASD did not comment 25\n",
      "Positive Overall Rating 60.0\n",
      "Neutral Overall Rating 36.0\n",
      "Negative Overall Rating 4.0\n"
     ]
    }
   ],
   "source": [
    "ASD_comment = ASD_sent[ASD_sent['Comments'].notnull()]\n",
    "print('How many people in ASD commented:', ASD_comment.shape[0])\n",
    "positive = ASD_comment.value_counts('Overall Rating')[0]\n",
    "neutral = ASD_comment.value_counts(\"Overall Rating\")[1]\n",
    "negative = ASD_comment.value_counts('Overall Rating')[2]\n",
    "print('Positive Overall Rating', positive / ASD_comment.shape[0] * 100)\n",
    "print('Neutral Overall Rating', neutral / ASD_comment.shape[0] * 100)\n",
    "print('Negative Overall Rating', negative / ASD_comment.shape[0] * 100)\n",
    "\n",
    "ASD_no_comment = ASD_sent[~ASD_sent['Comments'].notnull()]\n",
    "print('How many people in ASD did not comment', ASD_no_comment.shape[0])\n",
    "positive_no = ASD_no_comment.value_counts('Overall Rating')[0]\n",
    "neutral_no = ASD_no_comment.value_counts('Overall Rating')[1]\n",
    "negative_no = ASD_no_comment.value_counts('Overall Rating')[2]\n",
    "print('Positive Overall Rating', positive_no / ASD_no_comment.shape[0] * 100)\n",
    "print('Neutral Overall Rating', neutral_no / ASD_no_comment.shape[0] * 100)\n",
    "print('Negative Overall Rating', negative_no / ASD_no_comment.shape[0] * 100)"
   ]
  },
  {
   "cell_type": "code",
   "execution_count": 33,
   "metadata": {},
   "outputs": [
    {
     "name": "stdout",
     "output_type": "stream",
     "text": [
      "How many people in CDD commented: 4\n",
      "Positive Overall Rating 25.0\n",
      "Neutral Overall Rating 25.0\n",
      "Negative Overall Rating 50.0\n",
      "How many people in CDD did not comment 4\n",
      "Positive Overall Rating 50.0\n",
      "Neutral Overall Rating 25.0\n",
      "Negative Overall Rating 25.0\n"
     ]
    }
   ],
   "source": [
    "CDD_comment = CDD_sent[CDD_sent['Comments'].notnull()]\n",
    "print('How many people in CDD commented:', CDD_comment.shape[0])\n",
    "positive = CDD_comment.value_counts('Overall Rating')[2]\n",
    "neutral = CDD_comment.value_counts(\"Overall Rating\")[1]\n",
    "negative = CDD_comment.value_counts('Overall Rating')[0]\n",
    "print('Positive Overall Rating', positive / CDD_comment.shape[0] * 100)\n",
    "print('Neutral Overall Rating', neutral / CDD_comment.shape[0] * 100)\n",
    "print('Negative Overall Rating', negative / CDD_comment.shape[0] * 100)\n",
    "\n",
    "CDD_no_comment = CDD_sent[~CDD_sent['Comments'].notnull()]\n",
    "print('How many people in CDD did not comment', CDD_no_comment.shape[0])\n",
    "positive_no = CDD_no_comment.value_counts('Overall Rating')[0]\n",
    "neutral_no = CDD_no_comment.value_counts('Overall Rating')[1]\n",
    "negative_no = CDD_no_comment.value_counts('Overall Rating')[2]\n",
    "print('Positive Overall Rating', positive_no / CDD_no_comment.shape[0] * 100)\n",
    "print('Neutral Overall Rating', neutral_no / CDD_no_comment.shape[0] * 100)\n",
    "print('Negative Overall Rating', negative_no / CDD_no_comment.shape[0] * 100)"
   ]
  },
  {
   "cell_type": "code",
   "execution_count": 34,
   "metadata": {},
   "outputs": [
    {
     "name": "stdout",
     "output_type": "stream",
     "text": [
      "How many people in City Att commented: 5\n",
      "Positive Overall Rating 20.0\n",
      "Neutral Overall Rating 40.0\n",
      "Negative Overall Rating 40.0\n",
      "How many people in City Att did not comment 2\n",
      "Positive Overall Rating 50.0\n",
      "Neutral Overall Rating 50.0\n",
      "Negative Overall Rating 0.0\n"
     ]
    }
   ],
   "source": [
    "City_Att_comment = City_Att_sent[City_Att_sent['Comments'].notnull()]\n",
    "print('How many people in City Att commented:', City_Att_comment.shape[0])\n",
    "positive = City_Att_comment.value_counts('Overall Rating')[2]\n",
    "neutral = City_Att_comment.value_counts(\"Overall Rating\")[1]\n",
    "negative = City_Att_comment.value_counts('Overall Rating')[0]\n",
    "print('Positive Overall Rating', positive / City_Att_comment.shape[0] * 100)\n",
    "print('Neutral Overall Rating', neutral / City_Att_comment.shape[0] * 100)\n",
    "print('Negative Overall Rating', negative / City_Att_comment.shape[0] * 100)\n",
    "\n",
    "City_Att_no_comment = City_Att_sent[~City_Att_sent['Comments'].notnull()]\n",
    "print('How many people in City Att did not comment', City_Att_no_comment.shape[0])\n",
    "positive_no = City_Att_no_comment.value_counts('Overall Rating')[0]\n",
    "neutral_no = City_Att_no_comment.value_counts('Overall Rating')[1]\n",
    "negative_no = City_Att_no_comment.value_counts('Overall Rating')[2]\n",
    "print('Positive Overall Rating', positive_no / City_Att_no_comment.shape[0] * 100)\n",
    "print('Neutral Overall Rating', neutral_no / City_Att_no_comment.shape[0] * 100)\n",
    "print('Negative Overall Rating', negative_no / City_Att_no_comment.shape[0] * 100)"
   ]
  },
  {
   "cell_type": "code",
   "execution_count": 35,
   "metadata": {},
   "outputs": [
    {
     "data": {
      "text/plain": [
       "Overall Rating\n",
       "Negative    0\n",
       "Neutral     0\n",
       "Positive    0\n",
       "dtype: int64"
      ]
     },
     "execution_count": 35,
     "metadata": {},
     "output_type": "execute_result"
    }
   ],
   "source": [
    "City_Clk_sent[~City_Clk_sent['Comments'].notnull()].value_counts('Overall Rating')"
   ]
  },
  {
   "cell_type": "code",
   "execution_count": 36,
   "metadata": {},
   "outputs": [
    {
     "name": "stdout",
     "output_type": "stream",
     "text": [
      "How many people in City Clk commented: 2\n",
      "Positive Overall Rating 50.0\n",
      "Neutral Overall Rating 0.0\n",
      "Negative Overall Rating 50.0\n",
      "How many people in City Clk did not comment 0\n",
      "Positive Overall Rating nan\n",
      "Neutral Overall Rating nan\n",
      "Negative Overall Rating nan\n"
     ]
    },
    {
     "name": "stderr",
     "output_type": "stream",
     "text": [
      "<ipython-input-36-25ea14e0410f>:15: RuntimeWarning: invalid value encountered in long_scalars\n",
      "  print('Positive Overall Rating', positive_no / City_Clk_no_comment.shape[0] * 100)\n",
      "<ipython-input-36-25ea14e0410f>:16: RuntimeWarning: invalid value encountered in long_scalars\n",
      "  print('Neutral Overall Rating', neutral_no / City_Clk_no_comment.shape[0] * 100)\n",
      "<ipython-input-36-25ea14e0410f>:17: RuntimeWarning: invalid value encountered in long_scalars\n",
      "  print('Negative Overall Rating', negative_no / City_Clk_no_comment.shape[0] * 100)\n"
     ]
    }
   ],
   "source": [
    "City_Clk_comment = City_Clk_sent[City_Clk_sent['Comments'].notnull()]\n",
    "print('How many people in City Clk commented:', City_Clk_comment.shape[0])\n",
    "positive = City_Clk_comment.value_counts('Overall Rating')[1]\n",
    "neutral = City_Clk_comment.value_counts(\"Overall Rating\")[2]\n",
    "negative = City_Clk_comment.value_counts('Overall Rating')[0]\n",
    "print('Positive Overall Rating', positive / City_Clk_comment.shape[0] * 100)\n",
    "print('Neutral Overall Rating', neutral / City_Clk_comment.shape[0] * 100)\n",
    "print('Negative Overall Rating', negative / City_Clk_comment.shape[0] * 100)\n",
    "\n",
    "City_Clk_no_comment = City_Clk_sent[~City_Clk_sent['Comments'].notnull()]\n",
    "print('How many people in City Clk did not comment', City_Clk_no_comment.shape[0])\n",
    "positive_no = City_Clk_no_comment.value_counts('Overall Rating')[0]\n",
    "neutral_no = City_Clk_no_comment.value_counts('Overall Rating')[1]\n",
    "negative_no = City_Clk_no_comment.value_counts('Overall Rating')[2]\n",
    "print('Positive Overall Rating', positive_no / City_Clk_no_comment.shape[0] * 100)\n",
    "print('Neutral Overall Rating', neutral_no / City_Clk_no_comment.shape[0] * 100)\n",
    "print('Negative Overall Rating', negative_no / City_Clk_no_comment.shape[0] * 100)"
   ]
  },
  {
   "cell_type": "code",
   "execution_count": 37,
   "metadata": {},
   "outputs": [
    {
     "data": {
      "text/plain": [
       "Overall Rating\n",
       "Positive    2\n",
       "Negative    1\n",
       "Neutral     0\n",
       "dtype: int64"
      ]
     },
     "execution_count": 37,
     "metadata": {},
     "output_type": "execute_result"
    }
   ],
   "source": [
    "City_Mgr_sent[City_Mgr_sent['Comments'].notnull()].value_counts('Overall Rating')"
   ]
  },
  {
   "cell_type": "code",
   "execution_count": 38,
   "metadata": {},
   "outputs": [
    {
     "name": "stdout",
     "output_type": "stream",
     "text": [
      "How many people in City Mgr commented: 3\n",
      "Positive Overall Rating 66.66666666666666\n",
      "Neutral Overall Rating 0.0\n",
      "Negative Overall Rating 33.33333333333333\n",
      "How many people in City Mgr did not comment 8\n",
      "Positive Overall Rating 37.5\n",
      "Neutral Overall Rating 50.0\n",
      "Negative Overall Rating 12.5\n"
     ]
    }
   ],
   "source": [
    "City_Mgr_comment = City_Mgr_sent[City_Mgr_sent['Comments'].notnull()]\n",
    "print('How many people in City Mgr commented:', City_Mgr_comment.shape[0])\n",
    "positive = City_Mgr_comment.value_counts('Overall Rating')[0]\n",
    "neutral = City_Mgr_comment.value_counts(\"Overall Rating\")[2]\n",
    "negative = City_Mgr_comment.value_counts('Overall Rating')[1]\n",
    "print('Positive Overall Rating', positive / City_Mgr_comment.shape[0] * 100)\n",
    "print('Neutral Overall Rating', neutral / City_Mgr_comment.shape[0] * 100)\n",
    "print('Negative Overall Rating', negative / City_Mgr_comment.shape[0] * 100)\n",
    "\n",
    "City_Mgr_no_comment = City_Mgr_sent[~City_Mgr_sent['Comments'].notnull()]\n",
    "print('How many people in City Mgr did not comment', City_Mgr_no_comment.shape[0])\n",
    "positive_no = City_Mgr_no_comment.value_counts('Overall Rating')[1]\n",
    "neutral_no = City_Mgr_no_comment.value_counts('Overall Rating')[0]\n",
    "negative_no = City_Mgr_no_comment.value_counts('Overall Rating')[2]\n",
    "print('Positive Overall Rating', positive_no / City_Mgr_no_comment.shape[0] * 100)\n",
    "print('Neutral Overall Rating', neutral_no / City_Mgr_no_comment.shape[0] * 100)\n",
    "print('Negative Overall Rating', negative_no / City_Mgr_no_comment.shape[0] * 100)"
   ]
  },
  {
   "cell_type": "code",
   "execution_count": 39,
   "metadata": {},
   "outputs": [
    {
     "name": "stdout",
     "output_type": "stream",
     "text": [
      "How many people in CSD commented: 12\n",
      "Positive Overall Rating 58.333333333333336\n",
      "Neutral Overall Rating 33.33333333333333\n",
      "Negative Overall Rating 8.333333333333332\n",
      "How many people in CSD did not comment 10\n",
      "Positive Overall Rating 80.0\n",
      "Neutral Overall Rating 20.0\n",
      "Negative Overall Rating 0.0\n"
     ]
    }
   ],
   "source": [
    "CSD_comment = CSD_sent[CSD_sent['Comments'].notnull()]\n",
    "print('How many people in CSD commented:', CSD_comment.shape[0])\n",
    "positive = CSD_comment.value_counts('Overall Rating')[0]\n",
    "neutral = CSD_comment.value_counts(\"Overall Rating\")[1]\n",
    "negative = CSD_comment.value_counts('Overall Rating')[2]\n",
    "print('Positive Overall Rating', positive / CSD_comment.shape[0] * 100)\n",
    "print('Neutral Overall Rating', neutral / CSD_comment.shape[0] * 100)\n",
    "print('Negative Overall Rating', negative / CSD_comment.shape[0] * 100)\n",
    "\n",
    "CSD_no_comment = CSD_sent[~CSD_sent['Comments'].notnull()]\n",
    "print('How many people in CSD did not comment', CSD_no_comment.shape[0])\n",
    "positive_no = CSD_no_comment.value_counts('Overall Rating')[0]\n",
    "neutral_no = CSD_no_comment.value_counts('Overall Rating')[1]\n",
    "negative_no = CSD_no_comment.value_counts('Overall Rating')[2]\n",
    "print('Positive Overall Rating', positive_no / CSD_no_comment.shape[0] * 100)\n",
    "print('Neutral Overall Rating', neutral_no / CSD_no_comment.shape[0] * 100)\n",
    "print('Negative Overall Rating', negative_no / CSD_no_comment.shape[0] * 100)"
   ]
  },
  {
   "cell_type": "code",
   "execution_count": 40,
   "metadata": {},
   "outputs": [
    {
     "name": "stdout",
     "output_type": "stream",
     "text": [
      "How many people in EDD commented: 2\n",
      "Positive Overall Rating 0.0\n",
      "Neutral Overall Rating 50.0\n",
      "Negative Overall Rating 50.0\n",
      "How many people in EDD did not comment 5\n",
      "Positive Overall Rating 80.0\n",
      "Neutral Overall Rating 20.0\n",
      "Negative Overall Rating 0.0\n"
     ]
    }
   ],
   "source": [
    "EDD_comment = EDD_sent[EDD_sent['Comments'].notnull()]\n",
    "print('How many people in EDD commented:', EDD_comment.shape[0])\n",
    "positive = EDD_comment.value_counts('Overall Rating')[2]\n",
    "neutral = EDD_comment.value_counts(\"Overall Rating\")[1]\n",
    "negative = EDD_comment.value_counts('Overall Rating')[0]\n",
    "print('Positive Overall Rating', positive / EDD_comment.shape[0] * 100)\n",
    "print('Neutral Overall Rating', neutral / EDD_comment.shape[0] * 100)\n",
    "print('Negative Overall Rating', negative / EDD_comment.shape[0] * 100)\n",
    "\n",
    "EDD_no_comment = EDD_sent[~EDD_sent['Comments'].notnull()]\n",
    "print('How many people in EDD did not comment', EDD_no_comment.shape[0])\n",
    "positive_no = EDD_no_comment.value_counts('Overall Rating')[0]\n",
    "neutral_no = EDD_no_comment.value_counts('Overall Rating')[1]\n",
    "negative_no = EDD_no_comment.value_counts('Overall Rating')[2]\n",
    "print('Positive Overall Rating', positive_no / EDD_no_comment.shape[0] * 100)\n",
    "print('Neutral Overall Rating', neutral_no / EDD_no_comment.shape[0] * 100)\n",
    "print('Negative Overall Rating', negative_no / EDD_no_comment.shape[0] * 100)"
   ]
  },
  {
   "cell_type": "code",
   "execution_count": 41,
   "metadata": {},
   "outputs": [
    {
     "name": "stdout",
     "output_type": "stream",
     "text": [
      "How many people in FD commented: 2\n",
      "Positive Overall Rating 100.0\n",
      "Neutral Overall Rating 0.0\n",
      "Negative Overall Rating 0.0\n",
      "How many people in FD did not comment 11\n",
      "Positive Overall Rating 63.63636363636363\n",
      "Neutral Overall Rating 36.36363636363637\n",
      "Negative Overall Rating 0.0\n"
     ]
    }
   ],
   "source": [
    "FD_comment = FD_sent[FD_sent['Comments'].notnull()]\n",
    "print('How many people in FD commented:', FD_comment.shape[0])\n",
    "positive = FD_comment.value_counts('Overall Rating')[0]\n",
    "neutral = FD_comment.value_counts(\"Overall Rating\")[1]\n",
    "negative = FD_comment.value_counts('Overall Rating')[2]\n",
    "print('Positive Overall Rating', positive / FD_comment.shape[0] * 100)\n",
    "print('Neutral Overall Rating', neutral / FD_comment.shape[0] * 100)\n",
    "print('Negative Overall Rating', negative / FD_comment.shape[0] * 100)\n",
    "\n",
    "FD_no_comment = FD_sent[~FD_sent['Comments'].notnull()]\n",
    "print('How many people in FD did not comment', FD_no_comment.shape[0])\n",
    "positive_no = FD_no_comment.value_counts('Overall Rating')[0]\n",
    "neutral_no = FD_no_comment.value_counts('Overall Rating')[1]\n",
    "negative_no = FD_no_comment.value_counts('Overall Rating')[2]\n",
    "print('Positive Overall Rating', positive_no / FD_no_comment.shape[0] * 100)\n",
    "print('Neutral Overall Rating', neutral_no / FD_no_comment.shape[0] * 100)\n",
    "print('Negative Overall Rating', negative_no / FD_no_comment.shape[0] * 100)"
   ]
  },
  {
   "cell_type": "code",
   "execution_count": 42,
   "metadata": {},
   "outputs": [
    {
     "name": "stdout",
     "output_type": "stream",
     "text": [
      "How many people in HR commented: 2\n",
      "Positive Overall Rating 50.0\n",
      "Neutral Overall Rating 50.0\n",
      "Negative Overall Rating 0.0\n",
      "How many people in HR did not comment 1\n",
      "Positive Overall Rating 100.0\n",
      "Neutral Overall Rating 0.0\n",
      "Negative Overall Rating 0.0\n"
     ]
    }
   ],
   "source": [
    "HR_comment = HR_sent[HR_sent['Comments'].notnull()]\n",
    "print('How many people in HR commented:', HR_comment.shape[0])\n",
    "positive = HR_comment.value_counts('Overall Rating')[0]\n",
    "neutral = HR_comment.value_counts(\"Overall Rating\")[1]\n",
    "negative = HR_comment.value_counts('Overall Rating')[2]\n",
    "print('Positive Overall Rating', positive / HR_comment.shape[0] * 100)\n",
    "print('Neutral Overall Rating', neutral / HR_comment.shape[0] * 100)\n",
    "print('Negative Overall Rating', negative / HR_comment.shape[0] * 100)\n",
    "\n",
    "HR_no_comment = HR_sent[~HR_sent['Comments'].notnull()]\n",
    "print('How many people in HR did not comment', HR_no_comment.shape[0])\n",
    "positive_no = HR_no_comment.value_counts('Overall Rating')[0]\n",
    "neutral_no = HR_no_comment.value_counts('Overall Rating')[1]\n",
    "negative_no = HR_no_comment.value_counts('Overall Rating')[2]\n",
    "print('Positive Overall Rating', positive_no / HR_no_comment.shape[0] * 100)\n",
    "print('Neutral Overall Rating', neutral_no / HR_no_comment.shape[0] * 100)\n",
    "print('Negative Overall Rating', negative_no / HR_no_comment.shape[0] * 100)"
   ]
  },
  {
   "cell_type": "code",
   "execution_count": 43,
   "metadata": {},
   "outputs": [
    {
     "name": "stdout",
     "output_type": "stream",
     "text": [
      "How many people in IT commented: 9\n",
      "Positive Overall Rating 44.44444444444444\n",
      "Neutral Overall Rating 33.33333333333333\n",
      "Negative Overall Rating 22.22222222222222\n",
      "How many people in IT did not comment 8\n",
      "Positive Overall Rating 50.0\n",
      "Neutral Overall Rating 25.0\n",
      "Negative Overall Rating 25.0\n"
     ]
    }
   ],
   "source": [
    "IT_comment = IT_sent[IT_sent['Comments'].notnull()]\n",
    "print('How many people in IT commented:', IT_comment.shape[0])\n",
    "positive = IT_comment.value_counts('Overall Rating')[0]\n",
    "neutral = IT_comment.value_counts(\"Overall Rating\")[1]\n",
    "negative = IT_comment.value_counts('Overall Rating')[2]\n",
    "print('Positive Overall Rating', positive / IT_comment.shape[0] * 100)\n",
    "print('Neutral Overall Rating', neutral / IT_comment.shape[0] * 100)\n",
    "print('Negative Overall Rating', negative / IT_comment.shape[0] * 100)\n",
    "\n",
    "IT_no_comment = IT_sent[~IT_sent['Comments'].notnull()]\n",
    "print('How many people in IT did not comment', IT_no_comment.shape[0])\n",
    "positive_no = IT_no_comment.value_counts('Overall Rating')[0]\n",
    "neutral_no = IT_no_comment.value_counts('Overall Rating')[1]\n",
    "negative_no = IT_no_comment.value_counts('Overall Rating')[2]\n",
    "print('Positive Overall Rating', positive_no / IT_no_comment.shape[0] * 100)\n",
    "print('Neutral Overall Rating', neutral_no / IT_no_comment.shape[0] * 100)\n",
    "print('Negative Overall Rating', negative_no / IT_no_comment.shape[0] * 100)"
   ]
  },
  {
   "cell_type": "code",
   "execution_count": 44,
   "metadata": {},
   "outputs": [
    {
     "name": "stdout",
     "output_type": "stream",
     "text": [
      "How many people in MUD commented: 6\n",
      "Positive Overall Rating 66.66666666666666\n",
      "Neutral Overall Rating 16.666666666666664\n",
      "Negative Overall Rating 16.666666666666664\n",
      "How many people in MUD did not comment 5\n",
      "Positive Overall Rating 20.0\n",
      "Neutral Overall Rating 80.0\n",
      "Negative Overall Rating 0.0\n"
     ]
    }
   ],
   "source": [
    "MUD_comment = MUD_sent[MUD_sent['Comments'].notnull()]\n",
    "print('How many people in MUD commented:', MUD_comment.shape[0])\n",
    "positive = MUD_comment.value_counts('Overall Rating')[0]\n",
    "neutral = MUD_comment.value_counts(\"Overall Rating\")[1]\n",
    "negative = MUD_comment.value_counts('Overall Rating')[2]\n",
    "print('Positive Overall Rating', positive / MUD_comment.shape[0] * 100)\n",
    "print('Neutral Overall Rating', neutral / MUD_comment.shape[0] * 100)\n",
    "print('Negative Overall Rating', negative / MUD_comment.shape[0] * 100)\n",
    "\n",
    "MUD_no_comment = MUD_sent[~MUD_sent['Comments'].notnull()]\n",
    "print('How many people in MUD did not comment', MUD_no_comment.shape[0])\n",
    "positive_no = MUD_no_comment.value_counts('Overall Rating')[1]\n",
    "neutral_no = MUD_no_comment.value_counts('Overall Rating')[0]\n",
    "negative_no = MUD_no_comment.value_counts('Overall Rating')[2]\n",
    "print('Positive Overall Rating', positive_no / MUD_no_comment.shape[0] * 100)\n",
    "print('Neutral Overall Rating', neutral_no / MUD_no_comment.shape[0] * 100)\n",
    "print('Negative Overall Rating', negative_no / MUD_no_comment.shape[0] * 100)"
   ]
  },
  {
   "cell_type": "code",
   "execution_count": 45,
   "metadata": {},
   "outputs": [
    {
     "name": "stdout",
     "output_type": "stream",
     "text": [
      "How many people in PD commented: 14\n",
      "Positive Overall Rating 21.428571428571427\n",
      "Neutral Overall Rating 35.714285714285715\n",
      "Negative Overall Rating 42.857142857142854\n",
      "How many people in PD did not comment 12\n",
      "Positive Overall Rating 58.333333333333336\n",
      "Neutral Overall Rating 25.0\n",
      "Negative Overall Rating 16.666666666666664\n"
     ]
    }
   ],
   "source": [
    "PD_comment = PD_sent[PD_sent['Comments'].notnull()]\n",
    "print('How many people in PD commented:', PD_comment.shape[0])\n",
    "positive = PD_comment.value_counts('Overall Rating')[2]\n",
    "neutral = PD_comment.value_counts(\"Overall Rating\")[1]\n",
    "negative = PD_comment.value_counts('Overall Rating')[0]\n",
    "print('Positive Overall Rating', positive / PD_comment.shape[0] * 100)\n",
    "print('Neutral Overall Rating', neutral / PD_comment.shape[0] * 100)\n",
    "print('Negative Overall Rating', negative / PD_comment.shape[0] * 100)\n",
    "\n",
    "PD_no_comment = PD_sent[~PD_sent['Comments'].notnull()]\n",
    "print('How many people in PD did not comment', PD_no_comment.shape[0])\n",
    "positive_no = PD_no_comment.value_counts('Overall Rating')[0]\n",
    "neutral_no = PD_no_comment.value_counts('Overall Rating')[1]\n",
    "negative_no = PD_no_comment.value_counts('Overall Rating')[2]\n",
    "print('Positive Overall Rating', positive_no / PD_no_comment.shape[0] * 100)\n",
    "print('Neutral Overall Rating', neutral_no / PD_no_comment.shape[0] * 100)\n",
    "print('Negative Overall Rating', negative_no / PD_no_comment.shape[0] * 100)"
   ]
  },
  {
   "cell_type": "code",
   "execution_count": 46,
   "metadata": {},
   "outputs": [
    {
     "name": "stdout",
     "output_type": "stream",
     "text": [
      "How many people in PW commented: 3\n",
      "Positive Overall Rating 0.0\n",
      "Neutral Overall Rating 100.0\n",
      "Negative Overall Rating 0.0\n",
      "How many people in PW did not comment 9\n",
      "Positive Overall Rating 55.55555555555556\n",
      "Neutral Overall Rating 33.33333333333333\n",
      "Negative Overall Rating 11.11111111111111\n"
     ]
    }
   ],
   "source": [
    "PW_comment = PW_sent[PW_sent['Comments'].notnull()]\n",
    "print('How many people in PW commented:', PW_comment.shape[0])\n",
    "positive = PW_comment.value_counts('Overall Rating')[2]\n",
    "neutral = PW_comment.value_counts(\"Overall Rating\")[0]\n",
    "negative = PW_comment.value_counts('Overall Rating')[1]\n",
    "print('Positive Overall Rating', positive / PW_comment.shape[0] * 100)\n",
    "print('Neutral Overall Rating', neutral / PW_comment.shape[0] * 100)\n",
    "print('Negative Overall Rating', negative / PW_comment.shape[0] * 100)\n",
    "\n",
    "PW_no_comment = PW_sent[~PW_sent['Comments'].notnull()]\n",
    "print('How many people in PW did not comment', PW_no_comment.shape[0])\n",
    "positive_no = PW_no_comment.value_counts('Overall Rating')[0]\n",
    "neutral_no = PW_no_comment.value_counts('Overall Rating')[1]\n",
    "negative_no = PW_no_comment.value_counts('Overall Rating')[2]\n",
    "print('Positive Overall Rating', positive_no / PW_no_comment.shape[0] * 100)\n",
    "print('Neutral Overall Rating', neutral_no / PW_no_comment.shape[0] * 100)\n",
    "print('Negative Overall Rating', negative_no / PW_no_comment.shape[0] * 100)"
   ]
  },
  {
   "cell_type": "code",
   "execution_count": null,
   "metadata": {},
   "outputs": [],
   "source": []
  },
  {
   "cell_type": "code",
   "execution_count": null,
   "metadata": {},
   "outputs": [],
   "source": []
  },
  {
   "cell_type": "code",
   "execution_count": null,
   "metadata": {},
   "outputs": [],
   "source": []
  },
  {
   "cell_type": "code",
   "execution_count": null,
   "metadata": {},
   "outputs": [],
   "source": []
  },
  {
   "cell_type": "code",
   "execution_count": null,
   "metadata": {},
   "outputs": [],
   "source": []
  }
 ],
 "metadata": {
  "history": [
   {
    "code": "from datascience import *\nimport pandas as pd \nimport numpy as np\nimport matplotlib.pyplot as plt\n%matplotlib inline\n\nimport seaborn as sns",
    "id": "37779d88cca3414e84f4989768e7f200",
    "idx": 1,
    "time": "2021-02-03T17:48:02.268Z",
    "type": "execution"
   },
   {
    "id": "37779d88cca3414e84f4989768e7f200",
    "time": "2021-02-03T17:48:03.895Z",
    "type": "completion"
   },
   {
    "code": "survey_data = pd.read_excel('Survey.xlsx', header = None, names = ['Dept', 'Course', 'Overall Rating', 'Useful', 'Clearly',\n                                                                  'Speed', 'Well', 'Comfortable', 'Helpful', 'Comments']) \nsurvey_data.head()",
    "id": "687f3e84d6e04e4181b749282eff3d7c",
    "idx": 3,
    "time": "2021-02-03T17:48:38.666Z",
    "type": "execution"
   },
   {
    "id": "687f3e84d6e04e4181b749282eff3d7c",
    "time": "2021-02-03T17:48:38.933Z",
    "type": "completion"
   },
   {
    "code": "survey_data.drop(0, inplace = True)\nsurvey_data.drop(1, inplace = True)\nsurvey_data.reset_index(inplace = True)\nsurvey_data.drop(['index'], axis = 1, inplace = True)\nsurvey_data.drop([186, 187, 188, 189, 190, 191, 192, 193, 194, 195, 196, 197], inplace = True)\nsurvey_data.head()",
    "id": "bb3ed8317a2c4b7b8ce8675429fa4543",
    "idx": 5,
    "time": "2021-02-03T17:49:37.659Z",
    "type": "execution"
   },
   {
    "id": "bb3ed8317a2c4b7b8ce8675429fa4543",
    "time": "2021-02-03T17:49:37.742Z",
    "type": "completion"
   },
   {
    "code": "Create a bar chart that shows how many people in each department are in the dataset. ",
    "id": "bbf654e07ca541ab87add028d0d03504",
    "idx": 6,
    "time": "2021-02-03T17:50:01.372Z",
    "type": "execution"
   },
   {
    "id": "bbf654e07ca541ab87add028d0d03504",
    "time": "2021-02-03T17:50:01.440Z",
    "type": "completion"
   },
   {
    "code": "survey_data['Dept'] = pd.Categorical(survey_data['Dept'], categories = ['ASD', 'CDD', 'City Att', 'City Clk', 'City Mgr', \n                                                                        'CSD', 'EDD', 'FD', 'HR', 'IT', 'MUD', 'PD', 'PW'], \n                                                ordered = True)\nvalue = survey_data['Dept'].value_counts().sort_index()\n\nvalue.plot(kind = 'barh', figsize = (8,8));\nplt.title('All Dept Count');\nplt.xlabel('Count');\nplt.ylabel('Rating');",
    "id": "3c5e9684e8a64ec98d9edd54b5c2d64a",
    "idx": 7,
    "time": "2021-02-03T17:51:10.203Z",
    "type": "execution"
   },
   {
    "id": "3c5e9684e8a64ec98d9edd54b5c2d64a",
    "time": "2021-02-03T17:51:10.654Z",
    "type": "completion"
   },
   {
    "code": "from datascience import *\nimport pandas as pd \nimport numpy as np\nimport matplotlib.pyplot as plt\n%matplotlib inline\n\nimport seaborn as sns",
    "id": "37779d88cca3414e84f4989768e7f200",
    "idx": 1,
    "time": "2021-02-03T18:33:19.901Z",
    "type": "execution"
   },
   {
    "code": "survey_data = pd.read_excel('Survey.xlsx', header = None, names = ['Dept', 'Course', 'Overall Rating', 'Useful', 'Clearly',\n                                                                  'Speed', 'Well', 'Comfortable', 'Helpful', 'Comments']) \nsurvey_data.head()",
    "id": "687f3e84d6e04e4181b749282eff3d7c",
    "idx": 3,
    "time": "2021-02-03T18:33:20.576Z",
    "type": "execution"
   },
   {
    "code": "survey_data.drop(0, inplace = True)\nsurvey_data.drop(1, inplace = True)\nsurvey_data.reset_index(inplace = True)\nsurvey_data.drop(['index'], axis = 1, inplace = True)\nsurvey_data.drop([186, 187, 188, 189, 190, 191, 192, 193, 194, 195, 196, 197], inplace = True)\nsurvey_data.head()",
    "id": "bb3ed8317a2c4b7b8ce8675429fa4543",
    "idx": 5,
    "time": "2021-02-03T18:33:21.245Z",
    "type": "execution"
   },
   {
    "id": "37779d88cca3414e84f4989768e7f200",
    "time": "2021-02-03T18:33:21.496Z",
    "type": "completion"
   },
   {
    "id": "687f3e84d6e04e4181b749282eff3d7c",
    "time": "2021-02-03T18:33:21.723Z",
    "type": "completion"
   },
   {
    "id": "bb3ed8317a2c4b7b8ce8675429fa4543",
    "time": "2021-02-03T18:33:21.753Z",
    "type": "completion"
   },
   {
    "code": "survey_data['Dept'] = pd.Categorical(survey_data['Dept'], categories = ['ASD', 'CDD', 'City Att', 'City Clk', 'City Mgr', \n                                                                        'CSD', 'EDD', 'FD', 'HR', 'IT', 'MUD', 'PD', 'PW'], \n                                                ordered = True)\nvalue = survey_data['Dept'].value_counts().sort_index()\n\nvalue.plot(kind = 'barh', figsize = (8,8));\nplt.title('All Dept Count');\nplt.xlabel('Count');\nplt.ylabel('Rating');",
    "id": "3c5e9684e8a64ec98d9edd54b5c2d64a",
    "idx": 7,
    "time": "2021-02-03T18:33:22.828Z",
    "type": "execution"
   },
   {
    "id": "3c5e9684e8a64ec98d9edd54b5c2d64a",
    "time": "2021-02-03T18:33:23.286Z",
    "type": "completion"
   },
   {
    "code": "def pos_neg(df):\n    df = df.copy()\n    df['Overall Rating'] = df['Overall Rating'].map({'Poor' : 'Negative', 'Fair' : 'Negative', 'Good' : 'Neutral', \n                                                     'Very Good' : 'Positive', 'Excellent' : 'Positive'})\n    df['Useful'] = df['Useful'].map({'Not at all Useful' : 'Negative', 'Not so Useful' : 'Negative', \n                                     'Somewhat Useful' : 'Neutral', 'Very Useful' : 'Positive', \n                                     'Extremely Useful' : 'Positive'})\n    df['Clearly'] = df['Clearly'].map({'Not at all Clearly' : 'Negative', 'Not so Clearly' : 'Negative', \n                                     'Somewhat Clearly' : 'Neutral', 'Very Clearly' : 'Positive', \n                                     'Extremely Clearly' : 'Positive'})\n    df['Speed'] = df['Speed'].map({'Much too Slow' : 'Negative', 'Too Slow' : 'Negative', 'Right Amount' : 'Positive', \n                                   'Too Fast' : 'Negative', 'Much too Fast' : 'Negative'})\n    df['Well'] = df['Well'].map({'Not at all Well' : 'Negative', 'Not so Well' : 'Negative', \n                                     'Somewhat Well' : 'Neutral', 'Very Well' : 'Positive', \n                                     'Extremely Well' : 'Positive'})\n    df['Comfortable'] = df['Comfortable'].map({'Not at all Comfortable' : 'Negative', 'Not so Comfortable' : 'Negative', \n                                     'Somewhat Comfortable' : 'Neutral', 'Very Comfortable' : 'Positive', \n                                     'Extremely Comfortable' : 'Positive'})\n    df['Helpful'] = df['Helpful'].map({'Not at all Helpful' : 'Negative', 'Not so Helpful' : 'Negative', \n                                     'Somewhat Helpful' : 'Neutral', 'Very Helpful' : 'Positive', \n                                     'Extremely Helpful' : 'Positive'})\n    return df",
    "id": "1d3a27ed649a4dbfb342415c50a6ccb0",
    "idx": 9,
    "time": "2021-02-03T18:35:21.241Z",
    "type": "execution"
   },
   {
    "id": "1d3a27ed649a4dbfb342415c50a6ccb0",
    "time": "2021-02-03T18:35:21.311Z",
    "type": "completion"
   },
   {
    "code": "Call the function on our dataset and save it.",
    "id": "b035e243901a45e58b1d557e86492252",
    "idx": 10,
    "time": "2021-02-03T18:35:45.817Z",
    "type": "execution"
   },
   {
    "id": "b035e243901a45e58b1d557e86492252",
    "time": "2021-02-03T18:35:45.897Z",
    "type": "completion"
   },
   {
    "code": "pos_neg_data = pos_neg(survey_data)\npos_neg_data.head()",
    "id": "949e09dfafbf4c0b8c3859d826ff0511",
    "idx": 11,
    "time": "2021-02-03T18:36:02.032Z",
    "type": "execution"
   },
   {
    "id": "949e09dfafbf4c0b8c3859d826ff0511",
    "time": "2021-02-03T18:36:02.134Z",
    "type": "completion"
   },
   {
    "code": "pos_neg_data['Overall Rating'] = pd.Categorical(pos_neg_data['Overall Rating'], categories = ['Negative', 'Neutral', \n                                                                                              'Positive'], ordered = True)\npos_neg_data_rating = pos_neg_data['Overall Rating'].value_counts().sort_index()\npos_neg_data_rating.plot(kind = \"barh\", figsize = (8,8));\nplt.title('All Dept Overall Rating Sentiment');\nplt.xlabel('Count');\nplt.ylabel('Rating');",
    "id": "4def9ed790a64af8854ffebe054db59a",
    "idx": 14,
    "time": "2021-02-03T18:40:05.982Z",
    "type": "execution"
   },
   {
    "id": "4def9ed790a64af8854ffebe054db59a",
    "time": "2021-02-03T18:40:06.238Z",
    "type": "completion"
   },
   {
    "code": "pos_neg_data.groupby(['Course', 'Overall Rating']).size().unstack().plot(kind='barh', stacked=True);\nplt.title('All Course Overall Rating Sentiment')\nplt.xlabel('Count')\nplt.ylabel('Course Names')\nplt.show()",
    "id": "ebdf50b52078443c87585140d9c7d8ae",
    "idx": 15,
    "time": "2021-02-03T18:41:08.366Z",
    "type": "execution"
   },
   {
    "id": "ebdf50b52078443c87585140d9c7d8ae",
    "time": "2021-02-03T18:41:08.890Z",
    "type": "completion"
   },
   {
    "code": "pos_neg_data.groupby(['Course', 'Overall Rating']).size().unstack().plot(kind='barh', figsize = (8,8),stacked=True);\nplt.title('All Course Overall Rating Sentiment')\nplt.xlabel('Count')\nplt.ylabel('Course Names')\nplt.show()",
    "id": "ebdf50b52078443c87585140d9c7d8ae",
    "idx": 15,
    "time": "2021-02-03T18:41:23.616Z",
    "type": "execution"
   },
   {
    "id": "ebdf50b52078443c87585140d9c7d8ae",
    "time": "2021-02-03T18:41:24.194Z",
    "type": "completion"
   },
   {
    "code": "survey_data['Overall Rating'].value_counts()",
    "id": "b6085dfb200d40528b4efec488988e6d",
    "idx": 8,
    "time": "2021-02-03T18:42:38.862Z",
    "type": "execution"
   },
   {
    "id": "b6085dfb200d40528b4efec488988e6d",
    "time": "2021-02-03T18:42:38.950Z",
    "type": "completion"
   },
   {
    "code": "survey_data['Useful'].value_counts()",
    "id": "59fba4542aab41d4bcd9d28be0f472b9",
    "idx": 9,
    "time": "2021-02-03T18:43:17.279Z",
    "type": "execution"
   },
   {
    "id": "59fba4542aab41d4bcd9d28be0f472b9",
    "time": "2021-02-03T18:43:17.358Z",
    "type": "completion"
   },
   {
    "code": "survey_data['Clearly'].value_counts()",
    "id": "69913432cdc844948e7ad099e347c94a",
    "idx": 10,
    "time": "2021-02-03T18:43:52.127Z",
    "type": "execution"
   },
   {
    "id": "69913432cdc844948e7ad099e347c94a",
    "time": "2021-02-03T18:43:52.208Z",
    "type": "completion"
   },
   {
    "code": "survey_data['Speed'].value_counts()",
    "id": "0a699ee7903740768cff61c5e2bb01fa",
    "idx": 11,
    "time": "2021-02-03T18:44:21.744Z",
    "type": "execution"
   },
   {
    "id": "0a699ee7903740768cff61c5e2bb01fa",
    "time": "2021-02-03T18:44:21.822Z",
    "type": "completion"
   },
   {
    "code": "survey_data['Well'].value_counts()",
    "id": "a65bf505898542a99edaaa750b8015d9",
    "idx": 12,
    "time": "2021-02-03T18:44:43.508Z",
    "type": "execution"
   },
   {
    "id": "a65bf505898542a99edaaa750b8015d9",
    "time": "2021-02-03T18:44:43.588Z",
    "type": "completion"
   },
   {
    "code": "from datascience import *\nimport pandas as pd \nimport numpy as np\nimport matplotlib.pyplot as plt\n%matplotlib inline\n\nimport seaborn as sns",
    "id": "37779d88cca3414e84f4989768e7f200",
    "idx": 1,
    "time": "2021-02-03T18:45:28.943Z",
    "type": "execution"
   },
   {
    "code": "survey_data = pd.read_excel('Survey.xlsx', header = None, names = ['Dept', 'Course', 'Overall Rating', 'Useful', 'Clearly',\n                                                                  'Speed', 'Well', 'Comfortable', 'Helpful', 'Comments']) \nsurvey_data.head()",
    "id": "687f3e84d6e04e4181b749282eff3d7c",
    "idx": 3,
    "time": "2021-02-03T18:45:29.247Z",
    "type": "execution"
   },
   {
    "code": "survey_data.drop(0, inplace = True)\nsurvey_data.drop(1, inplace = True)\nsurvey_data.reset_index(inplace = True)\nsurvey_data.drop(['index'], axis = 1, inplace = True)\nsurvey_data.drop([186, 187, 188, 189, 190, 191, 192, 193, 194, 195, 196, 197], inplace = True)\nsurvey_data['Well'].replace('Extremely Well ', 'Extremely Well', inplace = True)\nsurvey_data.head()",
    "id": "bb3ed8317a2c4b7b8ce8675429fa4543",
    "idx": 5,
    "time": "2021-02-03T18:45:29.551Z",
    "type": "execution"
   },
   {
    "id": "37779d88cca3414e84f4989768e7f200",
    "time": "2021-02-03T18:45:30.557Z",
    "type": "completion"
   },
   {
    "id": "687f3e84d6e04e4181b749282eff3d7c",
    "time": "2021-02-03T18:45:30.801Z",
    "type": "completion"
   },
   {
    "id": "bb3ed8317a2c4b7b8ce8675429fa4543",
    "time": "2021-02-03T18:45:30.837Z",
    "type": "completion"
   },
   {
    "code": "survey_data.drop(0, inplace = True)\nsurvey_data.drop(1, inplace = True)\nsurvey_data.reset_index(inplace = True)\nsurvey_data.drop(['index'], axis = 1, inplace = True)\nsurvey_data.drop([186, 187, 188, 189, 190, 191, 192, 193, 194, 195, 196, 197], inplace = True)\nsurvey_data['Well'].replace('Extremely Well ', 'Extremely Well', inplace = True)\nsurvey_data.head()",
    "id": "bb3ed8317a2c4b7b8ce8675429fa4543",
    "idx": 5,
    "time": "2021-02-03T18:46:00.304Z",
    "type": "execution"
   },
   {
    "id": "bb3ed8317a2c4b7b8ce8675429fa4543",
    "time": "2021-02-03T18:46:00.564Z",
    "type": "completion"
   },
   {
    "code": "from datascience import *\nimport pandas as pd \nimport numpy as np\nimport matplotlib.pyplot as plt\n%matplotlib inline\n\nimport seaborn as sns",
    "id": "37779d88cca3414e84f4989768e7f200",
    "idx": 1,
    "time": "2021-02-03T18:46:06.687Z",
    "type": "execution"
   },
   {
    "code": "survey_data = pd.read_excel('Survey.xlsx', header = None, names = ['Dept', 'Course', 'Overall Rating', 'Useful', 'Clearly',\n                                                                  'Speed', 'Well', 'Comfortable', 'Helpful', 'Comments']) \nsurvey_data.head()",
    "id": "687f3e84d6e04e4181b749282eff3d7c",
    "idx": 3,
    "time": "2021-02-03T18:46:07.008Z",
    "type": "execution"
   },
   {
    "code": "survey_data.drop(0, inplace = True)\nsurvey_data.drop(1, inplace = True)\nsurvey_data.reset_index(inplace = True)\nsurvey_data.drop(['index'], axis = 1, inplace = True)\nsurvey_data.drop([186, 187, 188, 189, 190, 191, 192, 193, 194, 195, 196, 197], inplace = True)\nsurvey_data['Well'].replace('Extremely Well ', 'Extremely Well', inplace = True)\nsurvey_data.head()",
    "id": "bb3ed8317a2c4b7b8ce8675429fa4543",
    "idx": 5,
    "time": "2021-02-03T18:46:07.615Z",
    "type": "execution"
   },
   {
    "id": "37779d88cca3414e84f4989768e7f200",
    "time": "2021-02-03T18:46:08.293Z",
    "type": "completion"
   },
   {
    "id": "687f3e84d6e04e4181b749282eff3d7c",
    "time": "2021-02-03T18:46:08.517Z",
    "type": "completion"
   },
   {
    "id": "bb3ed8317a2c4b7b8ce8675429fa4543",
    "time": "2021-02-03T18:46:08.558Z",
    "type": "completion"
   },
   {
    "code": "survey_data['Dept'] = pd.Categorical(survey_data['Dept'], categories = ['ASD', 'CDD', 'City Att', 'City Clk', 'City Mgr', \n                                                                        'CSD', 'EDD', 'FD', 'HR', 'IT', 'MUD', 'PD', 'PW'], \n                                                ordered = True)\nvalue = survey_data['Dept'].value_counts().sort_index()\n\nvalue.plot(kind = 'barh', figsize = (8,8));\nplt.title('All Dept Count');\nplt.xlabel('Count');\nplt.ylabel('Rating');",
    "id": "3c5e9684e8a64ec98d9edd54b5c2d64a",
    "idx": 7,
    "time": "2021-02-03T18:46:09.519Z",
    "type": "execution"
   },
   {
    "id": "3c5e9684e8a64ec98d9edd54b5c2d64a",
    "time": "2021-02-03T18:46:09.993Z",
    "type": "completion"
   },
   {
    "code": "survey_data['Overall Rating'].value_counts()",
    "id": "b6085dfb200d40528b4efec488988e6d",
    "idx": 8,
    "time": "2021-02-03T18:46:10.511Z",
    "type": "execution"
   },
   {
    "id": "b6085dfb200d40528b4efec488988e6d",
    "time": "2021-02-03T18:46:10.576Z",
    "type": "completion"
   },
   {
    "code": "survey_data['Useful'].value_counts()",
    "id": "59fba4542aab41d4bcd9d28be0f472b9",
    "idx": 9,
    "time": "2021-02-03T18:46:10.879Z",
    "type": "execution"
   },
   {
    "id": "59fba4542aab41d4bcd9d28be0f472b9",
    "time": "2021-02-03T18:46:10.943Z",
    "type": "completion"
   },
   {
    "code": "survey_data['Clearly'].value_counts()",
    "id": "69913432cdc844948e7ad099e347c94a",
    "idx": 10,
    "time": "2021-02-03T18:46:11.534Z",
    "type": "execution"
   },
   {
    "id": "69913432cdc844948e7ad099e347c94a",
    "time": "2021-02-03T18:46:11.601Z",
    "type": "completion"
   },
   {
    "code": "survey_data['Speed'].value_counts()",
    "id": "0a699ee7903740768cff61c5e2bb01fa",
    "idx": 11,
    "time": "2021-02-03T18:46:11.902Z",
    "type": "execution"
   },
   {
    "id": "0a699ee7903740768cff61c5e2bb01fa",
    "time": "2021-02-03T18:46:11.966Z",
    "type": "completion"
   },
   {
    "code": "survey_data['Well'].value_counts()",
    "id": "a65bf505898542a99edaaa750b8015d9",
    "idx": 12,
    "time": "2021-02-03T18:46:12.416Z",
    "type": "execution"
   },
   {
    "id": "a65bf505898542a99edaaa750b8015d9",
    "time": "2021-02-03T18:46:12.481Z",
    "type": "completion"
   },
   {
    "code": "survey_data['Comfortable'].value_counts()",
    "id": "566986baeac14019992eef0aafdb910d",
    "idx": 13,
    "time": "2021-02-03T18:46:43.984Z",
    "type": "execution"
   },
   {
    "id": "566986baeac14019992eef0aafdb910d",
    "time": "2021-02-03T18:46:44.059Z",
    "type": "completion"
   },
   {
    "code": "survey_data['Helpful'].value_counts()",
    "id": "bb7d1ba828aa4e598bc3191baee401cb",
    "idx": 14,
    "time": "2021-02-03T18:47:08.399Z",
    "type": "execution"
   },
   {
    "id": "bb7d1ba828aa4e598bc3191baee401cb",
    "time": "2021-02-03T18:47:08.494Z",
    "type": "completion"
   },
   {
    "code": "survey_data['Overall Rating'] = pd.Categorical(survey_data['Overall Rating'], categories = ['Poor', 'Fair', 'Good', \n                                                                                              'Very Good', 'Excellent'], \n                                                ordered = True)\nvalue = survey_data['Overall Rating'].value_counts().sort_index()\nvalue.plot(kind = 'barh', figsize = (8,8));\nplt.title('Overall Rating');\nplt.xlabel('Count');\nplt.ylabel('Rating');",
    "id": "5560480f1af14986b180318defa24be7",
    "idx": 8,
    "time": "2021-02-03T18:47:47.103Z",
    "type": "execution"
   },
   {
    "id": "5560480f1af14986b180318defa24be7",
    "time": "2021-02-03T18:47:47.383Z",
    "type": "completion"
   },
   {
    "code": "survey_data['Useful'] = pd.Categorical(survey_data['Useful'], categories = ['Not at all Useful', 'Not so Useful', \n                                                                              'Somewhat Useful', 'Very Useful', \n                                                                              'Extremely Useful'], ordered = True)\nvalue = survey_data['Useful'].value_counts().sort_index()\nvalue.plot(kind = 'barh', figsize = (8,8));\nplt.title('How Useful Were The Course Materials?');\nplt.xlabel('Count');\nplt.ylabel('Rating');",
    "id": "5e9d8300a76e49f683a31389af2899f9",
    "idx": 10,
    "time": "2021-02-03T18:49:43.631Z",
    "type": "execution"
   },
   {
    "id": "5e9d8300a76e49f683a31389af2899f9",
    "time": "2021-02-03T18:49:43.933Z",
    "type": "completion"
   },
   {
    "code": "survey_data['Clearly'] = pd.Categorical(survey_data['Clearly'], categories = ['Not at all Clearly', 'Not so Clearly', \n                                                                              'Somewhat Clearly', 'Very Clearly', \n                                                                              'Extremely Clearly'], ordered = True)\nvalue = survey_data['Clearly'].value_counts().sort_index()\nvalue.plot(kind = 'barh', figsize = (8,8));\nplt.title('How Clearly Did The Instructor Explain?');\nplt.xlabel('Count');\nplt.ylabel('Rating');",
    "id": "e4fdf93bd16445c58dd8c64f89678527",
    "idx": 11,
    "time": "2021-02-03T18:50:39.167Z",
    "type": "execution"
   },
   {
    "id": "e4fdf93bd16445c58dd8c64f89678527",
    "time": "2021-02-03T18:50:39.454Z",
    "type": "completion"
   },
   {
    "code": "survey_data['Speed'] = pd.Categorical(survey_data['Speed'], categories = ['Much too Slow', 'Too Slow', \n                                                                              'Right Amount', 'Too Fast', \n                                                                              'Much too Fast'], ordered = True)\nvalue = survey_data['Speed'].value_counts().sort_index()\nvalue.plot(kind = 'barh', figsize = (8,8));\nplt.title('How Was The Speed With Which The Instructor Presented The Material?');\nplt.xlabel('Count');\nplt.ylabel('Rating');",
    "id": "c440c828004a4db1bdd1a1c343bc7d3c",
    "idx": 12,
    "time": "2021-02-03T18:51:25.567Z",
    "type": "execution"
   },
   {
    "id": "c440c828004a4db1bdd1a1c343bc7d3c",
    "time": "2021-02-03T18:51:25.884Z",
    "type": "completion"
   },
   {
    "code": "survey_data['Well'] = pd.Categorical(survey_data['Well'], categories = ['Not at all Well', 'Not so Well', \n                                                                              'Somewhat Well', 'Very Well', \n                                                                              'Extremely Well'], ordered = True)\nvalue = survey_data['Well'].value_counts().sort_index()\nvalue.plot(kind = 'barh', figsize = (8,8));\nplt.title('How Well Did The Instructor Answer Questions?');\nplt.xlabel('Count');\nplt.ylabel('Rating');",
    "id": "a17949540b7a4317a9b0cd776755f78b",
    "idx": 13,
    "time": "2021-02-03T18:52:03.824Z",
    "type": "execution"
   },
   {
    "id": "a17949540b7a4317a9b0cd776755f78b",
    "time": "2021-02-03T18:52:04.108Z",
    "type": "completion"
   },
   {
    "code": "survey_data['Comfortable'] = pd.Categorical(survey_data['Comfortable'], categories = ['Not at all Comfortable', \n                                                                                      'Not so Comfortable', \n                                                                              'Somewhat Comfortable', 'Very Comfortable', \n                                                                              'Extremely Comfortable'], ordered = True)\nvalue = survey_data['Comfortable'].value_counts().sort_index()\nvalue.plot(kind = 'barh', figsize = (8,8));\nplt.title('How Comfortable Did You Feel Voicing Your Opinion?');\nplt.xlabel('Count');\nplt.ylabel('Rating');",
    "id": "cd81b805fb034da287accc2c7427cd3a",
    "idx": 14,
    "time": "2021-02-03T18:52:48.207Z",
    "type": "execution"
   },
   {
    "id": "cd81b805fb034da287accc2c7427cd3a",
    "time": "2021-02-03T18:52:48.500Z",
    "type": "completion"
   },
   {
    "code": "survey_data['Helpful'] = pd.Categorical(survey_data['Helpful'], categories = ['Not at all Helpful', 'Not so Helpful', \n                                                                              'Somewhat Helpful', 'Very Helpful', \n                                                                              'Extremely Helpful'], ordered = True)\nvalue = survey_data['Helpful'].value_counts().sort_index()\nvalue.plot(kind = 'barh', figsize = (8,8));\nplt.title('How Helpful Was Tyler University In Preparing You For The Course?');\nplt.xlabel('Count');\nplt.ylabel('Rating');",
    "id": "62222ecedd114fb099eedc29e11bb619",
    "idx": 15,
    "time": "2021-02-03T18:53:23.311Z",
    "type": "execution"
   },
   {
    "id": "62222ecedd114fb099eedc29e11bb619",
    "time": "2021-02-03T18:53:23.686Z",
    "type": "completion"
   },
   {
    "code": "ASD_sent = pos_neg_data[pos_neg_data['Dept'] == 'ASD']\nASD_sent.groupby(['Course', 'Overall Rating']).size().unstack().plot(kind='barh', figsize = (8,8), stacked=True);\nplt.xlabel(\"Count\");\nplt.ylabel(\"Course\");\nplt.title('ASD: Overall Rating Sentiment');",
    "id": "0bb0dd6ce3c14c90842e19ab447a562d",
    "idx": 25,
    "time": "2021-02-03T18:56:04.384Z",
    "type": "execution"
   },
   {
    "id": "0bb0dd6ce3c14c90842e19ab447a562d",
    "time": "2021-02-03T18:56:04.585Z",
    "type": "completion"
   },
   {
    "code": "from datascience import *\nimport pandas as pd \nimport numpy as np\nimport matplotlib.pyplot as plt\n%matplotlib inline\n\nimport seaborn as sns",
    "id": "37779d88cca3414e84f4989768e7f200",
    "idx": 1,
    "time": "2021-02-03T18:56:15.279Z",
    "type": "execution"
   },
   {
    "code": "survey_data = pd.read_excel('Survey.xlsx', header = None, names = ['Dept', 'Course', 'Overall Rating', 'Useful', 'Clearly',\n                                                                  'Speed', 'Well', 'Comfortable', 'Helpful', 'Comments']) \nsurvey_data.head()",
    "id": "687f3e84d6e04e4181b749282eff3d7c",
    "idx": 3,
    "time": "2021-02-03T18:56:15.631Z",
    "type": "execution"
   },
   {
    "code": "survey_data.drop(0, inplace = True)\nsurvey_data.drop(1, inplace = True)\nsurvey_data.reset_index(inplace = True)\nsurvey_data.drop(['index'], axis = 1, inplace = True)\nsurvey_data.drop([186, 187, 188, 189, 190, 191, 192, 193, 194, 195, 196, 197], inplace = True)\nsurvey_data['Well'].replace('Extremely Well ', 'Extremely Well', inplace = True)\nsurvey_data.head()",
    "id": "bb3ed8317a2c4b7b8ce8675429fa4543",
    "idx": 5,
    "time": "2021-02-03T18:56:15.935Z",
    "type": "execution"
   },
   {
    "code": "survey_data['Dept'] = pd.Categorical(survey_data['Dept'], categories = ['ASD', 'CDD', 'City Att', 'City Clk', 'City Mgr', \n                                                                        'CSD', 'EDD', 'FD', 'HR', 'IT', 'MUD', 'PD', 'PW'], \n                                                ordered = True)\nvalue = survey_data['Dept'].value_counts().sort_index()\n\nvalue.plot(kind = 'barh', figsize = (8,8));\nplt.title('All Dept Count');\nplt.xlabel('Count');\nplt.ylabel('Rating');",
    "id": "3c5e9684e8a64ec98d9edd54b5c2d64a",
    "idx": 7,
    "time": "2021-02-03T18:56:16.272Z",
    "type": "execution"
   },
   {
    "code": "survey_data['Overall Rating'] = pd.Categorical(survey_data['Overall Rating'], categories = ['Poor', 'Fair', 'Good', \n                                                                                              'Very Good', 'Excellent'], \n                                                ordered = True)\nvalue = survey_data['Overall Rating'].value_counts().sort_index()\nvalue.plot(kind = 'barh', figsize = (8,8));\nplt.title('Overall Rating');\nplt.xlabel('Count');\nplt.ylabel('Rating');",
    "id": "5560480f1af14986b180318defa24be7",
    "idx": 9,
    "time": "2021-02-03T18:56:16.575Z",
    "type": "execution"
   },
   {
    "code": "survey_data['Useful'] = pd.Categorical(survey_data['Useful'], categories = ['Not at all Useful', 'Not so Useful', \n                                                                              'Somewhat Useful', 'Very Useful', \n                                                                              'Extremely Useful'], ordered = True)\nvalue = survey_data['Useful'].value_counts().sort_index()\nvalue.plot(kind = 'barh', figsize = (8,8));\nplt.title('How Useful Were The Course Materials?');\nplt.xlabel('Count');\nplt.ylabel('Rating');",
    "id": "5e9d8300a76e49f683a31389af2899f9",
    "idx": 10,
    "time": "2021-02-03T18:56:16.736Z",
    "type": "execution"
   },
   {
    "code": "survey_data['Clearly'] = pd.Categorical(survey_data['Clearly'], categories = ['Not at all Clearly', 'Not so Clearly', \n                                                                              'Somewhat Clearly', 'Very Clearly', \n                                                                              'Extremely Clearly'], ordered = True)\nvalue = survey_data['Clearly'].value_counts().sort_index()\nvalue.plot(kind = 'barh', figsize = (8,8));\nplt.title('How Clearly Did The Instructor Explain?');\nplt.xlabel('Count');\nplt.ylabel('Rating');",
    "id": "e4fdf93bd16445c58dd8c64f89678527",
    "idx": 11,
    "time": "2021-02-03T18:56:16.897Z",
    "type": "execution"
   },
   {
    "id": "37779d88cca3414e84f4989768e7f200",
    "time": "2021-02-03T18:56:16.939Z",
    "type": "completion"
   },
   {
    "code": "survey_data['Speed'] = pd.Categorical(survey_data['Speed'], categories = ['Much too Slow', 'Too Slow', \n                                                                              'Right Amount', 'Too Fast', \n                                                                              'Much too Fast'], ordered = True)\nvalue = survey_data['Speed'].value_counts().sort_index()\nvalue.plot(kind = 'barh', figsize = (8,8));\nplt.title('How Was The Speed With Which The Instructor Presented The Material?');\nplt.xlabel('Count');\nplt.ylabel('Rating');",
    "id": "c440c828004a4db1bdd1a1c343bc7d3c",
    "idx": 12,
    "time": "2021-02-03T18:56:17.054Z",
    "type": "execution"
   },
   {
    "id": "687f3e84d6e04e4181b749282eff3d7c",
    "time": "2021-02-03T18:56:17.141Z",
    "type": "completion"
   },
   {
    "id": "bb3ed8317a2c4b7b8ce8675429fa4543",
    "time": "2021-02-03T18:56:17.166Z",
    "type": "completion"
   },
   {
    "code": "survey_data['Well'] = pd.Categorical(survey_data['Well'], categories = ['Not at all Well', 'Not so Well', \n                                                                              'Somewhat Well', 'Very Well', \n                                                                              'Extremely Well'], ordered = True)\nvalue = survey_data['Well'].value_counts().sort_index()\nvalue.plot(kind = 'barh', figsize = (8,8));\nplt.title('How Well Did The Instructor Answer Questions?');\nplt.xlabel('Count');\nplt.ylabel('Rating');",
    "id": "a17949540b7a4317a9b0cd776755f78b",
    "idx": 13,
    "time": "2021-02-03T18:56:17.231Z",
    "type": "execution"
   },
   {
    "code": "survey_data['Comfortable'] = pd.Categorical(survey_data['Comfortable'], categories = ['Not at all Comfortable', \n                                                                                      'Not so Comfortable', \n                                                                              'Somewhat Comfortable', 'Very Comfortable', \n                                                                              'Extremely Comfortable'], ordered = True)\nvalue = survey_data['Comfortable'].value_counts().sort_index()\nvalue.plot(kind = 'barh', figsize = (8,8));\nplt.title('How Comfortable Did You Feel Voicing Your Opinion?');\nplt.xlabel('Count');\nplt.ylabel('Rating');",
    "id": "cd81b805fb034da287accc2c7427cd3a",
    "idx": 14,
    "time": "2021-02-03T18:56:17.406Z",
    "type": "execution"
   },
   {
    "id": "3c5e9684e8a64ec98d9edd54b5c2d64a",
    "time": "2021-02-03T18:56:17.527Z",
    "type": "completion"
   },
   {
    "code": "survey_data['Helpful'] = pd.Categorical(survey_data['Helpful'], categories = ['Not at all Helpful', 'Not so Helpful', \n                                                                              'Somewhat Helpful', 'Very Helpful', \n                                                                              'Extremely Helpful'], ordered = True)\nvalue = survey_data['Helpful'].value_counts().sort_index()\nvalue.plot(kind = 'barh', figsize = (8,8));\nplt.title('How Helpful Was Tyler University In Preparing You For The Course?');\nplt.xlabel('Count');\nplt.ylabel('Rating');",
    "id": "62222ecedd114fb099eedc29e11bb619",
    "idx": 15,
    "time": "2021-02-03T18:56:17.582Z",
    "type": "execution"
   },
   {
    "id": "5560480f1af14986b180318defa24be7",
    "time": "2021-02-03T18:56:17.642Z",
    "type": "completion"
   },
   {
    "id": "5e9d8300a76e49f683a31389af2899f9",
    "time": "2021-02-03T18:56:17.883Z",
    "type": "completion"
   },
   {
    "code": "def pos_neg(df):\n    df = df.copy()\n    df['Overall Rating'] = df['Overall Rating'].map({'Poor' : 'Negative', 'Fair' : 'Negative', 'Good' : 'Neutral', \n                                                     'Very Good' : 'Positive', 'Excellent' : 'Positive'})\n    df['Useful'] = df['Useful'].map({'Not at all Useful' : 'Negative', 'Not so Useful' : 'Negative', \n                                     'Somewhat Useful' : 'Neutral', 'Very Useful' : 'Positive', \n                                     'Extremely Useful' : 'Positive'})\n    df['Clearly'] = df['Clearly'].map({'Not at all Clearly' : 'Negative', 'Not so Clearly' : 'Negative', \n                                     'Somewhat Clearly' : 'Neutral', 'Very Clearly' : 'Positive', \n                                     'Extremely Clearly' : 'Positive'})\n    df['Speed'] = df['Speed'].map({'Much too Slow' : 'Negative', 'Too Slow' : 'Negative', 'Right Amount' : 'Positive', \n                                   'Too Fast' : 'Negative', 'Much too Fast' : 'Negative'})\n    df['Well'] = df['Well'].map({'Not at all Well' : 'Negative', 'Not so Well' : 'Negative', \n                                     'Somewhat Well' : 'Neutral', 'Very Well' : 'Positive', \n                                     'Extremely Well' : 'Positive'})\n    df['Comfortable'] = df['Comfortable'].map({'Not at all Comfortable' : 'Negative', 'Not so Comfortable' : 'Negative', \n                                     'Somewhat Comfortable' : 'Neutral', 'Very Comfortable' : 'Positive', \n                                     'Extremely Comfortable' : 'Positive'})\n    df['Helpful'] = df['Helpful'].map({'Not at all Helpful' : 'Negative', 'Not so Helpful' : 'Negative', \n                                     'Somewhat Helpful' : 'Neutral', 'Very Helpful' : 'Positive', \n                                     'Extremely Helpful' : 'Positive'})\n    return df",
    "id": "1d3a27ed649a4dbfb342415c50a6ccb0",
    "idx": 17,
    "time": "2021-02-03T18:56:17.950Z",
    "type": "execution"
   },
   {
    "id": "e4fdf93bd16445c58dd8c64f89678527",
    "time": "2021-02-03T18:56:18.053Z",
    "type": "completion"
   },
   {
    "id": "c440c828004a4db1bdd1a1c343bc7d3c",
    "time": "2021-02-03T18:56:18.240Z",
    "type": "completion"
   },
   {
    "id": "a17949540b7a4317a9b0cd776755f78b",
    "time": "2021-02-03T18:56:18.367Z",
    "type": "completion"
   },
   {
    "id": "cd81b805fb034da287accc2c7427cd3a",
    "time": "2021-02-03T18:56:18.600Z",
    "type": "completion"
   },
   {
    "id": "62222ecedd114fb099eedc29e11bb619",
    "time": "2021-02-03T18:56:18.736Z",
    "type": "completion"
   },
   {
    "id": "1d3a27ed649a4dbfb342415c50a6ccb0",
    "time": "2021-02-03T18:56:18.784Z",
    "type": "completion"
   },
   {
    "code": "pos_neg_data = pos_neg(survey_data)\npos_neg_data.head()",
    "id": "949e09dfafbf4c0b8c3859d826ff0511",
    "idx": 19,
    "time": "2021-02-03T18:56:18.831Z",
    "type": "execution"
   },
   {
    "id": "949e09dfafbf4c0b8c3859d826ff0511",
    "time": "2021-02-03T18:56:18.919Z",
    "type": "completion"
   },
   {
    "code": "pos_neg_data['Overall Rating'] = pd.Categorical(pos_neg_data['Overall Rating'], categories = ['Negative', 'Neutral', \n                                                                                              'Positive'], ordered = True)\npos_neg_data_rating = pos_neg_data['Overall Rating'].value_counts().sort_index()\npos_neg_data_rating.plot(kind = \"barh\", figsize = (8,8));\nplt.title('All Dept Overall Rating Sentiment');\nplt.xlabel('Count');\nplt.ylabel('Rating');",
    "id": "4def9ed790a64af8854ffebe054db59a",
    "idx": 21,
    "time": "2021-02-03T18:56:19.583Z",
    "type": "execution"
   },
   {
    "id": "4def9ed790a64af8854ffebe054db59a",
    "time": "2021-02-03T18:56:19.830Z",
    "type": "completion"
   },
   {
    "code": "pos_neg_data.groupby(['Course', 'Overall Rating']).size().unstack().plot(kind='barh', figsize = (8,8),stacked=True);\nplt.title('All Course Overall Rating Sentiment')\nplt.xlabel('Count')\nplt.ylabel('Course Names')\nplt.show()",
    "id": "ebdf50b52078443c87585140d9c7d8ae",
    "idx": 23,
    "time": "2021-02-03T18:56:20.448Z",
    "type": "execution"
   },
   {
    "id": "ebdf50b52078443c87585140d9c7d8ae",
    "time": "2021-02-03T18:56:21.141Z",
    "type": "completion"
   },
   {
    "code": "ASD_sent = pos_neg_data[pos_neg_data['Dept'] == 'ASD']\nASD_sent.groupby(['Course', 'Overall Rating']).size().unstack().plot(kind='barh', figsize = (8,8), stacked=True);\nplt.xlabel(\"Count\");\nplt.ylabel(\"Course\");\nplt.title('ASD: Overall Rating Sentiment');",
    "id": "0bb0dd6ce3c14c90842e19ab447a562d",
    "idx": 25,
    "time": "2021-02-03T18:56:21.904Z",
    "type": "execution"
   },
   {
    "id": "0bb0dd6ce3c14c90842e19ab447a562d",
    "time": "2021-02-03T18:56:22.424Z",
    "type": "completion"
   },
   {
    "code": "CDD_sent = pos_neg_data[pos_neg_data['Dept'] == 'CDD']\nCDD_sent.groupby(['Course', 'Overall Rating']).size().unstack().plot(kind='barh', figsize = (8,8), stacked=True);\nplt.xlabel(\"Count\");\nplt.ylabel(\"Course\");\nplt.title('CDD: Overall Rating Sentiment');",
    "id": "24ad6cd1bed64e7a839fbb2923ebb4a3",
    "idx": 26,
    "time": "2021-02-03T18:57:00.367Z",
    "type": "execution"
   },
   {
    "id": "24ad6cd1bed64e7a839fbb2923ebb4a3",
    "time": "2021-02-03T18:57:00.892Z",
    "type": "completion"
   },
   {
    "code": "City_Att_sent = pos_neg_data[pos_neg_data['Dept'] == 'City Att']\nCity_Att_sent.groupby(['Course', 'Overall Rating']).size().unstack().plot(kind='barh', figsize = (8,8) stacked=True);\nplt.xlabel(\"Count\");\nplt.ylabel(\"Course\");\nplt.title('City Att: Overall Rating Sentiment');",
    "id": "0baa041989f141a884190d2da20db128",
    "idx": 27,
    "time": "2021-02-03T18:57:34.672Z",
    "type": "execution"
   },
   {
    "id": "0baa041989f141a884190d2da20db128",
    "time": "2021-02-03T18:57:34.808Z",
    "type": "completion"
   },
   {
    "code": "City_Att_sent = pos_neg_data[pos_neg_data['Dept'] == 'City Att']\nCity_Att_sent.groupby(['Course', 'Overall Rating']).size().unstack().plot(kind='barh', figsize = (8,8), stacked=True);\nplt.xlabel(\"Count\");\nplt.ylabel(\"Course\");\nplt.title('City Att: Overall Rating Sentiment');",
    "id": "0baa041989f141a884190d2da20db128",
    "idx": 27,
    "time": "2021-02-03T18:57:39.265Z",
    "type": "execution"
   },
   {
    "id": "0baa041989f141a884190d2da20db128",
    "time": "2021-02-03T18:57:39.630Z",
    "type": "completion"
   },
   {
    "code": "City_Clk_sent = pos_neg_data[pos_neg_data['Dept'] == 'City Clk']\nCity_Clk_sent.groupby(['Course', 'Overall Rating']).size().unstack().plot(kind='barh', figsize = (8,8), stacked=True);\nplt.xlabel(\"Count\");\nplt.ylabel(\"Course\");\nplt.title('City Clerk: Overall Rating Sentiment');",
    "id": "8d4ef74cc54b4cf3add229cfada06de3",
    "idx": 28,
    "time": "2021-02-03T18:58:08.880Z",
    "type": "execution"
   },
   {
    "id": "8d4ef74cc54b4cf3add229cfada06de3",
    "time": "2021-02-03T18:58:09.215Z",
    "type": "completion"
   },
   {
    "code": "City_Mgr_sent = pos_neg_data[pos_neg_data['Dept'] == 'City Mgr']\nCity_Mgr_sent.groupby(['Course', 'Overall Rating']).size().unstack().plot(kind='barh', figsize = (8,8), stacked=True);\nplt.xlabel(\"Count\");\nplt.ylabel(\"Course\");\nplt.title('City Manager: Overall Rating Sentiment');",
    "id": "dbf7b387ceeb455c81bb4d08cc4eae5e",
    "idx": 29,
    "time": "2021-02-03T18:58:53.970Z",
    "type": "execution"
   },
   {
    "id": "dbf7b387ceeb455c81bb4d08cc4eae5e",
    "time": "2021-02-03T18:58:54.400Z",
    "type": "completion"
   },
   {
    "code": "CSD_sent = pos_neg_data[pos_neg_data['Dept'] == 'CSD']\nCSD_sent.groupby(['Course', 'Overall Rating']).size().unstack().plot(kind='barh', figsize = (8,8), stacked=True);\nplt.xlabel(\"Count\");\nplt.ylabel(\"Course\");\nplt.title('CSD: Overall Rating Sentiment');",
    "id": "e358ab3335fa4a388fe4193d246839ef",
    "idx": 30,
    "time": "2021-02-03T18:59:19.634Z",
    "type": "execution"
   },
   {
    "id": "e358ab3335fa4a388fe4193d246839ef",
    "time": "2021-02-03T18:59:20.114Z",
    "type": "completion"
   },
   {
    "code": "EDD_sent = pos_neg_data[pos_neg_data['Dept'] == 'EDD']\nEDD_sent.groupby(['Course', 'Overall Rating']).size().unstack().plot(kind='barh', figsize = (8,8), stacked=True);\nplt.xlabel(\"Count\");\nplt.ylabel(\"Course\");\nplt.title('EDD: Overall Rating Sentiment');",
    "id": "a674580e18c2442086f88fc00ac6350f",
    "idx": 31,
    "time": "2021-02-03T18:59:52.096Z",
    "type": "execution"
   },
   {
    "id": "a674580e18c2442086f88fc00ac6350f",
    "time": "2021-02-03T18:59:52.480Z",
    "type": "completion"
   },
   {
    "code": "FD_sent = pos_neg_data[pos_neg_data['Dept'] == 'FD']\nFD_sent.groupby(['Course', 'Overall Rating']).size().unstack().plot(kind='barh', figsize = (8,8), stacked=True);\nplt.xlabel(\"Count\");\nplt.ylabel(\"Course\");\nplt.title('FD: Overall Rating Sentiment');",
    "id": "347a5d847c7c427d87fa428da53fb889",
    "idx": 32,
    "time": "2021-02-03T19:00:16.385Z",
    "type": "execution"
   },
   {
    "id": "347a5d847c7c427d87fa428da53fb889",
    "time": "2021-02-03T19:00:16.773Z",
    "type": "completion"
   },
   {
    "code": "HR_sent = pos_neg_data[pos_neg_data['Dept'] == 'HR']\nHR_sent.groupby(['Course', 'Overall Rating']).size().unstack().plot(kind='barh', figsize = (8,8), stacked=True);\nplt.xlabel(\"Count\");\nplt.ylabel(\"Course\");\nplt.title('HR: Overall Rating Sentiment');",
    "id": "622bd6fcbb2f4b82b71bfc702ae8c397",
    "idx": 33,
    "time": "2021-02-03T19:00:46.785Z",
    "type": "execution"
   },
   {
    "id": "622bd6fcbb2f4b82b71bfc702ae8c397",
    "time": "2021-02-03T19:00:47.136Z",
    "type": "completion"
   },
   {
    "code": "IT_sent = pos_neg_data[pos_neg_data['Dept'] == 'IT']\nIT_sent.groupby(['Course', 'Overall Rating']).size().unstack().plot(kind='barh', figsize = (8,8), stacked=True);\nplt.xlabel(\"Count\");\nplt.ylabel(\"Course\");\nplt.title('IT: Overall Rating Sentiment');",
    "id": "5634493eef4f49999c9c8531e29ec283",
    "idx": 34,
    "time": "2021-02-03T19:01:13.312Z",
    "type": "execution"
   },
   {
    "id": "5634493eef4f49999c9c8531e29ec283",
    "time": "2021-02-03T19:01:13.797Z",
    "type": "completion"
   },
   {
    "code": "MUD_sent = pos_neg_data[pos_neg_data['Dept'] == 'MUD']\nMUD_sent.groupby(['Course', 'Overall Rating']).size().unstack().plot(kind='barh', figsize = (8,8) stacked=True);\nplt.xlabel(\"Count\");\nplt.ylabel(\"Course\");\nplt.title('MUD: Overall Rating Sentiment');",
    "id": "b7cc7cab96ab4560b9424841a618cac7",
    "idx": 35,
    "time": "2021-02-03T19:01:39.297Z",
    "type": "execution"
   },
   {
    "id": "b7cc7cab96ab4560b9424841a618cac7",
    "time": "2021-02-03T19:01:39.507Z",
    "type": "completion"
   },
   {
    "code": "MUD_sent = pos_neg_data[pos_neg_data['Dept'] == 'MUD']\nMUD_sent.groupby(['Course', 'Overall Rating']).size().unstack().plot(kind='barh', figsize = (8,8), stacked=True);\nplt.xlabel(\"Count\");\nplt.ylabel(\"Course\");\nplt.title('MUD: Overall Rating Sentiment');",
    "id": "b7cc7cab96ab4560b9424841a618cac7",
    "idx": 35,
    "time": "2021-02-03T19:01:42.657Z",
    "type": "execution"
   },
   {
    "id": "b7cc7cab96ab4560b9424841a618cac7",
    "time": "2021-02-03T19:01:43.084Z",
    "type": "completion"
   },
   {
    "code": "PD_sent = pos_neg_data[pos_neg_data['Dept'] == 'PD']\nPD_sent.groupby(['Course', 'Overall Rating']).size().unstack().plot(kind='barh', figsize = (8,8), stacked=True);\nplt.xlabel(\"Count\");\nplt.ylabel(\"Course\");\nplt.title('PD: Overall Rating Sentiment');",
    "id": "77a8f11da9304da0b0fa8fbd5d2dc8fb",
    "idx": 36,
    "time": "2021-02-03T19:02:03.394Z",
    "type": "execution"
   },
   {
    "id": "77a8f11da9304da0b0fa8fbd5d2dc8fb",
    "time": "2021-02-03T19:02:03.824Z",
    "type": "completion"
   },
   {
    "code": "PW_sent = pos_neg_data[pos_neg_data['Dept'] == 'PW']\nPW_sent.groupby(['Course', 'Overall Rating']).size().unstack().plot(kind='barh', figsize = (8,8), stacked=True);\nplt.xlabel(\"Count\");\nplt.ylabel(\"Course\");\nplt.title('PW: Overall Rating Sentiment');",
    "id": "08e7bfad95fc431580820d877142d715",
    "idx": 37,
    "time": "2021-02-03T19:02:28.465Z",
    "type": "execution"
   },
   {
    "id": "08e7bfad95fc431580820d877142d715",
    "time": "2021-02-03T19:02:29.013Z",
    "type": "completion"
   },
   {
    "code": "survey_data[survey_data['Comments'].notnull()].value_counts('Overall Rating')",
    "id": "e04ea8ee193647438902f2ff4b436718",
    "idx": 39,
    "time": "2021-02-03T19:05:10.225Z",
    "type": "execution"
   },
   {
    "id": "e04ea8ee193647438902f2ff4b436718",
    "time": "2021-02-03T19:05:10.404Z",
    "type": "completion"
   },
   {
    "code": "pos_neg_data[pos_neg_data['Comments'].notnull()].value_counts('Overall Rating')",
    "id": "e04ea8ee193647438902f2ff4b436718",
    "idx": 39,
    "time": "2021-02-03T19:05:30.321Z",
    "type": "execution"
   },
   {
    "id": "e04ea8ee193647438902f2ff4b436718",
    "time": "2021-02-03T19:05:30.452Z",
    "type": "completion"
   },
   {
    "code": "pos_neg_data[pos_neg_data['Comments'].notnull()].shape",
    "id": "4c809bf1606142558aebe8b0036e6cce",
    "idx": 39,
    "time": "2021-02-03T19:06:05.616Z",
    "type": "execution"
   },
   {
    "id": "4c809bf1606142558aebe8b0036e6cce",
    "time": "2021-02-03T19:06:05.714Z",
    "type": "completion"
   },
   {
    "code": "pos_neg_data[pos_neg_data['Comments'].notnull()].shape[0]",
    "id": "4c809bf1606142558aebe8b0036e6cce",
    "idx": 39,
    "time": "2021-02-03T19:06:09.920Z",
    "type": "execution"
   },
   {
    "id": "4c809bf1606142558aebe8b0036e6cce",
    "time": "2021-02-03T19:06:10.050Z",
    "type": "completion"
   },
   {
    "code": "print('How many people in survey commented: ' pos_neg_data[pos_neg_data['Comments'].notnull()].shape[0])",
    "id": "4c809bf1606142558aebe8b0036e6cce",
    "idx": 39,
    "time": "2021-02-03T19:06:40.913Z",
    "type": "execution"
   },
   {
    "id": "4c809bf1606142558aebe8b0036e6cce",
    "time": "2021-02-03T19:06:41.012Z",
    "type": "completion"
   },
   {
    "code": "print('How many people in survey commented: ' + pos_neg_data[pos_neg_data['Comments'].notnull()].shape[0])",
    "id": "4c809bf1606142558aebe8b0036e6cce",
    "idx": 39,
    "time": "2021-02-03T19:06:45.410Z",
    "type": "execution"
   },
   {
    "id": "4c809bf1606142558aebe8b0036e6cce",
    "time": "2021-02-03T19:06:45.671Z",
    "type": "completion"
   },
   {
    "code": "print('How many people in survey commented: ' + 'pos_neg_data[pos_neg_data['Comments'].notnull()].shape[0]'')",
    "id": "4c809bf1606142558aebe8b0036e6cce",
    "idx": 39,
    "time": "2021-02-03T19:06:54.561Z",
    "type": "execution"
   },
   {
    "id": "4c809bf1606142558aebe8b0036e6cce",
    "time": "2021-02-03T19:06:54.665Z",
    "type": "completion"
   },
   {
    "code": "print('How many people in survey commented:', pos_neg_data[pos_neg_data['Comments'].notnull()].shape[0])",
    "id": "4c809bf1606142558aebe8b0036e6cce",
    "idx": 39,
    "time": "2021-02-03T19:07:41.842Z",
    "type": "execution"
   },
   {
    "id": "4c809bf1606142558aebe8b0036e6cce",
    "time": "2021-02-03T19:07:41.948Z",
    "type": "completion"
   },
   {
    "code": "pos_neg_data[pos_neg_data['Comments'].notnull()].value_counts('Overall Rating')[0]",
    "id": "e04ea8ee193647438902f2ff4b436718",
    "idx": 40,
    "time": "2021-02-03T19:08:04.482Z",
    "type": "execution"
   },
   {
    "id": "e04ea8ee193647438902f2ff4b436718",
    "time": "2021-02-03T19:08:04.616Z",
    "type": "completion"
   },
   {
    "code": "pos_neg_data[pos_neg_data['Comments'].notnull()].value_counts('Overall Rating')",
    "id": "e04ea8ee193647438902f2ff4b436718",
    "idx": 40,
    "time": "2021-02-03T19:08:07.553Z",
    "type": "execution"
   },
   {
    "id": "e04ea8ee193647438902f2ff4b436718",
    "time": "2021-02-03T19:08:07.694Z",
    "type": "completion"
   },
   {
    "code": "comments = pos_neg_data[pos_neg_data['Comments'].notnull()]\nprint('How many people in survey commented:', comments.shape[0])",
    "id": "4c809bf1606142558aebe8b0036e6cce",
    "idx": 39,
    "time": "2021-02-03T19:08:37.346Z",
    "type": "execution"
   },
   {
    "id": "4c809bf1606142558aebe8b0036e6cce",
    "time": "2021-02-03T19:08:37.449Z",
    "type": "completion"
   },
   {
    "code": "positive = comments.value_counts('Overall Rating')[0]\nneutral = comments.value_counts('Overall Rating')[1]\nnegative = comments.value_counts('Overall Rating')[2]\nprint('Positive Overall Rating', positive)\nprint('Neutral Overall Rating', neutral)\nprint('Negative Overall Rating', negative)",
    "id": "e04ea8ee193647438902f2ff4b436718",
    "idx": 40,
    "time": "2021-02-03T19:10:10.401Z",
    "type": "execution"
   },
   {
    "id": "e04ea8ee193647438902f2ff4b436718",
    "time": "2021-02-03T19:10:10.539Z",
    "type": "completion"
   },
   {
    "code": "positive = comments.value_counts('Overall Rating')[0]\nneutral = comments.value_counts('Overall Rating')[1]\nnegative = comments.value_counts('Overall Rating')[2]\nprint('Positive Overall Rating', positive / comments.shape[0])\nprint('Neutral Overall Rating', neutral / comments.shape[0])\nprint('Negative Overall Rating', negative / comments.shape[0])",
    "id": "e04ea8ee193647438902f2ff4b436718",
    "idx": 40,
    "time": "2021-02-03T19:10:32.913Z",
    "type": "execution"
   },
   {
    "id": "e04ea8ee193647438902f2ff4b436718",
    "time": "2021-02-03T19:10:33.049Z",
    "type": "completion"
   },
   {
    "code": "positive = comments.value_counts('Overall Rating')[0]\nneutral = comments.value_counts('Overall Rating')[1]\nnegative = comments.value_counts('Overall Rating')[2]\nprint('Positive Overall Rating', positive / comments.shape[0] * 100)\nprint('Neutral Overall Rating', neutral / comments.shape[0] * 100)\nprint('Negative Overall Rating', negative / comments.shape[0] * 100)",
    "id": "e04ea8ee193647438902f2ff4b436718",
    "idx": 40,
    "time": "2021-02-03T19:10:46.306Z",
    "type": "execution"
   },
   {
    "id": "e04ea8ee193647438902f2ff4b436718",
    "time": "2021-02-03T19:10:46.449Z",
    "type": "completion"
   },
   {
    "code": "no_comments = pos_neg_data[~pos_neg_data['Comments'].notnull()]\nprint('How many people in survey did not comment'. no_comments.shape[0])",
    "id": "01f92933778343978d35f746595c22ad",
    "idx": 41,
    "time": "2021-02-03T19:11:33.201Z",
    "type": "execution"
   },
   {
    "id": "01f92933778343978d35f746595c22ad",
    "time": "2021-02-03T19:11:33.426Z",
    "type": "completion"
   },
   {
    "code": "no_comments = pos_neg_data[~pos_neg_data['Comments'].notnull()]\nprint('How many people in survey did not comment', no_comments.shape[0])",
    "id": "01f92933778343978d35f746595c22ad",
    "idx": 41,
    "time": "2021-02-03T19:11:46.465Z",
    "type": "execution"
   },
   {
    "id": "01f92933778343978d35f746595c22ad",
    "time": "2021-02-03T19:11:46.564Z",
    "type": "completion"
   },
   {
    "code": "no_comments.value_counts('Overall Rating')",
    "id": "735c9a72527846768e2c5e4f3e9aa93f",
    "idx": 42,
    "time": "2021-02-03T19:12:34.163Z",
    "type": "execution"
   },
   {
    "id": "735c9a72527846768e2c5e4f3e9aa93f",
    "time": "2021-02-03T19:12:34.289Z",
    "type": "completion"
   },
   {
    "code": "positive = no_comments.value_counts('Overall Rating')[0]\nneutral = no_comments.value_counts('Overall Rating')[1]\nnegative = no_comments.value_counts('Overall Rating')[2]\nprint('Positive Overall Rating', positive / no_comments.shape[0] * 100)\nprint('Neutral Overall Rating', neutral / no_comments.shape[0] * 100)\nprint('Negative Overall Rating', negative / no_comments.shape[0] * 100)",
    "id": "d8a853b0839c4e2bbc9ec6f3c66d7583",
    "idx": 43,
    "time": "2021-02-03T19:12:52.736Z",
    "type": "execution"
   },
   {
    "id": "d8a853b0839c4e2bbc9ec6f3c66d7583",
    "time": "2021-02-03T19:12:52.918Z",
    "type": "completion"
   },
   {
    "code": "comments = pos_neg_data[pos_neg_data['Comments'].notnull()]\nprint('How many people in survey commented:', comments.shape[0])\npositive = comments.value_counts('Overall Rating')[0]\nneutral = comments.value_counts('Overall Rating')[1]\nnegative = comments.value_counts('Overall Rating')[2]\nprint('Positive Overall Rating', positive / comments.shape[0] * 100)\nprint('Neutral Overall Rating', neutral / comments.shape[0] * 100)\nprint('Negative Overall Rating', negative / comments.shape[0] * 100)",
    "id": "e04ea8ee193647438902f2ff4b436718",
    "idx": 39,
    "time": "2021-02-03T19:13:57.153Z",
    "type": "execution"
   },
   {
    "id": "e04ea8ee193647438902f2ff4b436718",
    "time": "2021-02-03T19:13:57.309Z",
    "type": "completion"
   },
   {
    "code": "no_comments = pos_neg_data[~pos_neg_data['Comments'].notnull()]\nprint('How many people in survey did not comment', no_comments.shape[0])\npositive = no_comments.value_counts('Overall Rating')[0]\nneutral = no_comments.value_counts('Overall Rating')[1]\nnegative = no_comments.value_counts('Overall Rating')[2]\nprint('Positive Overall Rating', positive / no_comments.shape[0] * 100)\nprint('Neutral Overall Rating', neutral / no_comments.shape[0] * 100)\nprint('Negative Overall Rating', negative / no_comments.shape[0] * 100)",
    "id": "d8a853b0839c4e2bbc9ec6f3c66d7583",
    "idx": 40,
    "time": "2021-02-03T19:13:58.800Z",
    "type": "execution"
   },
   {
    "id": "d8a853b0839c4e2bbc9ec6f3c66d7583",
    "time": "2021-02-03T19:13:58.868Z",
    "type": "completion"
   },
   {
    "code": "ASD_sent.shape",
    "id": "3087f8a9c00a47e4a38ad46d26313cd7",
    "idx": 42,
    "time": "2021-02-03T19:15:26.961Z",
    "type": "execution"
   },
   {
    "id": "3087f8a9c00a47e4a38ad46d26313cd7",
    "time": "2021-02-03T19:15:27.152Z",
    "type": "completion"
   },
   {
    "code": "ASD_sent[ASD_sent['Comments'].notnull()].value_counts('Overall Rating')",
    "id": "974b31b455094d949ad42ee68929b846",
    "idx": 42,
    "time": "2021-02-03T19:22:01.331Z",
    "type": "execution"
   },
   {
    "id": "974b31b455094d949ad42ee68929b846",
    "time": "2021-02-03T19:22:01.464Z",
    "type": "completion"
   },
   {
    "code": "ASD_sent[~ASD_sent['Comments'].notnull()].value_counts('Overall Rating')",
    "id": "974b31b455094d949ad42ee68929b846",
    "idx": 42,
    "time": "2021-02-03T19:22:16.291Z",
    "type": "execution"
   },
   {
    "id": "974b31b455094d949ad42ee68929b846",
    "time": "2021-02-03T19:22:16.428Z",
    "type": "completion"
   },
   {
    "code": "ASD_comment = ASD_sent[ASD_sent['Comments'].notnull()]\nprint('How many people in ASD commented:', ASD_comment.shape[0])\npositive = ASD_comments.value_counts('Overall Rating')[0]\nneutral = ASD_comments.value_counts(\"Overall Rating\")[1]\nnegative = ASD_comments.value_counts('Overall Rating')[2]\nprint('Positive Overall Rating', positive / ASD_comments.shape[0])\nprint('Neutral Overall Rating', neutral / ASD_comments.shape[0])\nprint('Negative Overall Rating', negative / ASD_comments.shape[0])\n\nASD_no_comment = ASD_sent[~ASD_sent['Comments'].notnull()]\nprint('How many people in ASD did not comment', ASD_no_comment.shape[0])\npositve_no = ASD_no_comments.value_counts('Overall Rating')[0]\nneutral_no = ASD_no_comments.value_counts('Overall Rating')[1]\nnegative_no = ASD_no_comments.value_counts('Overall Rating')[2]\nprint('Positive Overall Rating', positive_no / ASD_no_comments.shape[0] * 100)\nprint('Neutral Overall Rating', neutral_no / ASD_no_comments.shape[0] * 100)\nprint('Negative Overall Rating', negative_no / ASD_no_comments[0] * 100)",
    "id": "3087f8a9c00a47e4a38ad46d26313cd7",
    "idx": 43,
    "time": "2021-02-03T19:22:23.860Z",
    "type": "execution"
   },
   {
    "id": "3087f8a9c00a47e4a38ad46d26313cd7",
    "time": "2021-02-03T19:22:24.018Z",
    "type": "completion"
   },
   {
    "code": "ASD_comment = ASD_sent[ASD_sent['Comments'].notnull()]\nprint('How many people in ASD commented:', ASD_comment.shape[0])\npositive = ASD_comment.value_counts('Overall Rating')[0]\nneutral = ASD_comment.value_counts(\"Overall Rating\")[1]\nnegative = ASD_comment.value_counts('Overall Rating')[2]\nprint('Positive Overall Rating', positive / ASD_comment.shape[0])\nprint('Neutral Overall Rating', neutral / ASD_comment.shape[0])\nprint('Negative Overall Rating', negative / ASD_comment.shape[0])\n\nASD_no_comment = ASD_sent[~ASD_sent['Comments'].notnull()]\nprint('How many people in ASD did not comment', ASD_no_comment.shape[0])\npositve_no = ASD_no_comments.value_counts('Overall Rating')[0]\nneutral_no = ASD_no_comments.value_counts('Overall Rating')[1]\nnegative_no = ASD_no_comments.value_counts('Overall Rating')[2]\nprint('Positive Overall Rating', positive_no / ASD_no_comments.shape[0] * 100)\nprint('Neutral Overall Rating', neutral_no / ASD_no_comments.shape[0] * 100)\nprint('Negative Overall Rating', negative_no / ASD_no_comments[0] * 100)",
    "id": "3087f8a9c00a47e4a38ad46d26313cd7",
    "idx": 43,
    "time": "2021-02-03T19:22:39.809Z",
    "type": "execution"
   },
   {
    "id": "3087f8a9c00a47e4a38ad46d26313cd7",
    "time": "2021-02-03T19:22:39.943Z",
    "type": "completion"
   },
   {
    "code": "ASD_comment = ASD_sent[ASD_sent['Comments'].notnull()]\nprint('How many people in ASD commented:', ASD_comment.shape[0])\npositive = ASD_comment.value_counts('Overall Rating')[0]\nneutral = ASD_comment.value_counts(\"Overall Rating\")[1]\nnegative = ASD_comment.value_counts('Overall Rating')[2]\nprint('Positive Overall Rating', positive / ASD_comment.shape[0])\nprint('Neutral Overall Rating', neutral / ASD_comment.shape[0])\nprint('Negative Overall Rating', negative / ASD_comment.shape[0])\n\nASD_no_comment = ASD_sent[~ASD_sent['Comments'].notnull()]\nprint('How many people in ASD did not comment', ASD_no_comment.shape[0])\npositve_no = ASD_no_comment.value_counts('Overall Rating')[0]\nneutral_no = ASD_no_comment.value_counts('Overall Rating')[1]\nnegative_no = ASD_no_comment.value_counts('Overall Rating')[2]\nprint('Positive Overall Rating', positive_no / ASD_no_comment.shape[0] * 100)\nprint('Neutral Overall Rating', neutral_no / ASD_no_comment.shape[0] * 100)\nprint('Negative Overall Rating', negative_no / ASD_no_comment.shape[0] * 100)",
    "id": "3087f8a9c00a47e4a38ad46d26313cd7",
    "idx": 43,
    "time": "2021-02-03T19:23:06.787Z",
    "type": "execution"
   },
   {
    "id": "3087f8a9c00a47e4a38ad46d26313cd7",
    "time": "2021-02-03T19:23:06.962Z",
    "type": "completion"
   },
   {
    "code": "ASD_comment = ASD_sent[ASD_sent['Comments'].notnull()]\nprint('How many people in ASD commented:', ASD_comment.shape[0])\npositive = ASD_comment.value_counts('Overall Rating')[0]\nneutral = ASD_comment.value_counts(\"Overall Rating\")[1]\nnegative = ASD_comment.value_counts('Overall Rating')[2]\nprint('Positive Overall Rating', positive / ASD_comment.shape[0])\nprint('Neutral Overall Rating', neutral / ASD_comment.shape[0])\nprint('Negative Overall Rating', negative / ASD_comment.shape[0])\n\nASD_no_comment = ASD_sent[~ASD_sent['Comments'].notnull()]\nprint('How many people in ASD did not comment', ASD_no_comment.shape[0])\npositive_no = ASD_no_comment.value_counts('Overall Rating')[0]\nneutral_no = ASD_no_comment.value_counts('Overall Rating')[1]\nnegative_no = ASD_no_comment.value_counts('Overall Rating')[2]\nprint('Positive Overall Rating', positive_no / ASD_no_comment.shape[0] * 100)\nprint('Neutral Overall Rating', neutral_no / ASD_no_comment.shape[0] * 100)\nprint('Negative Overall Rating', negative_no / ASD_no_comment.shape[0] * 100)",
    "id": "3087f8a9c00a47e4a38ad46d26313cd7",
    "idx": 43,
    "time": "2021-02-03T19:23:22.979Z",
    "type": "execution"
   },
   {
    "id": "3087f8a9c00a47e4a38ad46d26313cd7",
    "time": "2021-02-03T19:23:23.101Z",
    "type": "completion"
   },
   {
    "code": "ASD_comment = ASD_sent[ASD_sent['Comments'].notnull()]\nprint('How many people in ASD commented:', ASD_comment.shape[0])\npositive = ASD_comment.value_counts('Overall Rating')[0]\nneutral = ASD_comment.value_counts(\"Overall Rating\")[1]\nnegative = ASD_comment.value_counts('Overall Rating')[2]\nprint('Positive Overall Rating', positive / ASD_comment.shape[0] * 100)\nprint('Neutral Overall Rating', neutral / ASD_comment.shape[0] * 100)\nprint('Negative Overall Rating', negative / ASD_comment.shape[0] * 100)\n\nASD_no_comment = ASD_sent[~ASD_sent['Comments'].notnull()]\nprint('How many people in ASD did not comment', ASD_no_comment.shape[0])\npositive_no = ASD_no_comment.value_counts('Overall Rating')[0]\nneutral_no = ASD_no_comment.value_counts('Overall Rating')[1]\nnegative_no = ASD_no_comment.value_counts('Overall Rating')[2]\nprint('Positive Overall Rating', positive_no / ASD_no_comment.shape[0] * 100)\nprint('Neutral Overall Rating', neutral_no / ASD_no_comment.shape[0] * 100)\nprint('Negative Overall Rating', negative_no / ASD_no_comment.shape[0] * 100)",
    "id": "3087f8a9c00a47e4a38ad46d26313cd7",
    "idx": 43,
    "time": "2021-02-03T19:23:37.218Z",
    "type": "execution"
   },
   {
    "id": "3087f8a9c00a47e4a38ad46d26313cd7",
    "time": "2021-02-03T19:23:37.364Z",
    "type": "completion"
   },
   {
    "code": "CDD_sent[CDD_sent['Comments'].notnull()].value_counts('Overall Rating')",
    "id": "391b380151b44bdeb99ffea128ad8fa2",
    "idx": 44,
    "time": "2021-02-03T19:25:34.595Z",
    "type": "execution"
   },
   {
    "id": "391b380151b44bdeb99ffea128ad8fa2",
    "time": "2021-02-03T19:25:34.707Z",
    "type": "completion"
   },
   {
    "code": "CDD_sent[~CDD_sent['Comments'].notnull()].value_counts('Overall Rating')",
    "id": "391b380151b44bdeb99ffea128ad8fa2",
    "idx": 44,
    "time": "2021-02-03T19:25:46.322Z",
    "type": "execution"
   },
   {
    "id": "391b380151b44bdeb99ffea128ad8fa2",
    "time": "2021-02-03T19:25:46.458Z",
    "type": "completion"
   },
   {
    "code": "CDD_comment = CDD_sent[CDD_sent['Comments'].notnull()]\nprint('How many people in CDD commented:', CDD_comment.shape[0])\npositive = CDD_comment.value_counts('Overall Rating')[2]\nneutral = CDD_comment.value_counts(\"Overall Rating\")[1]\nnegative = CDD_comment.value_counts('Overall Rating')[0]\nprint('Positive Overall Rating', positive / CDD_comment.shape[0] * 100)\nprint('Neutral Overall Rating', neutral / CDD_comment.shape[0] * 100)\nprint('Negative Overall Rating', negative / CDD_comment.shape[0] * 100)\n\nCDD_no_comment = CDD_sent[~CDD_sent['Comments'].notnull()]\nprint('How many people in CDD did not comment', CDD_no_comment.shape[0])\npositive_no = CDD_no_comment.value_counts('Overall Rating')[0]\nneutral_no = CDD_no_comment.value_counts('Overall Rating')[1]\nnegative_no = CDD_no_comment.value_counts('Overall Rating')[2]\nprint('Positive Overall Rating', positive_no / CDD_no_comment.shape[0] * 100)\nprint('Neutral Overall Rating', neutral_no / CDD_no_comment.shape[0] * 100)\nprint('Negative Overall Rating', negative_no / CDD_no_comment.shape[0] * 100)",
    "id": "d7d4c95916964fc69280d9c1003983b7",
    "idx": 44,
    "time": "2021-02-03T19:25:59.746Z",
    "type": "execution"
   },
   {
    "id": "d7d4c95916964fc69280d9c1003983b7",
    "time": "2021-02-03T19:25:59.930Z",
    "type": "completion"
   },
   {
    "code": "City_Att_sent[City_Att_sent['Comments'].notnull()]",
    "id": "e1f735837a794b3c875a996076911151",
    "idx": 45,
    "time": "2021-02-03T19:28:47.746Z",
    "type": "execution"
   },
   {
    "id": "e1f735837a794b3c875a996076911151",
    "time": "2021-02-03T19:28:47.944Z",
    "type": "completion"
   },
   {
    "code": "City_Att_sent[City_Att_sent['Comments'].notnull()].value_counts('Overall Rating')",
    "id": "e1f735837a794b3c875a996076911151",
    "idx": 45,
    "time": "2021-02-03T19:28:55.347Z",
    "type": "execution"
   },
   {
    "id": "e1f735837a794b3c875a996076911151",
    "time": "2021-02-03T19:28:55.497Z",
    "type": "completion"
   },
   {
    "code": "City_Att_sent[~City_Att_sent['Comments'].notnull()].value_counts('Overall Rating')",
    "id": "e1f735837a794b3c875a996076911151",
    "idx": 45,
    "time": "2021-02-03T19:29:08.786Z",
    "type": "execution"
   },
   {
    "id": "e1f735837a794b3c875a996076911151",
    "time": "2021-02-03T19:29:08.937Z",
    "type": "completion"
   },
   {
    "code": "City_Att_comment = City_Att_sent[City_Att_sent['Comments'].notnull()]\nprint('How many people in City Att commented:', City_Att_comment.shape[0])\npositive = City_Att_comment.value_counts('Overall Rating')[2]\nneutral = City_Att_comment.value_counts(\"Overall Rating\")[1]\nnegative = City_Att_comment.value_counts('Overall Rating')[0]\nprint('Positive Overall Rating', positive / City_Att_comment.shape[0] * 100)\nprint('Neutral Overall Rating', neutral / City_Att_comment.shape[0] * 100)\nprint('Negative Overall Rating', negative / City_Att_comment.shape[0] * 100)\n\nCity_Att_no_comment = City_Att_sent[~City_Att_sent['Comments'].notnull()]\nprint('How many people in City Att did not comment', City_Att_no_comment.shape[0])\npositive_no = City_Att_no_comment.value_counts('Overall Rating')[0]\nneutral_no = City_Att_no_comment.value_counts('Overall Rating')[1]\nnegative_no = City_Att_no_comment.value_counts('Overall Rating')[2]\nprint('Positive Overall Rating', positive_no / City_Att_no_comment.shape[0] * 100)\nprint('Neutral Overall Rating', neutral_no / City_Att_no_comment.shape[0] * 100)\nprint('Negative Overall Rating', negative_no / City_Att_no_comment.shape[0] * 100)",
    "id": "94d68f2a8a0a48bf8a1a97356f17dc90",
    "idx": 46,
    "time": "2021-02-03T19:29:18.306Z",
    "type": "execution"
   },
   {
    "id": "94d68f2a8a0a48bf8a1a97356f17dc90",
    "time": "2021-02-03T19:29:18.541Z",
    "type": "completion"
   },
   {
    "code": "City_Clk_sent[City_Clk_sent['Comments'].notnull()].value_counts('Overall Rating')",
    "id": "5316a3efa50140bf9f233fe85a5f3876",
    "idx": 46,
    "time": "2021-02-03T19:31:26.818Z",
    "type": "execution"
   },
   {
    "id": "5316a3efa50140bf9f233fe85a5f3876",
    "time": "2021-02-03T19:31:26.974Z",
    "type": "completion"
   },
   {
    "code": "City_Clk_sent[~City_Clk_sent['Comments'].notnull()].value_counts('Overall Rating')",
    "id": "5316a3efa50140bf9f233fe85a5f3876",
    "idx": 46,
    "time": "2021-02-03T19:31:53.490Z",
    "type": "execution"
   },
   {
    "id": "5316a3efa50140bf9f233fe85a5f3876",
    "time": "2021-02-03T19:31:53.649Z",
    "type": "completion"
   },
   {
    "code": "City_Clk_comment = City_Clk_sent[City_Clk_sent['Comments'].notnull()]\nprint('How many people in City Clk commented:', City_Clk_comment.shape[0])\npositive = City_Clk_comment.value_counts('Overall Rating')[1]\nneutral = City_Clk_comment.value_counts(\"Overall Rating\")[2]\nnegative = City_Clk_comment.value_counts('Overall Rating')[0]\nprint('Positive Overall Rating', positive / City_Clk_comment.shape[0] * 100)\nprint('Neutral Overall Rating', neutral / City_Clk_comment.shape[0] * 100)\nprint('Negative Overall Rating', negative / City_Clk_comment.shape[0] * 100)\n\nCity_Clk_no_comment = City_Clk_sent[~City_Clk_sent['Comments'].notnull()]\nprint('How many people in City Clk did not comment', City_Clk_no_comment.shape[0])\npositive_no = City_Clk_no_comment.value_counts('Overall Rating')[0]\nneutral_no = City_Clk_no_comment.value_counts('Overall Rating')[1]\nnegative_no = City_Clk_no_comment.value_counts('Overall Rating')[2]\nprint('Positive Overall Rating', positive_no / City_Clk_no_comment.shape[0] * 100)\nprint('Neutral Overall Rating', neutral_no / City_Clk_no_comment.shape[0] * 100)\nprint('Negative Overall Rating', negative_no / City_Clk_no_comment.shape[0] * 100)",
    "id": "55aa311ba47a4a8ab0a3856e606907ce",
    "idx": 47,
    "time": "2021-02-03T19:31:58.564Z",
    "type": "execution"
   },
   {
    "id": "55aa311ba47a4a8ab0a3856e606907ce",
    "time": "2021-02-03T19:31:58.834Z",
    "type": "completion"
   },
   {
    "code": "City_Mgr_sent[City_Mgr_sent['Comments'].notnull()].value_counts('Overall Rating')",
    "id": "a4c4fc21eb0d49de94e3415b4af1c2a5",
    "idx": 48,
    "time": "2021-02-03T19:34:22.371Z",
    "type": "execution"
   },
   {
    "id": "a4c4fc21eb0d49de94e3415b4af1c2a5",
    "time": "2021-02-03T19:34:22.521Z",
    "type": "completion"
   },
   {
    "code": "City_Mgr_sent[~City_Mgr_sent['Comments'].notnull()].value_counts('Overall Rating')",
    "id": "a4c4fc21eb0d49de94e3415b4af1c2a5",
    "idx": 48,
    "time": "2021-02-03T19:34:38.131Z",
    "type": "execution"
   },
   {
    "id": "a4c4fc21eb0d49de94e3415b4af1c2a5",
    "time": "2021-02-03T19:34:38.289Z",
    "type": "completion"
   },
   {
    "code": "City_Mgr_comment = City_Mgr_sent[City_Mgr_sent['Comments'].notnull()]\nprint('How many people in City Mgr commented:', City_Mgr_comment.shape[0])\npositive = City_Mgr_comment.value_counts('Overall Rating')[0\nneutral = City_Mgr_comment.value_counts(\"Overall Rating\")[2]\nnegative = City_Mgr_comment.value_counts('Overall Rating')[1\nprint('Positive Overall Rating', positive / City_Mgr_comment.shape[0] * 100)\nprint('Neutral Overall Rating', neutral / City_Mgr_comment.shape[0] * 100)\nprint('Negative Overall Rating', negative / City_Mgr_comment.shape[0] * 100)\n\nCity_Mgr_no_comment = City_Mgr_sent[~City_Mgr_sent['Comments'].notnull()]\nprint('How many people in City Mgr did not comment', City_Mgr_no_comment.shape[0])\npositive_no = City_Mgr_no_comment.value_counts('Overall Rating')[1\nneutral_no = City_Mgr_no_comment.value_counts('Overall Rating')[0\nnegative_no = City_Mgr_no_comment.value_counts('Overall Rating')[2]\nprint('Positive Overall Rating', positive_no / City_Mgr_no_comment.shape[0] * 100)\nprint('Neutral Overall Rating', neutral_no / City_Mgr_no_comment.shape[0] * 100)\nprint('Negative Overall Rating', negative_no / City_Mgr_no_comment.shape[0] * 100)",
    "id": "2b3ba3fd89024f51a4163b508988b8f0",
    "idx": 49,
    "time": "2021-02-03T19:34:46.580Z",
    "type": "execution"
   },
   {
    "id": "2b3ba3fd89024f51a4163b508988b8f0",
    "time": "2021-02-03T19:34:46.791Z",
    "type": "completion"
   },
   {
    "code": "City_Mgr_comment = City_Mgr_sent[City_Mgr_sent['Comments'].notnull()]\nprint('How many people in City Mgr commented:', City_Mgr_comment.shape[0])\npositive = City_Mgr_comment.value_counts('Overall Rating')[0\nneutral = City_Mgr_comment.value_counts(\"Overall Rating\")[2]\nnegative = City_Mgr_comment.value_counts('Overall Rating')[1\nprint('Positive Overall Rating', positive / City_Mgr_comment.shape[0] * 100)\nprint('Neutral Overall Rating', neutral / City_Mgr_comment.shape[0] * 100)\nprint('Negative Overall Rating', negative / City_Mgr_comment.shape[0] * 100)\n\nCity_Mgr_no_comment = City_Mgr_sent[~City_Mgr_sent['Comments'].notnull()]\nprint('How many people in City Mgr did not comment', City_Mgr_no_comment.shape[0])\npositive_no = City_Mgr_no_comment.value_counts('Overall Rating')[1]\nneutral_no = City_Mgr_no_comment.value_counts('Overall Rating')[0\nnegative_no = City_Mgr_no_comment.value_counts('Overall Rating')[2]\nprint('Positive Overall Rating', positive_no / City_Mgr_no_comment.shape[0] * 100)\nprint('Neutral Overall Rating', neutral_no / City_Mgr_no_comment.shape[0] * 100)\nprint('Negative Overall Rating', negative_no / City_Mgr_no_comment.shape[0] * 100)",
    "id": "2b3ba3fd89024f51a4163b508988b8f0",
    "idx": 49,
    "time": "2021-02-03T19:34:49.860Z",
    "type": "execution"
   },
   {
    "id": "2b3ba3fd89024f51a4163b508988b8f0",
    "time": "2021-02-03T19:34:50.036Z",
    "type": "completion"
   },
   {
    "code": "City_Mgr_comment = City_Mgr_sent[City_Mgr_sent['Comments'].notnull()]\nprint('How many people in City Mgr commented:', City_Mgr_comment.shape[0])\npositive = City_Mgr_comment.value_counts('Overall Rating')[0]\nneutral = City_Mgr_comment.value_counts(\"Overall Rating\")[2]\nnegative = City_Mgr_comment.value_counts('Overall Rating')[1\nprint('Positive Overall Rating', positive / City_Mgr_comment.shape[0] * 100)\nprint('Neutral Overall Rating', neutral / City_Mgr_comment.shape[0] * 100)\nprint('Negative Overall Rating', negative / City_Mgr_comment.shape[0] * 100)\n\nCity_Mgr_no_comment = City_Mgr_sent[~City_Mgr_sent['Comments'].notnull()]\nprint('How many people in City Mgr did not comment', City_Mgr_no_comment.shape[0])\npositive_no = City_Mgr_no_comment.value_counts('Overall Rating')[1]\nneutral_no = City_Mgr_no_comment.value_counts('Overall Rating')[0]\nnegative_no = City_Mgr_no_comment.value_counts('Overall Rating')[2]\nprint('Positive Overall Rating', positive_no / City_Mgr_no_comment.shape[0] * 100)\nprint('Neutral Overall Rating', neutral_no / City_Mgr_no_comment.shape[0] * 100)\nprint('Negative Overall Rating', negative_no / City_Mgr_no_comment.shape[0] * 100)",
    "id": "2b3ba3fd89024f51a4163b508988b8f0",
    "idx": 49,
    "time": "2021-02-03T19:35:02.611Z",
    "type": "execution"
   },
   {
    "id": "2b3ba3fd89024f51a4163b508988b8f0",
    "time": "2021-02-03T19:35:02.788Z",
    "type": "completion"
   },
   {
    "code": "City_Mgr_comment = City_Mgr_sent[City_Mgr_sent['Comments'].notnull()]\nprint('How many people in City Mgr commented:', City_Mgr_comment.shape[0])\npositive = City_Mgr_comment.value_counts('Overall Rating')[0]\nneutral = City_Mgr_comment.value_counts(\"Overall Rating\")[2]\nnegative = City_Mgr_comment.value_counts('Overall Rating')[1\nprint('Positive Overall Rating', positive / City_Mgr_comment.shape[0] * 100)\nprint('Neutral Overall Rating', neutral / City_Mgr_comment.shape[0] * 100)\nprint('Negative Overall Rating', negative / City_Mgr_comment.shape[0] * 100)\n\nCity_Mgr_no_comment = City_Mgr_sent[~City_Mgr_sent['Comments'].notnull()]\nprint('How many people in City Mgr did not comment', City_Mgr_no_comment.shape[0])\npositive_no = City_Mgr_no_comment.value_counts('Overall Rating')[1]\nneutral_no = City_Mgr_no_comment.value_counts('Overall Rating')[0]\nnegative_no = City_Mgr_no_comment.value_counts('Overall Rating')[2]\nprint('Positive Overall Rating', positive_no / City_Mgr_no_comment.shape[0] * 100)\nprint('Neutral Overall Rating', neutral_no / City_Mgr_no_comment.shape[0] * 100)\nprint('Negative Overall Rating', negative_no / City_Mgr_no_comment.shape[0] * 100)",
    "id": "2b3ba3fd89024f51a4163b508988b8f0",
    "idx": 49,
    "time": "2021-02-03T19:35:25.938Z",
    "type": "execution"
   },
   {
    "id": "2b3ba3fd89024f51a4163b508988b8f0",
    "time": "2021-02-03T19:35:26.112Z",
    "type": "completion"
   },
   {
    "code": "City_Mgr_sent[City_Mgr_sent['Comments'].notnull()].value_counts('Overall Rating')",
    "id": "a4c4fc21eb0d49de94e3415b4af1c2a5",
    "idx": 48,
    "time": "2021-02-03T19:35:38.150Z",
    "type": "execution"
   },
   {
    "id": "a4c4fc21eb0d49de94e3415b4af1c2a5",
    "time": "2021-02-03T19:35:38.348Z",
    "type": "completion"
   },
   {
    "code": "City_Mgr_comment = City_Mgr_sent[City_Mgr_sent['Comments'].notnull()]\nprint('How many people in City Mgr commented:', City_Mgr_comment.shape[0])\npositive = City_Mgr_comment.value_counts('Overall Rating')[0]\nneutral = City_Mgr_comment.value_counts(\"Overall Rating\")[2]\nnegative = City_Mgr_comment.value_counts('Overall Rating')[1]\nprint('Positive Overall Rating', positive / City_Mgr_comment.shape[0] * 100)\nprint('Neutral Overall Rating', neutral / City_Mgr_comment.shape[0] * 100)\nprint('Negative Overall Rating', negative / City_Mgr_comment.shape[0] * 100)\n\nCity_Mgr_no_comment = City_Mgr_sent[~City_Mgr_sent['Comments'].notnull()]\nprint('How many people in City Mgr did not comment', City_Mgr_no_comment.shape[0])\npositive_no = City_Mgr_no_comment.value_counts('Overall Rating')[1]\nneutral_no = City_Mgr_no_comment.value_counts('Overall Rating')[0]\nnegative_no = City_Mgr_no_comment.value_counts('Overall Rating')[2]\nprint('Positive Overall Rating', positive_no / City_Mgr_no_comment.shape[0] * 100)\nprint('Neutral Overall Rating', neutral_no / City_Mgr_no_comment.shape[0] * 100)\nprint('Negative Overall Rating', negative_no / City_Mgr_no_comment.shape[0] * 100)",
    "id": "2b3ba3fd89024f51a4163b508988b8f0",
    "idx": 49,
    "time": "2021-02-03T19:35:47.027Z",
    "type": "execution"
   },
   {
    "id": "2b3ba3fd89024f51a4163b508988b8f0",
    "time": "2021-02-03T19:35:47.203Z",
    "type": "completion"
   },
   {
    "code": "CSD_sent[CSD_sent['Comments'].notnull()].value_counts('Overall Rating')",
    "id": "7dab0ef6820349369adf79ca6aac8acb",
    "idx": 50,
    "time": "2021-02-03T19:37:33.186Z",
    "type": "execution"
   },
   {
    "id": "7dab0ef6820349369adf79ca6aac8acb",
    "time": "2021-02-03T19:37:33.339Z",
    "type": "completion"
   },
   {
    "code": "CSD_sent[~CSD_sent['Comments'].notnull()].value_counts('Overall Rating')",
    "id": "7dab0ef6820349369adf79ca6aac8acb",
    "idx": 50,
    "time": "2021-02-03T19:37:47.010Z",
    "type": "execution"
   },
   {
    "id": "7dab0ef6820349369adf79ca6aac8acb",
    "time": "2021-02-03T19:37:47.166Z",
    "type": "completion"
   },
   {
    "code": "CSD_comment = CSD_sent[CSD_sent['Comments'].notnull()]\nprint('How many people in CSD commented:', CSD_comment.shape[0])\npositive = CSD_comment.value_counts('Overall Rating')[0]\nneutral = CSD_comment.value_counts(\"Overall Rating\")[1]\nnegative = CSD_comment.value_counts('Overall Rating')[2]\nprint('Positive Overall Rating', positive / CSD_comment.shape[0] * 100)\nprint('Neutral Overall Rating', neutral / CSD_comment.shape[0] * 100)\nprint('Negative Overall Rating', negative / CSD_comment.shape[0] * 100)\n\nCSD_no_comment = CSD_sent[~CSD_sent['Comments'].notnull()]\nprint('How many people in CSD did not comment', CSD_no_comment.shape[0])\npositive_no = CSD_no_comment.value_counts('Overall Rating')[0]\nneutral_no = CSD_no_comment.value_counts('Overall Rating')[1]\nnegative_no = CSD_no_comment.value_counts('Overall Rating')[2]\nprint('Positive Overall Rating', positive_no / CSD_no_comment.shape[0] * 100)\nprint('Neutral Overall Rating', neutral_no / CSD_no_comment.shape[0] * 100)\nprint('Negative Overall Rating', negative_no / CSD_no_comment.shape[0] * 100)",
    "id": "f4b81eb11e5145379b4bcfa9b81f2462",
    "idx": 51,
    "time": "2021-02-03T19:37:52.018Z",
    "type": "execution"
   },
   {
    "id": "f4b81eb11e5145379b4bcfa9b81f2462",
    "time": "2021-02-03T19:37:52.312Z",
    "type": "completion"
   },
   {
    "code": "EDD_sent[EDD_sent['Comments'].notnull()].value_counts('Overall Rating')",
    "id": "6b277eda09624c878ebe4e120775a14b",
    "idx": 51,
    "time": "2021-02-03T19:39:44.259Z",
    "type": "execution"
   },
   {
    "id": "6b277eda09624c878ebe4e120775a14b",
    "time": "2021-02-03T19:39:44.420Z",
    "type": "completion"
   },
   {
    "code": "EDD_sent[~EDD_sent['Comments'].notnull()].value_counts('Overall Rating')",
    "id": "6b277eda09624c878ebe4e120775a14b",
    "idx": 51,
    "time": "2021-02-03T19:39:57.715Z",
    "type": "execution"
   },
   {
    "id": "6b277eda09624c878ebe4e120775a14b",
    "time": "2021-02-03T19:39:57.883Z",
    "type": "completion"
   },
   {
    "code": "EDD_comment = EDD_sent[EDD_sent['Comments'].notnull()]\nprint('How many people in EDD commented:', EDD_comment.shape[0])\npositive = EDD_comment.value_counts('Overall Rating')[2]\nneutral = EDD_comment.value_counts(\"Overall Rating\")[1]\nnegative = EDD_comment.value_counts('Overall Rating')[0]\nprint('Positive Overall Rating', positive / EDD_comment.shape[0] * 100)\nprint('Neutral Overall Rating', neutral / EDD_comment.shape[0] * 100)\nprint('Negative Overall Rating', negative / EDD_comment.shape[0] * 100)\n\nEDD_no_comment = EDD_sent[~EDD_sent['Comments'].notnull()]\nprint('How many people in EDD did not comment', EDD_no_comment.shape[0])\npositive_no = EDD_no_comment.value_counts('Overall Rating')[0]\nneutral_no = EDD_no_comment.value_counts('Overall Rating')[1]\nnegative_no = EDD_no_comment.value_counts('Overall Rating')[2]\nprint('Positive Overall Rating', positive_no / EDD_no_comment.shape[0] * 100)\nprint('Neutral Overall Rating', neutral_no / EDD_no_comment.shape[0] * 100)\nprint('Negative Overall Rating', negative_no / EDD_no_comment.shape[0] * 100)",
    "id": "9fa2ff77dad8428484a8e13c1f001297",
    "idx": 52,
    "time": "2021-02-03T19:40:02.466Z",
    "type": "execution"
   },
   {
    "id": "9fa2ff77dad8428484a8e13c1f001297",
    "time": "2021-02-03T19:40:02.701Z",
    "type": "completion"
   },
   {
    "code": "FD_sent[EDD_sent['Comments'].notnull()].value_counts('Overall Rating')",
    "id": "7e195bdd346c4dde87c4e6236d0afa96",
    "idx": 52,
    "time": "2021-02-03T19:51:50.567Z",
    "type": "execution"
   },
   {
    "id": "7e195bdd346c4dde87c4e6236d0afa96",
    "time": "2021-02-03T19:51:50.821Z",
    "type": "completion"
   },
   {
    "code": "FD_sent[FD_sent['Comments'].notnull()].value_counts('Overall Rating')",
    "id": "7e195bdd346c4dde87c4e6236d0afa96",
    "idx": 52,
    "time": "2021-02-03T19:51:59.603Z",
    "type": "execution"
   },
   {
    "id": "7e195bdd346c4dde87c4e6236d0afa96",
    "time": "2021-02-03T19:51:59.780Z",
    "type": "completion"
   },
   {
    "code": "FD_sent[~FD_sent['Comments'].notnull()].value_counts('Overall Rating')",
    "id": "b3b9b02d99814ba2a4e672e43bbcc614",
    "idx": 53,
    "time": "2021-02-03T19:52:21.925Z",
    "type": "execution"
   },
   {
    "id": "b3b9b02d99814ba2a4e672e43bbcc614",
    "time": "2021-02-03T19:52:22.171Z",
    "type": "completion"
   },
   {
    "code": "FD_comment = FD_sent[FD_sent['Comments'].notnull()]\nprint('How many people in FD commented:', FD_comment.shape[0])\npositive = FD_comment.value_counts('Overall Rating')[0]\nneutral = FD_comment.value_counts(\"Overall Rating\")[1]\nnegative = FD_comment.value_counts('Overall Rating')[2]\nprint('Positive Overall Rating', positive / FD_comment.shape[0] * 100)\nprint('Neutral Overall Rating', neutral / FD_comment.shape[0] * 100)\nprint('Negative Overall Rating', negative / FD_comment.shape[0] * 100)\n\nFD_no_comment = FD_sent[~FD_sent['Comments'].notnull()]\nprint('How many people in FD did not comment', FD_no_comment.shape[0])\npositive_no = FD_no_comment.value_counts('Overall Rating')[0]\nneutral_no = FD_no_comment.value_counts('Overall Rating')[1]\nnegative_no = FD_no_comment.value_counts('Overall Rating')[2]\nprint('Positive Overall Rating', positive_no / FD_no_comment.shape[0] * 100)\nprint('Neutral Overall Rating', neutral_no / FD_no_comment.shape[0] * 100)\nprint('Negative Overall Rating', negative_no / FD_no_comment.shape[0] * 100)",
    "id": "a7e107a2bfe648a491e3af6aeab83788",
    "idx": 54,
    "time": "2021-02-03T19:52:26.869Z",
    "type": "execution"
   },
   {
    "id": "a7e107a2bfe648a491e3af6aeab83788",
    "time": "2021-02-03T19:52:27.097Z",
    "type": "completion"
   },
   {
    "code": "HR_sent[HR_sent['Comments'].notnull()].value_counts('Overall Rating')",
    "id": "6af6ab6434c04fe1844d5a317c2e8859",
    "idx": 55,
    "time": "2021-02-03T19:52:39.460Z",
    "type": "execution"
   },
   {
    "id": "6af6ab6434c04fe1844d5a317c2e8859",
    "time": "2021-02-03T19:52:39.699Z",
    "type": "completion"
   },
   {
    "code": "HR_sent[~HR_sent['Comments'].notnull()].value_counts('Overall Rating')",
    "id": "4c79c5d289dd4588acff55a87bf1ae37",
    "idx": 56,
    "time": "2021-02-03T19:52:40.068Z",
    "type": "execution"
   },
   {
    "id": "4c79c5d289dd4588acff55a87bf1ae37",
    "time": "2021-02-03T19:52:40.141Z",
    "type": "completion"
   },
   {
    "code": "HR_comment = HR_sent[HR_sent['Comments'].notnull()]\nprint('How many people in HR commented:', HR_comment.shape[0])\npositive = HR_comment.value_counts('Overall Rating')[0]\nneutral = HR_comment.value_counts(\"Overall Rating\")[1]\nnegative = HR_comment.value_counts('Overall Rating')[2]\nprint('Positive Overall Rating', positive / HR_comment.shape[0] * 100)\nprint('Neutral Overall Rating', neutral / HR_comment.shape[0] * 100)\nprint('Negative Overall Rating', negative / HR_comment.shape[0] * 100)\n\nHR_no_comment = HR_sent[~HR_sent['Comments'].notnull()]\nprint('How many people in HR did not comment', HR_no_comment.shape[0])\npositive_no = HR_no_comment.value_counts('Overall Rating')[0]\nneutral_no = HR_no_comment.value_counts('Overall Rating')[1]\nnegative_no = HR_no_comment.value_counts('Overall Rating')[2]\nprint('Positive Overall Rating', positive_no / HR_no_comment.shape[0] * 100)\nprint('Neutral Overall Rating', neutral_no / HR_no_comment.shape[0] * 100)\nprint('Negative Overall Rating', negative_no / HR_no_comment.shape[0] * 100)",
    "id": "b04e5c5b96e34526ade6cf14eb5bf295",
    "idx": 57,
    "time": "2021-02-03T19:53:01.605Z",
    "type": "execution"
   },
   {
    "id": "b04e5c5b96e34526ade6cf14eb5bf295",
    "time": "2021-02-03T19:53:01.773Z",
    "type": "completion"
   },
   {
    "code": "IT_sent[IT_sent['Comments'].notnull()].value_counts('Overall Rating')",
    "id": "a58664e0b33642b38d49b9831305db64",
    "idx": 58,
    "time": "2021-02-03T19:53:13.220Z",
    "type": "execution"
   },
   {
    "code": "IT_sent[~IT_sent['Comments'].notnull()].value_counts('Overall Rating')",
    "id": "a62e255dce0241b6bc38d12cada0af87",
    "idx": 59,
    "time": "2021-02-03T19:53:13.463Z",
    "type": "execution"
   },
   {
    "id": "a58664e0b33642b38d49b9831305db64",
    "time": "2021-02-03T19:53:13.548Z",
    "type": "completion"
   },
   {
    "id": "a62e255dce0241b6bc38d12cada0af87",
    "time": "2021-02-03T19:53:13.561Z",
    "type": "completion"
   },
   {
    "code": "IT_comment = IT_sent[IT_sent['Comments'].notnull()]\nprint('How many people in IT commented:', IT_comment.shape[0])\npositive = IT_comment.value_counts('Overall Rating')[0]\nneutral = IT_comment.value_counts(\"Overall Rating\")[1]\nnegative = IT_comment.value_counts('Overall Rating')[2]\nprint('Positive Overall Rating', positive / IT_comment.shape[0] * 100)\nprint('Neutral Overall Rating', neutral / IT_comment.shape[0] * 100)\nprint('Negative Overall Rating', negative / IT_comment.shape[0] * 100)\n\nIT_no_comment = IT_sent[~IT_sent['Comments'].notnull()]\nprint('How many people in IT did not comment', IT_no_comment.shape[0])\npositive_no = IT_no_comment.value_counts('Overall Rating')[0]\nneutral_no = IT_no_comment.value_counts('Overall Rating')[1]\nnegative_no = IT_no_comment.value_counts('Overall Rating')[2]\nprint('Positive Overall Rating', positive_no / IT_no_comment.shape[0] * 100)\nprint('Neutral Overall Rating', neutral_no / IT_no_comment.shape[0] * 100)\nprint('Negative Overall Rating', negative_no / IT_no_comment.shape[0] * 100)",
    "id": "bbb93a290d664f4f97b4fab02259c5d7",
    "idx": 60,
    "time": "2021-02-03T19:53:23.588Z",
    "type": "execution"
   },
   {
    "id": "bbb93a290d664f4f97b4fab02259c5d7",
    "time": "2021-02-03T19:53:23.825Z",
    "type": "completion"
   },
   {
    "code": "MUD_sent[MUD_sent['Comments'].notnull()].value_counts('Overall Rating')",
    "id": "4a448d225d094d9e8c7c8003a65fd16a",
    "idx": 61,
    "time": "2021-02-03T19:53:37.319Z",
    "type": "execution"
   },
   {
    "id": "4a448d225d094d9e8c7c8003a65fd16a",
    "time": "2021-02-03T19:53:37.548Z",
    "type": "completion"
   },
   {
    "code": "MUD_sent[~MUD_sent['Comments'].notnull()].value_counts('Overall Rating')",
    "id": "2ccbe43976a04c97b0c9cae3ebb9fe0e",
    "idx": 62,
    "time": "2021-02-03T19:53:37.606Z",
    "type": "execution"
   },
   {
    "id": "2ccbe43976a04c97b0c9cae3ebb9fe0e",
    "time": "2021-02-03T19:53:37.701Z",
    "type": "completion"
   },
   {
    "code": "MUD_comment = MUD_sent[MUD_sent['Comments'].notnull()]\nprint('How many people in MUD commented:', MUD_comment.shape[0])\npositive = MUD_comment.value_counts('Overall Rating')[0]\nneutral = MUD_comment.value_counts(\"Overall Rating\")[1]\nnegative = MUD_comment.value_counts('Overall Rating')[2]\nprint('Positive Overall Rating', positive / MUD_comment.shape[0] * 100)\nprint('Neutral Overall Rating', neutral / MUD_comment.shape[0] * 100)\nprint('Negative Overall Rating', negative / MUD_comment.shape[0] * 100)\n\nMUD_no_comment = MUD_sent[~MUD_sent['Comments'].notnull()]\nprint('How many people in MUD did not comment', MUD_no_comment.shape[0])\npositive_no = MUD_no_comment.value_counts('Overall Rating')[1]\nneutral_no = MUD_no_comment.value_counts('Overall Rating')[0]\nnegative_no = MUD_no_comment.value_counts('Overall Rating')[2]\nprint('Positive Overall Rating', positive_no / MUD_no_comment.shape[0] * 100)\nprint('Neutral Overall Rating', neutral_no / MUD_no_comment.shape[0] * 100)\nprint('Negative Overall Rating', negative_no / MUD_no_comment.shape[0] * 100)",
    "id": "a0433c581e14477e827b6bb0ce080d01",
    "idx": 63,
    "time": "2021-02-03T19:53:53.764Z",
    "type": "execution"
   },
   {
    "id": "a0433c581e14477e827b6bb0ce080d01",
    "time": "2021-02-03T19:53:54.008Z",
    "type": "completion"
   },
   {
    "code": "PD_sent[PD_sent['Comments'].notnull()].value_counts('Overall Rating')",
    "id": "42ed522498ea4c7d9f0bc1e838d827fd",
    "idx": 64,
    "time": "2021-02-03T19:54:06.997Z",
    "type": "execution"
   },
   {
    "id": "42ed522498ea4c7d9f0bc1e838d827fd",
    "time": "2021-02-03T19:54:07.242Z",
    "type": "completion"
   },
   {
    "code": "PD_sent[~PD_sent['Comments'].notnull()].value_counts('Overall Rating')",
    "id": "bc9f560a4fcc439fac2ec53570c29b28",
    "idx": 65,
    "time": "2021-02-03T19:54:07.269Z",
    "type": "execution"
   },
   {
    "id": "bc9f560a4fcc439fac2ec53570c29b28",
    "time": "2021-02-03T19:54:07.459Z",
    "type": "completion"
   },
   {
    "code": "PD_comment = PD_sent[PD_sent['Comments'].notnull()]\nprint('How many people in PD commented:', PD_comment.shape[0])\npositive = PD_comment.value_counts('Overall Rating')[2]\nneutral = PD_comment.value_counts(\"Overall Rating\")[1]\nnegative = PD_comment.value_counts('Overall Rating')[0]\nprint('Positive Overall Rating', positive / PD_comment.shape[0] * 100)\nprint('Neutral Overall Rating', neutral / PD_comment.shape[0] * 100)\nprint('Negative Overall Rating', negative / PD_comment.shape[0] * 100)\n\nPD_no_comment = PD_sent[~PD_sent['Comments'].notnull()]\nprint('How many people in PD did not comment', PD_no_comment.shape[0])\npositive_no = PD_no_comment.value_counts('Overall Rating')[0]\nneutral_no = PD_no_comment.value_counts('Overall Rating')[1]\nnegative_no = PD_no_comment.value_counts('Overall Rating')[2]\nprint('Positive Overall Rating', positive_no / PD_no_comment.shape[0] * 100)\nprint('Neutral Overall Rating', neutral_no / PD_no_comment.shape[0] * 100)\nprint('Negative Overall Rating', negative_no / PD_no_comment.shape[0] * 100)",
    "id": "165c952ac47f449285bd56756a0bc264",
    "idx": 66,
    "time": "2021-02-03T19:54:24.867Z",
    "type": "execution"
   },
   {
    "id": "165c952ac47f449285bd56756a0bc264",
    "time": "2021-02-03T19:54:25.108Z",
    "type": "completion"
   },
   {
    "code": "PW_sent[PW_sent['Comments'].notnull()].value_counts(\"Overall Rating\")",
    "id": "a0d6535b2ffe4811ade8f4a6926d3372",
    "idx": 67,
    "time": "2021-02-03T19:54:43.381Z",
    "type": "execution"
   },
   {
    "id": "a0d6535b2ffe4811ade8f4a6926d3372",
    "time": "2021-02-03T19:54:43.623Z",
    "type": "completion"
   },
   {
    "code": "PW_sent[~PW_sent['Comments'].notnull()].value_counts(\"Overall Rating\")",
    "id": "e9b0fed9fddf49f48e36e2a72d780e7e",
    "idx": 68,
    "time": "2021-02-03T19:54:43.649Z",
    "type": "execution"
   },
   {
    "id": "e9b0fed9fddf49f48e36e2a72d780e7e",
    "time": "2021-02-03T19:54:43.736Z",
    "type": "completion"
   },
   {
    "code": "PW_comment = PW_sent[PW_sent['Comments'].notnull()]\nprint('How many people in PW commented:', PW_comment.shape[0])\npositive = PW_comment.value_counts('Overall Rating')[2]\nneutral = PW_comment.value_counts(\"Overall Rating\")[0]\nnegative = PW_comment.value_counts('Overall Rating')[1]\nprint('Positive Overall Rating', positive / PW_comment.shape[0] * 100)\nprint('Neutral Overall Rating', neutral / PW_comment.shape[0] * 100)\nprint('Negative Overall Rating', negative / PW_comment.shape[0] * 100)\n\nPW_no_comment = PW_sent[~PW_sent['Comments'].notnull()]\nprint('How many people in PW did not comment', PW_no_comment.shape[0])\npositive_no = PW_no_comment.value_counts('Overall Rating')[0]\nneutral_no = PW_no_comment.value_counts('Overall Rating')[1]\nnegative_no = PW_no_comment.value_counts('Overall Rating')[2]\nprint('Positive Overall Rating', positive_no / PW_no_comment.shape[0] * 100)\nprint('Neutral Overall Rating', neutral_no / PW_no_comment.shape[0] * 100)\nprint('Negative Overall Rating', negative_no / PW_no_comment.shape[0] * 100)",
    "id": "6145e54bc70c4bb08430fb8290682293",
    "idx": 69,
    "time": "2021-02-03T19:54:57.476Z",
    "type": "execution"
   },
   {
    "id": "6145e54bc70c4bb08430fb8290682293",
    "time": "2021-02-03T19:54:57.767Z",
    "type": "completion"
   },
   {
    "code": "from datascience import *\nimport pandas as pd \nimport numpy as np\nimport matplotlib.pyplot as plt\n%matplotlib inline\n\nimport seaborn as sns",
    "id": "37779d88cca3414e84f4989768e7f200",
    "idx": 1,
    "time": "2021-02-03T19:56:58.005Z",
    "type": "execution"
   },
   {
    "id": "37779d88cca3414e84f4989768e7f200",
    "time": "2021-02-03T19:56:59.624Z",
    "type": "completion"
   },
   {
    "code": "survey_data = pd.read_excel('Survey.xlsx', header = None, names = ['Dept', 'Course', 'Overall Rating', 'Useful', 'Clearly',\n                                                                  'Speed', 'Well', 'Comfortable', 'Helpful', 'Comments']) \nsurvey_data.head()",
    "id": "687f3e84d6e04e4181b749282eff3d7c",
    "idx": 3,
    "time": "2021-02-03T19:57:00.676Z",
    "type": "execution"
   },
   {
    "id": "687f3e84d6e04e4181b749282eff3d7c",
    "time": "2021-02-03T19:57:00.951Z",
    "type": "completion"
   },
   {
    "code": "survey_data.drop(0, inplace = True)\nsurvey_data.drop(1, inplace = True)\nsurvey_data.reset_index(inplace = True)\nsurvey_data.drop(['index'], axis = 1, inplace = True)\nsurvey_data.drop([186, 187, 188, 189, 190, 191, 192, 193, 194, 195, 196, 197], inplace = True)\nsurvey_data['Well'].replace('Extremely Well ', 'Extremely Well', inplace = True)\nsurvey_data.head()",
    "id": "bb3ed8317a2c4b7b8ce8675429fa4543",
    "idx": 5,
    "time": "2021-02-03T19:57:01.045Z",
    "type": "execution"
   },
   {
    "code": "survey_data['Dept'] = pd.Categorical(survey_data['Dept'], categories = ['ASD', 'CDD', 'City Att', 'City Clk', 'City Mgr', \n                                                                        'CSD', 'EDD', 'FD', 'HR', 'IT', 'MUD', 'PD', 'PW'], \n                                                ordered = True)\nvalue = survey_data['Dept'].value_counts().sort_index()\n\nvalue.plot(kind = 'barh', figsize = (8,8));\nplt.title('All Dept Count');\nplt.xlabel('Count');\nplt.ylabel('Rating');",
    "id": "3c5e9684e8a64ec98d9edd54b5c2d64a",
    "idx": 7,
    "time": "2021-02-03T19:57:01.253Z",
    "type": "execution"
   },
   {
    "id": "bb3ed8317a2c4b7b8ce8675429fa4543",
    "time": "2021-02-03T19:57:01.332Z",
    "type": "completion"
   },
   {
    "code": "survey_data['Overall Rating'] = pd.Categorical(survey_data['Overall Rating'], categories = ['Poor', 'Fair', 'Good', \n                                                                                              'Very Good', 'Excellent'], \n                                                ordered = True)\nvalue = survey_data['Overall Rating'].value_counts().sort_index()\nvalue.plot(kind = 'barh', figsize = (8,8));\nplt.title('Overall Rating');\nplt.xlabel('Count');\nplt.ylabel('Rating');",
    "id": "5560480f1af14986b180318defa24be7",
    "idx": 9,
    "time": "2021-02-03T19:57:01.558Z",
    "type": "execution"
   },
   {
    "code": "survey_data['Useful'] = pd.Categorical(survey_data['Useful'], categories = ['Not at all Useful', 'Not so Useful', \n                                                                              'Somewhat Useful', 'Very Useful', \n                                                                              'Extremely Useful'], ordered = True)\nvalue = survey_data['Useful'].value_counts().sort_index()\nvalue.plot(kind = 'barh', figsize = (8,8));\nplt.title('How Useful Were The Course Materials?');\nplt.xlabel('Count');\nplt.ylabel('Rating');",
    "id": "5e9d8300a76e49f683a31389af2899f9",
    "idx": 10,
    "time": "2021-02-03T19:57:01.700Z",
    "type": "execution"
   },
   {
    "id": "3c5e9684e8a64ec98d9edd54b5c2d64a",
    "time": "2021-02-03T19:57:01.800Z",
    "type": "completion"
   },
   {
    "code": "survey_data['Clearly'] = pd.Categorical(survey_data['Clearly'], categories = ['Not at all Clearly', 'Not so Clearly', \n                                                                              'Somewhat Clearly', 'Very Clearly', \n                                                                              'Extremely Clearly'], ordered = True)\nvalue = survey_data['Clearly'].value_counts().sort_index()\nvalue.plot(kind = 'barh', figsize = (8,8));\nplt.title('How Clearly Did The Instructor Explain?');\nplt.xlabel('Count');\nplt.ylabel('Rating');",
    "id": "e4fdf93bd16445c58dd8c64f89678527",
    "idx": 11,
    "time": "2021-02-03T19:57:01.833Z",
    "type": "execution"
   },
   {
    "id": "5560480f1af14986b180318defa24be7",
    "time": "2021-02-03T19:57:01.943Z",
    "type": "completion"
   },
   {
    "code": "survey_data['Speed'] = pd.Categorical(survey_data['Speed'], categories = ['Much too Slow', 'Too Slow', \n                                                                              'Right Amount', 'Too Fast', \n                                                                              'Much too Fast'], ordered = True)\nvalue = survey_data['Speed'].value_counts().sort_index()\nvalue.plot(kind = 'barh', figsize = (8,8));\nplt.title('How Was The Speed With Which The Instructor Presented The Material?');\nplt.xlabel('Count');\nplt.ylabel('Rating');",
    "id": "c440c828004a4db1bdd1a1c343bc7d3c",
    "idx": 12,
    "time": "2021-02-03T19:57:01.950Z",
    "type": "execution"
   },
   {
    "id": "5e9d8300a76e49f683a31389af2899f9",
    "time": "2021-02-03T19:57:02.074Z",
    "type": "completion"
   },
   {
    "code": "survey_data['Well'] = pd.Categorical(survey_data['Well'], categories = ['Not at all Well', 'Not so Well', \n                                                                              'Somewhat Well', 'Very Well', \n                                                                              'Extremely Well'], ordered = True)\nvalue = survey_data['Well'].value_counts().sort_index()\nvalue.plot(kind = 'barh', figsize = (8,8));\nplt.title('How Well Did The Instructor Answer Questions?');\nplt.xlabel('Count');\nplt.ylabel('Rating');",
    "id": "a17949540b7a4317a9b0cd776755f78b",
    "idx": 13,
    "time": "2021-02-03T19:57:02.103Z",
    "type": "execution"
   },
   {
    "id": "e4fdf93bd16445c58dd8c64f89678527",
    "time": "2021-02-03T19:57:02.214Z",
    "type": "completion"
   },
   {
    "code": "survey_data['Comfortable'] = pd.Categorical(survey_data['Comfortable'], categories = ['Not at all Comfortable', \n                                                                                      'Not so Comfortable', \n                                                                              'Somewhat Comfortable', 'Very Comfortable', \n                                                                              'Extremely Comfortable'], ordered = True)\nvalue = survey_data['Comfortable'].value_counts().sort_index()\nvalue.plot(kind = 'barh', figsize = (8,8));\nplt.title('How Comfortable Did You Feel Voicing Your Opinion?');\nplt.xlabel('Count');\nplt.ylabel('Rating');",
    "id": "cd81b805fb034da287accc2c7427cd3a",
    "idx": 14,
    "time": "2021-02-03T19:57:02.221Z",
    "type": "execution"
   },
   {
    "code": "survey_data['Helpful'] = pd.Categorical(survey_data['Helpful'], categories = ['Not at all Helpful', 'Not so Helpful', \n                                                                              'Somewhat Helpful', 'Very Helpful', \n                                                                              'Extremely Helpful'], ordered = True)\nvalue = survey_data['Helpful'].value_counts().sort_index()\nvalue.plot(kind = 'barh', figsize = (8,8));\nplt.title('How Helpful Was Tyler University In Preparing You For The Course?');\nplt.xlabel('Count');\nplt.ylabel('Rating');",
    "id": "62222ecedd114fb099eedc29e11bb619",
    "idx": 15,
    "time": "2021-02-03T19:57:02.364Z",
    "type": "execution"
   },
   {
    "id": "c440c828004a4db1bdd1a1c343bc7d3c",
    "time": "2021-02-03T19:57:02.399Z",
    "type": "completion"
   },
   {
    "id": "a17949540b7a4317a9b0cd776755f78b",
    "time": "2021-02-03T19:57:02.582Z",
    "type": "completion"
   },
   {
    "code": "def pos_neg(df):\n    df = df.copy()\n    df['Overall Rating'] = df['Overall Rating'].map({'Poor' : 'Negative', 'Fair' : 'Negative', 'Good' : 'Neutral', \n                                                     'Very Good' : 'Positive', 'Excellent' : 'Positive'})\n    df['Useful'] = df['Useful'].map({'Not at all Useful' : 'Negative', 'Not so Useful' : 'Negative', \n                                     'Somewhat Useful' : 'Neutral', 'Very Useful' : 'Positive', \n                                     'Extremely Useful' : 'Positive'})\n    df['Clearly'] = df['Clearly'].map({'Not at all Clearly' : 'Negative', 'Not so Clearly' : 'Negative', \n                                     'Somewhat Clearly' : 'Neutral', 'Very Clearly' : 'Positive', \n                                     'Extremely Clearly' : 'Positive'})\n    df['Speed'] = df['Speed'].map({'Much too Slow' : 'Negative', 'Too Slow' : 'Negative', 'Right Amount' : 'Positive', \n                                   'Too Fast' : 'Negative', 'Much too Fast' : 'Negative'})\n    df['Well'] = df['Well'].map({'Not at all Well' : 'Negative', 'Not so Well' : 'Negative', \n                                     'Somewhat Well' : 'Neutral', 'Very Well' : 'Positive', \n                                     'Extremely Well' : 'Positive'})\n    df['Comfortable'] = df['Comfortable'].map({'Not at all Comfortable' : 'Negative', 'Not so Comfortable' : 'Negative', \n                                     'Somewhat Comfortable' : 'Neutral', 'Very Comfortable' : 'Positive', \n                                     'Extremely Comfortable' : 'Positive'})\n    df['Helpful'] = df['Helpful'].map({'Not at all Helpful' : 'Negative', 'Not so Helpful' : 'Negative', \n                                     'Somewhat Helpful' : 'Neutral', 'Very Helpful' : 'Positive', \n                                     'Extremely Helpful' : 'Positive'})\n    return df",
    "id": "1d3a27ed649a4dbfb342415c50a6ccb0",
    "idx": 17,
    "time": "2021-02-03T19:57:02.617Z",
    "type": "execution"
   },
   {
    "id": "cd81b805fb034da287accc2c7427cd3a",
    "time": "2021-02-03T19:57:02.811Z",
    "type": "completion"
   },
   {
    "code": "pos_neg_data = pos_neg(survey_data)\npos_neg_data.head()",
    "id": "949e09dfafbf4c0b8c3859d826ff0511",
    "idx": 19,
    "time": "2021-02-03T19:57:02.900Z",
    "type": "execution"
   },
   {
    "id": "62222ecedd114fb099eedc29e11bb619",
    "time": "2021-02-03T19:57:02.985Z",
    "type": "completion"
   },
   {
    "id": "1d3a27ed649a4dbfb342415c50a6ccb0",
    "time": "2021-02-03T19:57:02.996Z",
    "type": "completion"
   },
   {
    "id": "949e09dfafbf4c0b8c3859d826ff0511",
    "time": "2021-02-03T19:57:03.015Z",
    "type": "completion"
   },
   {
    "code": "pos_neg_data['Overall Rating'] = pd.Categorical(pos_neg_data['Overall Rating'], categories = ['Negative', 'Neutral', \n                                                                                              'Positive'], ordered = True)\npos_neg_data_rating = pos_neg_data['Overall Rating'].value_counts().sort_index()\npos_neg_data_rating.plot(kind = \"barh\", figsize = (8,8));\nplt.title('All Dept Overall Rating Sentiment');\nplt.xlabel('Count');\nplt.ylabel('Rating');",
    "id": "4def9ed790a64af8854ffebe054db59a",
    "idx": 21,
    "time": "2021-02-03T19:57:03.201Z",
    "type": "execution"
   },
   {
    "id": "4def9ed790a64af8854ffebe054db59a",
    "time": "2021-02-03T19:57:03.400Z",
    "type": "completion"
   },
   {
    "code": "pos_neg_data.groupby(['Course', 'Overall Rating']).size().unstack().plot(kind='barh', figsize = (8,8),stacked=True);\nplt.title('All Course Overall Rating Sentiment')\nplt.xlabel('Count')\nplt.ylabel('Course Names')\nplt.show()",
    "id": "ebdf50b52078443c87585140d9c7d8ae",
    "idx": 23,
    "time": "2021-02-03T19:57:03.445Z",
    "type": "execution"
   },
   {
    "code": "ASD_sent = pos_neg_data[pos_neg_data['Dept'] == 'ASD']\nASD_sent.groupby(['Course', 'Overall Rating']).size().unstack().plot(kind='barh', figsize = (8,8), stacked=True);\nplt.xlabel(\"Count\");\nplt.ylabel(\"Course\");\nplt.title('ASD: Overall Rating Sentiment');",
    "id": "0bb0dd6ce3c14c90842e19ab447a562d",
    "idx": 25,
    "time": "2021-02-03T19:57:03.714Z",
    "type": "execution"
   },
   {
    "code": "CDD_sent = pos_neg_data[pos_neg_data['Dept'] == 'CDD']\nCDD_sent.groupby(['Course', 'Overall Rating']).size().unstack().plot(kind='barh', figsize = (8,8), stacked=True);\nplt.xlabel(\"Count\");\nplt.ylabel(\"Course\");\nplt.title('CDD: Overall Rating Sentiment');",
    "id": "24ad6cd1bed64e7a839fbb2923ebb4a3",
    "idx": 26,
    "time": "2021-02-03T19:57:03.860Z",
    "type": "execution"
   },
   {
    "code": "City_Att_sent = pos_neg_data[pos_neg_data['Dept'] == 'City Att']\nCity_Att_sent.groupby(['Course', 'Overall Rating']).size().unstack().plot(kind='barh', figsize = (8,8), stacked=True);\nplt.xlabel(\"Count\");\nplt.ylabel(\"Course\");\nplt.title('City Att: Overall Rating Sentiment');",
    "id": "0baa041989f141a884190d2da20db128",
    "idx": 27,
    "time": "2021-02-03T19:57:04.034Z",
    "type": "execution"
   },
   {
    "id": "ebdf50b52078443c87585140d9c7d8ae",
    "time": "2021-02-03T19:57:04.107Z",
    "type": "completion"
   },
   {
    "code": "City_Clk_sent = pos_neg_data[pos_neg_data['Dept'] == 'City Clk']\nCity_Clk_sent.groupby(['Course', 'Overall Rating']).size().unstack().plot(kind='barh', figsize = (8,8), stacked=True);\nplt.xlabel(\"Count\");\nplt.ylabel(\"Course\");\nplt.title('City Clerk: Overall Rating Sentiment');",
    "id": "8d4ef74cc54b4cf3add229cfada06de3",
    "idx": 28,
    "time": "2021-02-03T19:57:04.185Z",
    "type": "execution"
   },
   {
    "code": "City_Mgr_sent = pos_neg_data[pos_neg_data['Dept'] == 'City Mgr']\nCity_Mgr_sent.groupby(['Course', 'Overall Rating']).size().unstack().plot(kind='barh', figsize = (8,8), stacked=True);\nplt.xlabel(\"Count\");\nplt.ylabel(\"Course\");\nplt.title('City Manager: Overall Rating Sentiment');",
    "id": "dbf7b387ceeb455c81bb4d08cc4eae5e",
    "idx": 29,
    "time": "2021-02-03T19:57:04.323Z",
    "type": "execution"
   },
   {
    "id": "0bb0dd6ce3c14c90842e19ab447a562d",
    "time": "2021-02-03T19:57:04.393Z",
    "type": "completion"
   },
   {
    "code": "CSD_sent = pos_neg_data[pos_neg_data['Dept'] == 'CSD']\nCSD_sent.groupby(['Course', 'Overall Rating']).size().unstack().plot(kind='barh', figsize = (8,8), stacked=True);\nplt.xlabel(\"Count\");\nplt.ylabel(\"Course\");\nplt.title('CSD: Overall Rating Sentiment');",
    "id": "e358ab3335fa4a388fe4193d246839ef",
    "idx": 30,
    "time": "2021-02-03T19:57:04.484Z",
    "type": "execution"
   },
   {
    "code": "EDD_sent = pos_neg_data[pos_neg_data['Dept'] == 'EDD']\nEDD_sent.groupby(['Course', 'Overall Rating']).size().unstack().plot(kind='barh', figsize = (8,8), stacked=True);\nplt.xlabel(\"Count\");\nplt.ylabel(\"Course\");\nplt.title('EDD: Overall Rating Sentiment');",
    "id": "a674580e18c2442086f88fc00ac6350f",
    "idx": 31,
    "time": "2021-02-03T19:57:04.628Z",
    "type": "execution"
   },
   {
    "code": "FD_sent = pos_neg_data[pos_neg_data['Dept'] == 'FD']\nFD_sent.groupby(['Course', 'Overall Rating']).size().unstack().plot(kind='barh', figsize = (8,8), stacked=True);\nplt.xlabel(\"Count\");\nplt.ylabel(\"Course\");\nplt.title('FD: Overall Rating Sentiment');",
    "id": "347a5d847c7c427d87fa428da53fb889",
    "idx": 32,
    "time": "2021-02-03T19:57:04.770Z",
    "type": "execution"
   },
   {
    "id": "24ad6cd1bed64e7a839fbb2923ebb4a3",
    "time": "2021-02-03T19:57:04.863Z",
    "type": "completion"
   },
   {
    "code": "HR_sent = pos_neg_data[pos_neg_data['Dept'] == 'HR']\nHR_sent.groupby(['Course', 'Overall Rating']).size().unstack().plot(kind='barh', figsize = (8,8), stacked=True);\nplt.xlabel(\"Count\");\nplt.ylabel(\"Course\");\nplt.title('HR: Overall Rating Sentiment');",
    "id": "622bd6fcbb2f4b82b71bfc702ae8c397",
    "idx": 33,
    "time": "2021-02-03T19:57:04.914Z",
    "type": "execution"
   },
   {
    "id": "0baa041989f141a884190d2da20db128",
    "time": "2021-02-03T19:57:05.012Z",
    "type": "completion"
   },
   {
    "code": "IT_sent = pos_neg_data[pos_neg_data['Dept'] == 'IT']\nIT_sent.groupby(['Course', 'Overall Rating']).size().unstack().plot(kind='barh', figsize = (8,8), stacked=True);\nplt.xlabel(\"Count\");\nplt.ylabel(\"Course\");\nplt.title('IT: Overall Rating Sentiment');",
    "id": "5634493eef4f49999c9c8531e29ec283",
    "idx": 34,
    "time": "2021-02-03T19:57:05.074Z",
    "type": "execution"
   },
   {
    "id": "8d4ef74cc54b4cf3add229cfada06de3",
    "time": "2021-02-03T19:57:05.200Z",
    "type": "completion"
   },
   {
    "code": "MUD_sent = pos_neg_data[pos_neg_data['Dept'] == 'MUD']\nMUD_sent.groupby(['Course', 'Overall Rating']).size().unstack().plot(kind='barh', figsize = (8,8), stacked=True);\nplt.xlabel(\"Count\");\nplt.ylabel(\"Course\");\nplt.title('MUD: Overall Rating Sentiment');",
    "id": "b7cc7cab96ab4560b9424841a618cac7",
    "idx": 35,
    "time": "2021-02-03T19:57:05.219Z",
    "type": "execution"
   },
   {
    "code": "PD_sent = pos_neg_data[pos_neg_data['Dept'] == 'PD']\nPD_sent.groupby(['Course', 'Overall Rating']).size().unstack().plot(kind='barh', figsize = (8,8), stacked=True);\nplt.xlabel(\"Count\");\nplt.ylabel(\"Course\");\nplt.title('PD: Overall Rating Sentiment');",
    "id": "77a8f11da9304da0b0fa8fbd5d2dc8fb",
    "idx": 36,
    "time": "2021-02-03T19:57:05.395Z",
    "type": "execution"
   },
   {
    "id": "dbf7b387ceeb455c81bb4d08cc4eae5e",
    "time": "2021-02-03T19:57:05.546Z",
    "type": "completion"
   },
   {
    "code": "PW_sent = pos_neg_data[pos_neg_data['Dept'] == 'PW']\nPW_sent.groupby(['Course', 'Overall Rating']).size().unstack().plot(kind='barh', figsize = (8,8), stacked=True);\nplt.xlabel(\"Count\");\nplt.ylabel(\"Course\");\nplt.title('PW: Overall Rating Sentiment');",
    "id": "08e7bfad95fc431580820d877142d715",
    "idx": 37,
    "time": "2021-02-03T19:57:05.554Z",
    "type": "execution"
   },
   {
    "code": "comments = pos_neg_data[pos_neg_data['Comments'].notnull()]\nprint('How many people in survey commented:', comments.shape[0])\npositive = comments.value_counts('Overall Rating')[0]\nneutral = comments.value_counts('Overall Rating')[1]\nnegative = comments.value_counts('Overall Rating')[2]\nprint('Positive Overall Rating', positive / comments.shape[0] * 100)\nprint('Neutral Overall Rating', neutral / comments.shape[0] * 100)\nprint('Negative Overall Rating', negative / comments.shape[0] * 100)",
    "id": "e04ea8ee193647438902f2ff4b436718",
    "idx": 39,
    "time": "2021-02-03T19:57:05.858Z",
    "type": "execution"
   },
   {
    "id": "e358ab3335fa4a388fe4193d246839ef",
    "time": "2021-02-03T19:57:05.930Z",
    "type": "completion"
   },
   {
    "code": "no_comments = pos_neg_data[~pos_neg_data['Comments'].notnull()]\nprint('How many people in survey did not comment', no_comments.shape[0])\npositive = no_comments.value_counts('Overall Rating')[0]\nneutral = no_comments.value_counts('Overall Rating')[1]\nnegative = no_comments.value_counts('Overall Rating')[2]\nprint('Positive Overall Rating', positive / no_comments.shape[0] * 100)\nprint('Neutral Overall Rating', neutral / no_comments.shape[0] * 100)\nprint('Negative Overall Rating', negative / no_comments.shape[0] * 100)",
    "id": "d8a853b0839c4e2bbc9ec6f3c66d7583",
    "idx": 40,
    "time": "2021-02-03T19:57:06.004Z",
    "type": "execution"
   },
   {
    "id": "a674580e18c2442086f88fc00ac6350f",
    "time": "2021-02-03T19:57:06.220Z",
    "type": "completion"
   },
   {
    "code": "ASD_sent[~ASD_sent['Comments'].notnull()].value_counts('Overall Rating')",
    "id": "974b31b455094d949ad42ee68929b846",
    "idx": 42,
    "time": "2021-02-03T19:57:06.290Z",
    "type": "execution"
   },
   {
    "code": "ASD_comment = ASD_sent[ASD_sent['Comments'].notnull()]\nprint('How many people in ASD commented:', ASD_comment.shape[0])\npositive = ASD_comment.value_counts('Overall Rating')[0]\nneutral = ASD_comment.value_counts(\"Overall Rating\")[1]\nnegative = ASD_comment.value_counts('Overall Rating')[2]\nprint('Positive Overall Rating', positive / ASD_comment.shape[0] * 100)\nprint('Neutral Overall Rating', neutral / ASD_comment.shape[0] * 100)\nprint('Negative Overall Rating', negative / ASD_comment.shape[0] * 100)\n\nASD_no_comment = ASD_sent[~ASD_sent['Comments'].notnull()]\nprint('How many people in ASD did not comment', ASD_no_comment.shape[0])\npositive_no = ASD_no_comment.value_counts('Overall Rating')[0]\nneutral_no = ASD_no_comment.value_counts('Overall Rating')[1]\nnegative_no = ASD_no_comment.value_counts('Overall Rating')[2]\nprint('Positive Overall Rating', positive_no / ASD_no_comment.shape[0] * 100)\nprint('Neutral Overall Rating', neutral_no / ASD_no_comment.shape[0] * 100)\nprint('Negative Overall Rating', negative_no / ASD_no_comment.shape[0] * 100)",
    "id": "3087f8a9c00a47e4a38ad46d26313cd7",
    "idx": 43,
    "time": "2021-02-03T19:57:06.473Z",
    "type": "execution"
   },
   {
    "id": "347a5d847c7c427d87fa428da53fb889",
    "time": "2021-02-03T19:57:06.580Z",
    "type": "completion"
   },
   {
    "code": "CDD_comment = CDD_sent[CDD_sent['Comments'].notnull()]\nprint('How many people in CDD commented:', CDD_comment.shape[0])\npositive = CDD_comment.value_counts('Overall Rating')[2]\nneutral = CDD_comment.value_counts(\"Overall Rating\")[1]\nnegative = CDD_comment.value_counts('Overall Rating')[0]\nprint('Positive Overall Rating', positive / CDD_comment.shape[0] * 100)\nprint('Neutral Overall Rating', neutral / CDD_comment.shape[0] * 100)\nprint('Negative Overall Rating', negative / CDD_comment.shape[0] * 100)\n\nCDD_no_comment = CDD_sent[~CDD_sent['Comments'].notnull()]\nprint('How many people in CDD did not comment', CDD_no_comment.shape[0])\npositive_no = CDD_no_comment.value_counts('Overall Rating')[0]\nneutral_no = CDD_no_comment.value_counts('Overall Rating')[1]\nnegative_no = CDD_no_comment.value_counts('Overall Rating')[2]\nprint('Positive Overall Rating', positive_no / CDD_no_comment.shape[0] * 100)\nprint('Neutral Overall Rating', neutral_no / CDD_no_comment.shape[0] * 100)\nprint('Negative Overall Rating', negative_no / CDD_no_comment.shape[0] * 100)",
    "id": "d7d4c95916964fc69280d9c1003983b7",
    "idx": 44,
    "time": "2021-02-03T19:57:06.608Z",
    "type": "execution"
   },
   {
    "id": "622bd6fcbb2f4b82b71bfc702ae8c397",
    "time": "2021-02-03T19:57:06.685Z",
    "type": "completion"
   },
   {
    "code": "City_Att_comment = City_Att_sent[City_Att_sent['Comments'].notnull()]\nprint('How many people in City Att commented:', City_Att_comment.shape[0])\npositive = City_Att_comment.value_counts('Overall Rating')[2]\nneutral = City_Att_comment.value_counts(\"Overall Rating\")[1]\nnegative = City_Att_comment.value_counts('Overall Rating')[0]\nprint('Positive Overall Rating', positive / City_Att_comment.shape[0] * 100)\nprint('Neutral Overall Rating', neutral / City_Att_comment.shape[0] * 100)\nprint('Negative Overall Rating', negative / City_Att_comment.shape[0] * 100)\n\nCity_Att_no_comment = City_Att_sent[~City_Att_sent['Comments'].notnull()]\nprint('How many people in City Att did not comment', City_Att_no_comment.shape[0])\npositive_no = City_Att_no_comment.value_counts('Overall Rating')[0]\nneutral_no = City_Att_no_comment.value_counts('Overall Rating')[1]\nnegative_no = City_Att_no_comment.value_counts('Overall Rating')[2]\nprint('Positive Overall Rating', positive_no / City_Att_no_comment.shape[0] * 100)\nprint('Neutral Overall Rating', neutral_no / City_Att_no_comment.shape[0] * 100)\nprint('Negative Overall Rating', negative_no / City_Att_no_comment.shape[0] * 100)",
    "id": "94d68f2a8a0a48bf8a1a97356f17dc90",
    "idx": 45,
    "time": "2021-02-03T19:57:06.741Z",
    "type": "execution"
   },
   {
    "code": "City_Clk_sent[~City_Clk_sent['Comments'].notnull()].value_counts('Overall Rating')",
    "id": "5316a3efa50140bf9f233fe85a5f3876",
    "idx": 46,
    "time": "2021-02-03T19:57:06.882Z",
    "type": "execution"
   },
   {
    "code": "City_Clk_comment = City_Clk_sent[City_Clk_sent['Comments'].notnull()]\nprint('How many people in City Clk commented:', City_Clk_comment.shape[0])\npositive = City_Clk_comment.value_counts('Overall Rating')[1]\nneutral = City_Clk_comment.value_counts(\"Overall Rating\")[2]\nnegative = City_Clk_comment.value_counts('Overall Rating')[0]\nprint('Positive Overall Rating', positive / City_Clk_comment.shape[0] * 100)\nprint('Neutral Overall Rating', neutral / City_Clk_comment.shape[0] * 100)\nprint('Negative Overall Rating', negative / City_Clk_comment.shape[0] * 100)\n\nCity_Clk_no_comment = City_Clk_sent[~City_Clk_sent['Comments'].notnull()]\nprint('How many people in City Clk did not comment', City_Clk_no_comment.shape[0])\npositive_no = City_Clk_no_comment.value_counts('Overall Rating')[0]\nneutral_no = City_Clk_no_comment.value_counts('Overall Rating')[1]\nnegative_no = City_Clk_no_comment.value_counts('Overall Rating')[2]\nprint('Positive Overall Rating', positive_no / City_Clk_no_comment.shape[0] * 100)\nprint('Neutral Overall Rating', neutral_no / City_Clk_no_comment.shape[0] * 100)\nprint('Negative Overall Rating', negative_no / City_Clk_no_comment.shape[0] * 100)",
    "id": "55aa311ba47a4a8ab0a3856e606907ce",
    "idx": 47,
    "time": "2021-02-03T19:57:07.041Z",
    "type": "execution"
   },
   {
    "id": "5634493eef4f49999c9c8531e29ec283",
    "time": "2021-02-03T19:57:07.116Z",
    "type": "completion"
   },
   {
    "code": "City_Mgr_sent[City_Mgr_sent['Comments'].notnull()].value_counts('Overall Rating')",
    "id": "a4c4fc21eb0d49de94e3415b4af1c2a5",
    "idx": 48,
    "time": "2021-02-03T19:57:07.186Z",
    "type": "execution"
   },
   {
    "code": "City_Mgr_comment = City_Mgr_sent[City_Mgr_sent['Comments'].notnull()]\nprint('How many people in City Mgr commented:', City_Mgr_comment.shape[0])\npositive = City_Mgr_comment.value_counts('Overall Rating')[0]\nneutral = City_Mgr_comment.value_counts(\"Overall Rating\")[2]\nnegative = City_Mgr_comment.value_counts('Overall Rating')[1]\nprint('Positive Overall Rating', positive / City_Mgr_comment.shape[0] * 100)\nprint('Neutral Overall Rating', neutral / City_Mgr_comment.shape[0] * 100)\nprint('Negative Overall Rating', negative / City_Mgr_comment.shape[0] * 100)\n\nCity_Mgr_no_comment = City_Mgr_sent[~City_Mgr_sent['Comments'].notnull()]\nprint('How many people in City Mgr did not comment', City_Mgr_no_comment.shape[0])\npositive_no = City_Mgr_no_comment.value_counts('Overall Rating')[1]\nneutral_no = City_Mgr_no_comment.value_counts('Overall Rating')[0]\nnegative_no = City_Mgr_no_comment.value_counts('Overall Rating')[2]\nprint('Positive Overall Rating', positive_no / City_Mgr_no_comment.shape[0] * 100)\nprint('Neutral Overall Rating', neutral_no / City_Mgr_no_comment.shape[0] * 100)\nprint('Negative Overall Rating', negative_no / City_Mgr_no_comment.shape[0] * 100)",
    "id": "2b3ba3fd89024f51a4163b508988b8f0",
    "idx": 49,
    "time": "2021-02-03T19:57:07.337Z",
    "type": "execution"
   },
   {
    "id": "b7cc7cab96ab4560b9424841a618cac7",
    "time": "2021-02-03T19:57:07.422Z",
    "type": "completion"
   },
   {
    "code": "CSD_comment = CSD_sent[CSD_sent['Comments'].notnull()]\nprint('How many people in CSD commented:', CSD_comment.shape[0])\npositive = CSD_comment.value_counts('Overall Rating')[0]\nneutral = CSD_comment.value_counts(\"Overall Rating\")[1]\nnegative = CSD_comment.value_counts('Overall Rating')[2]\nprint('Positive Overall Rating', positive / CSD_comment.shape[0] * 100)\nprint('Neutral Overall Rating', neutral / CSD_comment.shape[0] * 100)\nprint('Negative Overall Rating', negative / CSD_comment.shape[0] * 100)\n\nCSD_no_comment = CSD_sent[~CSD_sent['Comments'].notnull()]\nprint('How many people in CSD did not comment', CSD_no_comment.shape[0])\npositive_no = CSD_no_comment.value_counts('Overall Rating')[0]\nneutral_no = CSD_no_comment.value_counts('Overall Rating')[1]\nnegative_no = CSD_no_comment.value_counts('Overall Rating')[2]\nprint('Positive Overall Rating', positive_no / CSD_no_comment.shape[0] * 100)\nprint('Neutral Overall Rating', neutral_no / CSD_no_comment.shape[0] * 100)\nprint('Negative Overall Rating', negative_no / CSD_no_comment.shape[0] * 100)",
    "id": "f4b81eb11e5145379b4bcfa9b81f2462",
    "idx": 50,
    "time": "2021-02-03T19:57:07.473Z",
    "type": "execution"
   },
   {
    "code": "EDD_comment = EDD_sent[EDD_sent['Comments'].notnull()]\nprint('How many people in EDD commented:', EDD_comment.shape[0])\npositive = EDD_comment.value_counts('Overall Rating')[2]\nneutral = EDD_comment.value_counts(\"Overall Rating\")[1]\nnegative = EDD_comment.value_counts('Overall Rating')[0]\nprint('Positive Overall Rating', positive / EDD_comment.shape[0] * 100)\nprint('Neutral Overall Rating', neutral / EDD_comment.shape[0] * 100)\nprint('Negative Overall Rating', negative / EDD_comment.shape[0] * 100)\n\nEDD_no_comment = EDD_sent[~EDD_sent['Comments'].notnull()]\nprint('How many people in EDD did not comment', EDD_no_comment.shape[0])\npositive_no = EDD_no_comment.value_counts('Overall Rating')[0]\nneutral_no = EDD_no_comment.value_counts('Overall Rating')[1]\nnegative_no = EDD_no_comment.value_counts('Overall Rating')[2]\nprint('Positive Overall Rating', positive_no / EDD_no_comment.shape[0] * 100)\nprint('Neutral Overall Rating', neutral_no / EDD_no_comment.shape[0] * 100)\nprint('Negative Overall Rating', negative_no / EDD_no_comment.shape[0] * 100)",
    "id": "9fa2ff77dad8428484a8e13c1f001297",
    "idx": 51,
    "time": "2021-02-03T19:57:07.635Z",
    "type": "execution"
   },
   {
    "id": "77a8f11da9304da0b0fa8fbd5d2dc8fb",
    "time": "2021-02-03T19:57:07.711Z",
    "type": "completion"
   },
   {
    "code": "FD_comment = FD_sent[FD_sent['Comments'].notnull()]\nprint('How many people in FD commented:', FD_comment.shape[0])\npositive = FD_comment.value_counts('Overall Rating')[0]\nneutral = FD_comment.value_counts(\"Overall Rating\")[1]\nnegative = FD_comment.value_counts('Overall Rating')[2]\nprint('Positive Overall Rating', positive / FD_comment.shape[0] * 100)\nprint('Neutral Overall Rating', neutral / FD_comment.shape[0] * 100)\nprint('Negative Overall Rating', negative / FD_comment.shape[0] * 100)\n\nFD_no_comment = FD_sent[~FD_sent['Comments'].notnull()]\nprint('How many people in FD did not comment', FD_no_comment.shape[0])\npositive_no = FD_no_comment.value_counts('Overall Rating')[0]\nneutral_no = FD_no_comment.value_counts('Overall Rating')[1]\nnegative_no = FD_no_comment.value_counts('Overall Rating')[2]\nprint('Positive Overall Rating', positive_no / FD_no_comment.shape[0] * 100)\nprint('Neutral Overall Rating', neutral_no / FD_no_comment.shape[0] * 100)\nprint('Negative Overall Rating', negative_no / FD_no_comment.shape[0] * 100)",
    "id": "a7e107a2bfe648a491e3af6aeab83788",
    "idx": 52,
    "time": "2021-02-03T19:57:07.763Z",
    "type": "execution"
   },
   {
    "code": "HR_comment = HR_sent[HR_sent['Comments'].notnull()]\nprint('How many people in HR commented:', HR_comment.shape[0])\npositive = HR_comment.value_counts('Overall Rating')[0]\nneutral = HR_comment.value_counts(\"Overall Rating\")[1]\nnegative = HR_comment.value_counts('Overall Rating')[2]\nprint('Positive Overall Rating', positive / HR_comment.shape[0] * 100)\nprint('Neutral Overall Rating', neutral / HR_comment.shape[0] * 100)\nprint('Negative Overall Rating', negative / HR_comment.shape[0] * 100)\n\nHR_no_comment = HR_sent[~HR_sent['Comments'].notnull()]\nprint('How many people in HR did not comment', HR_no_comment.shape[0])\npositive_no = HR_no_comment.value_counts('Overall Rating')[0]\nneutral_no = HR_no_comment.value_counts('Overall Rating')[1]\nnegative_no = HR_no_comment.value_counts('Overall Rating')[2]\nprint('Positive Overall Rating', positive_no / HR_no_comment.shape[0] * 100)\nprint('Neutral Overall Rating', neutral_no / HR_no_comment.shape[0] * 100)\nprint('Negative Overall Rating', negative_no / HR_no_comment.shape[0] * 100)",
    "id": "b04e5c5b96e34526ade6cf14eb5bf295",
    "idx": 53,
    "time": "2021-02-03T19:57:07.937Z",
    "type": "execution"
   },
   {
    "code": "IT_comment = IT_sent[IT_sent['Comments'].notnull()]\nprint('How many people in IT commented:', IT_comment.shape[0])\npositive = IT_comment.value_counts('Overall Rating')[0]\nneutral = IT_comment.value_counts(\"Overall Rating\")[1]\nnegative = IT_comment.value_counts('Overall Rating')[2]\nprint('Positive Overall Rating', positive / IT_comment.shape[0] * 100)\nprint('Neutral Overall Rating', neutral / IT_comment.shape[0] * 100)\nprint('Negative Overall Rating', negative / IT_comment.shape[0] * 100)\n\nIT_no_comment = IT_sent[~IT_sent['Comments'].notnull()]\nprint('How many people in IT did not comment', IT_no_comment.shape[0])\npositive_no = IT_no_comment.value_counts('Overall Rating')[0]\nneutral_no = IT_no_comment.value_counts('Overall Rating')[1]\nnegative_no = IT_no_comment.value_counts('Overall Rating')[2]\nprint('Positive Overall Rating', positive_no / IT_no_comment.shape[0] * 100)\nprint('Neutral Overall Rating', neutral_no / IT_no_comment.shape[0] * 100)\nprint('Negative Overall Rating', negative_no / IT_no_comment.shape[0] * 100)",
    "id": "bbb93a290d664f4f97b4fab02259c5d7",
    "idx": 54,
    "time": "2021-02-03T19:57:08.066Z",
    "type": "execution"
   },
   {
    "id": "08e7bfad95fc431580820d877142d715",
    "time": "2021-02-03T19:57:08.174Z",
    "type": "completion"
   },
   {
    "id": "e04ea8ee193647438902f2ff4b436718",
    "time": "2021-02-03T19:57:08.182Z",
    "type": "completion"
   },
   {
    "id": "d8a853b0839c4e2bbc9ec6f3c66d7583",
    "time": "2021-02-03T19:57:08.195Z",
    "type": "completion"
   },
   {
    "id": "974b31b455094d949ad42ee68929b846",
    "time": "2021-02-03T19:57:08.211Z",
    "type": "completion"
   },
   {
    "id": "3087f8a9c00a47e4a38ad46d26313cd7",
    "time": "2021-02-03T19:57:08.223Z",
    "type": "completion"
   },
   {
    "code": "MUD_comment = MUD_sent[MUD_sent['Comments'].notnull()]\nprint('How many people in MUD commented:', MUD_comment.shape[0])\npositive = MUD_comment.value_counts('Overall Rating')[0]\nneutral = MUD_comment.value_counts(\"Overall Rating\")[1]\nnegative = MUD_comment.value_counts('Overall Rating')[2]\nprint('Positive Overall Rating', positive / MUD_comment.shape[0] * 100)\nprint('Neutral Overall Rating', neutral / MUD_comment.shape[0] * 100)\nprint('Negative Overall Rating', negative / MUD_comment.shape[0] * 100)\n\nMUD_no_comment = MUD_sent[~MUD_sent['Comments'].notnull()]\nprint('How many people in MUD did not comment', MUD_no_comment.shape[0])\npositive_no = MUD_no_comment.value_counts('Overall Rating')[1]\nneutral_no = MUD_no_comment.value_counts('Overall Rating')[0]\nnegative_no = MUD_no_comment.value_counts('Overall Rating')[2]\nprint('Positive Overall Rating', positive_no / MUD_no_comment.shape[0] * 100)\nprint('Neutral Overall Rating', neutral_no / MUD_no_comment.shape[0] * 100)\nprint('Negative Overall Rating', negative_no / MUD_no_comment.shape[0] * 100)",
    "id": "a0433c581e14477e827b6bb0ce080d01",
    "idx": 55,
    "time": "2021-02-03T19:57:08.231Z",
    "type": "execution"
   },
   {
    "id": "d7d4c95916964fc69280d9c1003983b7",
    "time": "2021-02-03T19:57:08.362Z",
    "type": "completion"
   },
   {
    "code": "PD_comment = PD_sent[PD_sent['Comments'].notnull()]\nprint('How many people in PD commented:', PD_comment.shape[0])\npositive = PD_comment.value_counts('Overall Rating')[2]\nneutral = PD_comment.value_counts(\"Overall Rating\")[1]\nnegative = PD_comment.value_counts('Overall Rating')[0]\nprint('Positive Overall Rating', positive / PD_comment.shape[0] * 100)\nprint('Neutral Overall Rating', neutral / PD_comment.shape[0] * 100)\nprint('Negative Overall Rating', negative / PD_comment.shape[0] * 100)\n\nPD_no_comment = PD_sent[~PD_sent['Comments'].notnull()]\nprint('How many people in PD did not comment', PD_no_comment.shape[0])\npositive_no = PD_no_comment.value_counts('Overall Rating')[0]\nneutral_no = PD_no_comment.value_counts('Overall Rating')[1]\nnegative_no = PD_no_comment.value_counts('Overall Rating')[2]\nprint('Positive Overall Rating', positive_no / PD_no_comment.shape[0] * 100)\nprint('Neutral Overall Rating', neutral_no / PD_no_comment.shape[0] * 100)\nprint('Negative Overall Rating', negative_no / PD_no_comment.shape[0] * 100)",
    "id": "165c952ac47f449285bd56756a0bc264",
    "idx": 56,
    "time": "2021-02-03T19:57:08.383Z",
    "type": "execution"
   },
   {
    "id": "94d68f2a8a0a48bf8a1a97356f17dc90",
    "time": "2021-02-03T19:57:08.495Z",
    "type": "completion"
   },
   {
    "id": "5316a3efa50140bf9f233fe85a5f3876",
    "time": "2021-02-03T19:57:08.500Z",
    "type": "completion"
   },
   {
    "id": "55aa311ba47a4a8ab0a3856e606907ce",
    "time": "2021-02-03T19:57:08.517Z",
    "type": "completion"
   },
   {
    "code": "PW_comment = PW_sent[PW_sent['Comments'].notnull()]\nprint('How many people in PW commented:', PW_comment.shape[0])\npositive = PW_comment.value_counts('Overall Rating')[2]\nneutral = PW_comment.value_counts(\"Overall Rating\")[0]\nnegative = PW_comment.value_counts('Overall Rating')[1]\nprint('Positive Overall Rating', positive / PW_comment.shape[0] * 100)\nprint('Neutral Overall Rating', neutral / PW_comment.shape[0] * 100)\nprint('Negative Overall Rating', negative / PW_comment.shape[0] * 100)\n\nPW_no_comment = PW_sent[~PW_sent['Comments'].notnull()]\nprint('How many people in PW did not comment', PW_no_comment.shape[0])\npositive_no = PW_no_comment.value_counts('Overall Rating')[0]\nneutral_no = PW_no_comment.value_counts('Overall Rating')[1]\nnegative_no = PW_no_comment.value_counts('Overall Rating')[2]\nprint('Positive Overall Rating', positive_no / PW_no_comment.shape[0] * 100)\nprint('Neutral Overall Rating', neutral_no / PW_no_comment.shape[0] * 100)\nprint('Negative Overall Rating', negative_no / PW_no_comment.shape[0] * 100)",
    "id": "6145e54bc70c4bb08430fb8290682293",
    "idx": 57,
    "time": "2021-02-03T19:57:08.531Z",
    "type": "execution"
   },
   {
    "id": "a4c4fc21eb0d49de94e3415b4af1c2a5",
    "time": "2021-02-03T19:57:08.637Z",
    "type": "completion"
   },
   {
    "id": "2b3ba3fd89024f51a4163b508988b8f0",
    "time": "2021-02-03T19:57:08.651Z",
    "type": "completion"
   },
   {
    "id": "f4b81eb11e5145379b4bcfa9b81f2462",
    "time": "2021-02-03T19:57:08.655Z",
    "type": "completion"
   },
   {
    "id": "9fa2ff77dad8428484a8e13c1f001297",
    "time": "2021-02-03T19:57:08.672Z",
    "type": "completion"
   },
   {
    "id": "a7e107a2bfe648a491e3af6aeab83788",
    "time": "2021-02-03T19:57:08.870Z",
    "type": "completion"
   },
   {
    "id": "b04e5c5b96e34526ade6cf14eb5bf295",
    "time": "2021-02-03T19:57:08.876Z",
    "type": "completion"
   },
   {
    "id": "bbb93a290d664f4f97b4fab02259c5d7",
    "time": "2021-02-03T19:57:08.880Z",
    "type": "completion"
   },
   {
    "id": "a0433c581e14477e827b6bb0ce080d01",
    "time": "2021-02-03T19:57:08.921Z",
    "type": "completion"
   },
   {
    "id": "165c952ac47f449285bd56756a0bc264",
    "time": "2021-02-03T19:57:08.927Z",
    "type": "completion"
   },
   {
    "id": "6145e54bc70c4bb08430fb8290682293",
    "time": "2021-02-03T19:57:08.939Z",
    "type": "completion"
   }
  ],
  "kernelspec": {
   "display_name": "Python 3",
   "language": "python",
   "name": "python3"
  },
  "language_info": {
   "codemirror_mode": {
    "name": "ipython",
    "version": 3
   },
   "file_extension": ".py",
   "mimetype": "text/x-python",
   "name": "python",
   "nbconvert_exporter": "python",
   "pygments_lexer": "ipython3",
   "version": "3.8.8"
  }
 },
 "nbformat": 4,
 "nbformat_minor": 4
}
